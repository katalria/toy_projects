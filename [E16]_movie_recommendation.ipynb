{
 "cells": [
  {
   "cell_type": "markdown",
   "id": "9e2a9035",
   "metadata": {},
   "source": [
    "# [E16]_Movie_Recommendation"
   ]
  },
  {
   "cell_type": "markdown",
   "id": "72dbe0fe",
   "metadata": {},
   "source": [
    "# 목차\n",
    "[01 데이터 전처리](#01-데이터-전처리)  \n",
    "[02 미니 배치 구성](#02-미니-배치-구성)  \n",
    "[03 모델 구성](#03-모델-구성)  \n",
    "[04 모델 학습](#04-모델-학습)  \n",
    "[05 회고](#05-회고)"
   ]
  },
  {
   "cell_type": "markdown",
   "id": "20ec58d7",
   "metadata": {},
   "source": [
    "## 01 데이터 전처리"
   ]
  },
  {
   "cell_type": "code",
   "execution_count": 1,
   "id": "77cee6e5",
   "metadata": {},
   "outputs": [],
   "source": [
    "import datetime as dt\n",
    "from pathlib import Path\n",
    "import os\n",
    "import matplotlib.pyplot as plt\n",
    "\n",
    "import tensorflow as tf\n",
    "from tensorflow.keras.layers import Input, Dense, Dropout, GRU\n",
    "from tensorflow.keras.losses import categorical_crossentropy\n",
    "from tensorflow.keras.models import Model\n",
    "from tensorflow.keras.optimizers import Adam\n",
    "from tensorflow.keras.utils import to_categorical\n",
    "from tqdm import tqdm\n",
    "\n",
    "import numpy as np\n",
    "import pandas as pd\n",
    "import warnings\n",
    "warnings.filterwarnings('ignore')"
   ]
  },
  {
   "cell_type": "markdown",
   "id": "8bec36d3",
   "metadata": {},
   "source": [
    "* pathlib : 파일경로를 설정하기 위한 패키지\n",
    "* warnings.filterwarnings('ignore') : 발생되는 경고(warnings)를 출력 안되게 하는 설정"
   ]
  },
  {
   "cell_type": "code",
   "execution_count": 2,
   "id": "f0648186",
   "metadata": {},
   "outputs": [
    {
     "data": {
      "text/html": [
       "<div>\n",
       "<style scoped>\n",
       "    .dataframe tbody tr th:only-of-type {\n",
       "        vertical-align: middle;\n",
       "    }\n",
       "\n",
       "    .dataframe tbody tr th {\n",
       "        vertical-align: top;\n",
       "    }\n",
       "\n",
       "    .dataframe thead th {\n",
       "        text-align: right;\n",
       "    }\n",
       "</style>\n",
       "<table border=\"1\" class=\"dataframe\">\n",
       "  <thead>\n",
       "    <tr style=\"text-align: right;\">\n",
       "      <th></th>\n",
       "      <th>UserId</th>\n",
       "      <th>ItemId</th>\n",
       "      <th>Rating</th>\n",
       "      <th>Time</th>\n",
       "    </tr>\n",
       "  </thead>\n",
       "  <tbody>\n",
       "    <tr>\n",
       "      <th>31</th>\n",
       "      <td>1</td>\n",
       "      <td>3186</td>\n",
       "      <td>4</td>\n",
       "      <td>978300019</td>\n",
       "    </tr>\n",
       "    <tr>\n",
       "      <th>22</th>\n",
       "      <td>1</td>\n",
       "      <td>1270</td>\n",
       "      <td>5</td>\n",
       "      <td>978300055</td>\n",
       "    </tr>\n",
       "    <tr>\n",
       "      <th>27</th>\n",
       "      <td>1</td>\n",
       "      <td>1721</td>\n",
       "      <td>4</td>\n",
       "      <td>978300055</td>\n",
       "    </tr>\n",
       "    <tr>\n",
       "      <th>37</th>\n",
       "      <td>1</td>\n",
       "      <td>1022</td>\n",
       "      <td>5</td>\n",
       "      <td>978300055</td>\n",
       "    </tr>\n",
       "    <tr>\n",
       "      <th>24</th>\n",
       "      <td>1</td>\n",
       "      <td>2340</td>\n",
       "      <td>3</td>\n",
       "      <td>978300103</td>\n",
       "    </tr>\n",
       "    <tr>\n",
       "      <th>...</th>\n",
       "      <td>...</td>\n",
       "      <td>...</td>\n",
       "      <td>...</td>\n",
       "      <td>...</td>\n",
       "    </tr>\n",
       "    <tr>\n",
       "      <th>1000019</th>\n",
       "      <td>6040</td>\n",
       "      <td>2917</td>\n",
       "      <td>4</td>\n",
       "      <td>997454429</td>\n",
       "    </tr>\n",
       "    <tr>\n",
       "      <th>999988</th>\n",
       "      <td>6040</td>\n",
       "      <td>1921</td>\n",
       "      <td>4</td>\n",
       "      <td>997454464</td>\n",
       "    </tr>\n",
       "    <tr>\n",
       "      <th>1000172</th>\n",
       "      <td>6040</td>\n",
       "      <td>1784</td>\n",
       "      <td>3</td>\n",
       "      <td>997454464</td>\n",
       "    </tr>\n",
       "    <tr>\n",
       "      <th>1000167</th>\n",
       "      <td>6040</td>\n",
       "      <td>161</td>\n",
       "      <td>3</td>\n",
       "      <td>997454486</td>\n",
       "    </tr>\n",
       "    <tr>\n",
       "      <th>1000042</th>\n",
       "      <td>6040</td>\n",
       "      <td>1221</td>\n",
       "      <td>4</td>\n",
       "      <td>998315055</td>\n",
       "    </tr>\n",
       "  </tbody>\n",
       "</table>\n",
       "<p>1000209 rows × 4 columns</p>\n",
       "</div>"
      ],
      "text/plain": [
       "         UserId  ItemId  Rating       Time\n",
       "31            1    3186       4  978300019\n",
       "22            1    1270       5  978300055\n",
       "27            1    1721       4  978300055\n",
       "37            1    1022       5  978300055\n",
       "24            1    2340       3  978300103\n",
       "...         ...     ...     ...        ...\n",
       "1000019    6040    2917       4  997454429\n",
       "999988     6040    1921       4  997454464\n",
       "1000172    6040    1784       3  997454464\n",
       "1000167    6040     161       3  997454486\n",
       "1000042    6040    1221       4  998315055\n",
       "\n",
       "[1000209 rows x 4 columns]"
      ]
     },
     "execution_count": 2,
     "metadata": {},
     "output_type": "execute_result"
    }
   ],
   "source": [
    "data_path = Path(os.getenv('HOME')+'/aiffel/yoochoose/data/') \n",
    "train_path = data_path / 'ratings.dat'\n",
    "\n",
    "def load_data(data_path: Path, nrows=None):\n",
    "    data = pd.read_csv(data_path, sep='::', header=None, usecols=[0, 1, 2, 3], dtype={0: np.int32, 1: np.int32, 2: np.int32}, nrows=nrows)\n",
    "    data.columns = ['UserId', 'ItemId', 'Rating', 'Time']\n",
    "    return data\n",
    "\n",
    "data = load_data(train_path, None)\n",
    "data.sort_values(['UserId', 'Time'], inplace=True)  # data를 id와 시간 순서로 정렬해줍니다.\n",
    "data"
   ]
  },
  {
   "cell_type": "markdown",
   "id": "513a213f",
   "metadata": {},
   "source": [
    "* data_path: Path : 함수에 입력되는 파라미터의 이름과 입력되는 파라미터의 형태 설정\n",
    "* pd.read_csv(nrow) : nrow는 전체 데이터에서 선택할 데이터 조절 여기서는 None으로 전체 데이터 선택\n",
    "* data.sort_values(['UserId', 'Time'], inplace=True) : 칼럼 리스트의 첫번째 값으로 먼저 sort한 후, 두번째 값으로 sort\n",
    "* Time 항목에는 UTC time 가 포함되어, 1970년 1월 1일부터 경과된 초 단위 시간이 기재"
   ]
  },
  {
   "cell_type": "code",
   "execution_count": 3,
   "id": "17986959",
   "metadata": {},
   "outputs": [],
   "source": [
    "data.reset_index(drop=True, inplace = True)"
   ]
  },
  {
   "cell_type": "code",
   "execution_count": 4,
   "id": "569278ec",
   "metadata": {},
   "outputs": [],
   "source": [
    "data['Time'] = dt.datetime(1970,1,1)+pd.to_timedelta(data['Time'],unit='s')"
   ]
  },
  {
   "cell_type": "code",
   "execution_count": 5,
   "id": "6db89adb",
   "metadata": {},
   "outputs": [
    {
     "data": {
      "text/html": [
       "<div>\n",
       "<style scoped>\n",
       "    .dataframe tbody tr th:only-of-type {\n",
       "        vertical-align: middle;\n",
       "    }\n",
       "\n",
       "    .dataframe tbody tr th {\n",
       "        vertical-align: top;\n",
       "    }\n",
       "\n",
       "    .dataframe thead th {\n",
       "        text-align: right;\n",
       "    }\n",
       "</style>\n",
       "<table border=\"1\" class=\"dataframe\">\n",
       "  <thead>\n",
       "    <tr style=\"text-align: right;\">\n",
       "      <th></th>\n",
       "      <th>UserId</th>\n",
       "      <th>ItemId</th>\n",
       "      <th>Rating</th>\n",
       "      <th>Time</th>\n",
       "    </tr>\n",
       "  </thead>\n",
       "  <tbody>\n",
       "    <tr>\n",
       "      <th>0</th>\n",
       "      <td>1</td>\n",
       "      <td>3186</td>\n",
       "      <td>4</td>\n",
       "      <td>2000-12-31 22:00:19</td>\n",
       "    </tr>\n",
       "    <tr>\n",
       "      <th>1</th>\n",
       "      <td>1</td>\n",
       "      <td>1270</td>\n",
       "      <td>5</td>\n",
       "      <td>2000-12-31 22:00:55</td>\n",
       "    </tr>\n",
       "    <tr>\n",
       "      <th>2</th>\n",
       "      <td>1</td>\n",
       "      <td>1721</td>\n",
       "      <td>4</td>\n",
       "      <td>2000-12-31 22:00:55</td>\n",
       "    </tr>\n",
       "    <tr>\n",
       "      <th>3</th>\n",
       "      <td>1</td>\n",
       "      <td>1022</td>\n",
       "      <td>5</td>\n",
       "      <td>2000-12-31 22:00:55</td>\n",
       "    </tr>\n",
       "    <tr>\n",
       "      <th>4</th>\n",
       "      <td>1</td>\n",
       "      <td>2340</td>\n",
       "      <td>3</td>\n",
       "      <td>2000-12-31 22:01:43</td>\n",
       "    </tr>\n",
       "    <tr>\n",
       "      <th>...</th>\n",
       "      <td>...</td>\n",
       "      <td>...</td>\n",
       "      <td>...</td>\n",
       "      <td>...</td>\n",
       "    </tr>\n",
       "    <tr>\n",
       "      <th>1000204</th>\n",
       "      <td>6040</td>\n",
       "      <td>2917</td>\n",
       "      <td>4</td>\n",
       "      <td>2001-08-10 14:40:29</td>\n",
       "    </tr>\n",
       "    <tr>\n",
       "      <th>1000205</th>\n",
       "      <td>6040</td>\n",
       "      <td>1921</td>\n",
       "      <td>4</td>\n",
       "      <td>2001-08-10 14:41:04</td>\n",
       "    </tr>\n",
       "    <tr>\n",
       "      <th>1000206</th>\n",
       "      <td>6040</td>\n",
       "      <td>1784</td>\n",
       "      <td>3</td>\n",
       "      <td>2001-08-10 14:41:04</td>\n",
       "    </tr>\n",
       "    <tr>\n",
       "      <th>1000207</th>\n",
       "      <td>6040</td>\n",
       "      <td>161</td>\n",
       "      <td>3</td>\n",
       "      <td>2001-08-10 14:41:26</td>\n",
       "    </tr>\n",
       "    <tr>\n",
       "      <th>1000208</th>\n",
       "      <td>6040</td>\n",
       "      <td>1221</td>\n",
       "      <td>4</td>\n",
       "      <td>2001-08-20 13:44:15</td>\n",
       "    </tr>\n",
       "  </tbody>\n",
       "</table>\n",
       "<p>1000209 rows × 4 columns</p>\n",
       "</div>"
      ],
      "text/plain": [
       "         UserId  ItemId  Rating                Time\n",
       "0             1    3186       4 2000-12-31 22:00:19\n",
       "1             1    1270       5 2000-12-31 22:00:55\n",
       "2             1    1721       4 2000-12-31 22:00:55\n",
       "3             1    1022       5 2000-12-31 22:00:55\n",
       "4             1    2340       3 2000-12-31 22:01:43\n",
       "...         ...     ...     ...                 ...\n",
       "1000204    6040    2917       4 2001-08-10 14:40:29\n",
       "1000205    6040    1921       4 2001-08-10 14:41:04\n",
       "1000206    6040    1784       3 2001-08-10 14:41:04\n",
       "1000207    6040     161       3 2001-08-10 14:41:26\n",
       "1000208    6040    1221       4 2001-08-20 13:44:15\n",
       "\n",
       "[1000209 rows x 4 columns]"
      ]
     },
     "execution_count": 5,
     "metadata": {},
     "output_type": "execute_result"
    }
   ],
   "source": [
    "data"
   ]
  },
  {
   "cell_type": "markdown",
   "id": "d81ae81c",
   "metadata": {},
   "source": [
    "### 01-01 데이터 EDA"
   ]
  },
  {
   "cell_type": "code",
   "execution_count": 6,
   "id": "5123335e",
   "metadata": {},
   "outputs": [],
   "source": [
    "UserId_length = data.groupby('UserId').size()"
   ]
  },
  {
   "cell_type": "code",
   "execution_count": 7,
   "id": "61a4576b",
   "metadata": {},
   "outputs": [
    {
     "name": "stdout",
     "output_type": "stream",
     "text": [
      "UserId Count : 6040\n",
      "ItemId Count : 3706\n"
     ]
    }
   ],
   "source": [
    "print(\"UserId Count : %s\" % data['UserId'].nunique())\n",
    "print(\"ItemId Count : %s\" % data['ItemId'].nunique())\n"
   ]
  },
  {
   "cell_type": "code",
   "execution_count": 8,
   "id": "6a175cf0",
   "metadata": {},
   "outputs": [
    {
     "name": "stdout",
     "output_type": "stream",
     "text": [
      "UserId meadin : 96.0\n",
      "UserId mean : 165.5975165562914\n",
      "UserId min : 20\n",
      "UserId max : 2314\n"
     ]
    }
   ],
   "source": [
    "print(\"UserId meadin : %s\" % UserId_length.median())\n",
    "print(\"UserId mean : %s\" % UserId_length.mean())\n",
    "print(\"UserId min : %s\" % UserId_length.min())\n",
    "print(\"UserId max : %s\" % UserId_length.max())"
   ]
  },
  {
   "cell_type": "code",
   "execution_count": 9,
   "id": "ac54b027",
   "metadata": {},
   "outputs": [
    {
     "data": {
      "text/plain": [
       "20      0.014238\n",
       "21      0.029305\n",
       "22      0.042053\n",
       "23      0.055464\n",
       "24      0.068874\n",
       "          ...   \n",
       "1271    0.998179\n",
       "1277    0.998344\n",
       "1286    0.998510\n",
       "1302    0.998675\n",
       "1323    0.998841\n",
       "Length: 736, dtype: float64"
      ]
     },
     "execution_count": 9,
     "metadata": {},
     "output_type": "execute_result"
    }
   ],
   "source": [
    "length_count = UserId_length.groupby(UserId_length).size()\n",
    "length_percent_cumsum = length_count.cumsum() / length_count.sum()\n",
    "length_percent_cumsum_999 = length_percent_cumsum[length_percent_cumsum < 0.999]\n",
    "\n",
    "length_percent_cumsum_999"
   ]
  },
  {
   "cell_type": "code",
   "execution_count": 10,
   "id": "110a5ae2",
   "metadata": {},
   "outputs": [
    {
     "data": {
      "image/png": "[encoded data removed]",
      "text/plain": [
       "<Figure size 864x720 with 1 Axes>"
      ]
     },
     "metadata": {
      "needs_background": "light"
     },
     "output_type": "display_data"
    }
   ],
   "source": [
    "plt.figure(figsize=(12, 10))\n",
    "plt.bar(x=length_percent_cumsum_999.index,\n",
    "        height=length_percent_cumsum_999, color='red')\n",
    "plt.xticks(length_percent_cumsum_999.index[::50])\n",
    "plt.yticks(np.arange(0, 1.01, 0.05))\n",
    "plt.title('Cumsum Percentage Until 0.999', size=20)\n",
    "plt.show()"
   ]
  },
  {
   "cell_type": "markdown",
   "id": "7509f711",
   "metadata": {},
   "source": [
    "* data 유저별 시청한 영화 개수 시각화"
   ]
  },
  {
   "cell_type": "code",
   "execution_count": 11,
   "id": "0c62dd77",
   "metadata": {},
   "outputs": [
    {
     "name": "stdout",
     "output_type": "stream",
     "text": [
      "2000-04-25 23:05:32\n",
      "2003-02-28 17:49:50\n"
     ]
    }
   ],
   "source": [
    "oldest, latest = data['Time'].min(), data['Time'].max()\n",
    "print(oldest) \n",
    "print(latest)"
   ]
  },
  {
   "cell_type": "code",
   "execution_count": 12,
   "id": "9cb86824",
   "metadata": {},
   "outputs": [
    {
     "data": {
      "text/html": [
       "<div>\n",
       "<style scoped>\n",
       "    .dataframe tbody tr th:only-of-type {\n",
       "        vertical-align: middle;\n",
       "    }\n",
       "\n",
       "    .dataframe tbody tr th {\n",
       "        vertical-align: top;\n",
       "    }\n",
       "\n",
       "    .dataframe thead th {\n",
       "        text-align: right;\n",
       "    }\n",
       "</style>\n",
       "<table border=\"1\" class=\"dataframe\">\n",
       "  <thead>\n",
       "    <tr style=\"text-align: right;\">\n",
       "      <th></th>\n",
       "      <th>UserId</th>\n",
       "      <th>ItemId</th>\n",
       "      <th>Rating</th>\n",
       "      <th>Time</th>\n",
       "    </tr>\n",
       "  </thead>\n",
       "  <tbody>\n",
       "    <tr>\n",
       "      <th>0</th>\n",
       "      <td>59</td>\n",
       "      <td>2997</td>\n",
       "      <td>4</td>\n",
       "      <td>2003-01-07 18:02:48</td>\n",
       "    </tr>\n",
       "    <tr>\n",
       "      <th>1</th>\n",
       "      <td>59</td>\n",
       "      <td>2147</td>\n",
       "      <td>2</td>\n",
       "      <td>2003-01-07 18:03:59</td>\n",
       "    </tr>\n",
       "    <tr>\n",
       "      <th>2</th>\n",
       "      <td>59</td>\n",
       "      <td>2369</td>\n",
       "      <td>4</td>\n",
       "      <td>2003-01-07 18:04:24</td>\n",
       "    </tr>\n",
       "    <tr>\n",
       "      <th>3</th>\n",
       "      <td>59</td>\n",
       "      <td>3408</td>\n",
       "      <td>4</td>\n",
       "      <td>2003-01-07 18:04:52</td>\n",
       "    </tr>\n",
       "    <tr>\n",
       "      <th>4</th>\n",
       "      <td>59</td>\n",
       "      <td>2712</td>\n",
       "      <td>3</td>\n",
       "      <td>2003-01-07 18:04:52</td>\n",
       "    </tr>\n",
       "    <tr>\n",
       "      <th>...</th>\n",
       "      <td>...</td>\n",
       "      <td>...</td>\n",
       "      <td>...</td>\n",
       "      <td>...</td>\n",
       "    </tr>\n",
       "    <tr>\n",
       "      <th>3379</th>\n",
       "      <td>5950</td>\n",
       "      <td>3948</td>\n",
       "      <td>4</td>\n",
       "      <td>2003-02-27 18:13:57</td>\n",
       "    </tr>\n",
       "    <tr>\n",
       "      <th>3380</th>\n",
       "      <td>5950</td>\n",
       "      <td>3578</td>\n",
       "      <td>4</td>\n",
       "      <td>2003-02-27 18:14:30</td>\n",
       "    </tr>\n",
       "    <tr>\n",
       "      <th>3381</th>\n",
       "      <td>5950</td>\n",
       "      <td>3793</td>\n",
       "      <td>3</td>\n",
       "      <td>2003-02-27 18:15:10</td>\n",
       "    </tr>\n",
       "    <tr>\n",
       "      <th>3382</th>\n",
       "      <td>5950</td>\n",
       "      <td>3555</td>\n",
       "      <td>2</td>\n",
       "      <td>2003-02-27 18:15:37</td>\n",
       "    </tr>\n",
       "    <tr>\n",
       "      <th>3383</th>\n",
       "      <td>5950</td>\n",
       "      <td>1262</td>\n",
       "      <td>4</td>\n",
       "      <td>2003-02-27 18:17:38</td>\n",
       "    </tr>\n",
       "  </tbody>\n",
       "</table>\n",
       "<p>3384 rows × 4 columns</p>\n",
       "</div>"
      ],
      "text/plain": [
       "      UserId  ItemId  Rating                Time\n",
       "0         59    2997       4 2003-01-07 18:02:48\n",
       "1         59    2147       2 2003-01-07 18:03:59\n",
       "2         59    2369       4 2003-01-07 18:04:24\n",
       "3         59    3408       4 2003-01-07 18:04:52\n",
       "4         59    2712       3 2003-01-07 18:04:52\n",
       "...      ...     ...     ...                 ...\n",
       "3379    5950    3948       4 2003-02-27 18:13:57\n",
       "3380    5950    3578       4 2003-02-27 18:14:30\n",
       "3381    5950    3793       3 2003-02-27 18:15:10\n",
       "3382    5950    3555       2 2003-02-27 18:15:37\n",
       "3383    5950    1262       4 2003-02-27 18:17:38\n",
       "\n",
       "[3384 rows x 4 columns]"
      ]
     },
     "execution_count": 12,
     "metadata": {},
     "output_type": "execute_result"
    }
   ],
   "source": [
    "month_ago = latest - dt.timedelta(60)     \n",
    "data_1 = data[data['Time'] > month_ago]  \n",
    "data_1.reset_index(drop=True, inplace = True)\n",
    "data_1"
   ]
  },
  {
   "cell_type": "code",
   "execution_count": 13,
   "id": "f335493c",
   "metadata": {},
   "outputs": [
    {
     "data": {
      "text/plain": [
       "0.0033832928917856167"
      ]
     },
     "execution_count": 13,
     "metadata": {},
     "output_type": "execute_result"
    }
   ],
   "source": [
    "len(data_1)/len(data)"
   ]
  },
  {
   "cell_type": "markdown",
   "id": "2811ee5a",
   "metadata": {},
   "source": [
    "* 추천 시스템의 경우 최근 소비 트렌드를 학습하는 것이 중요\n",
    "* 적절한 데이터의 수를 유지하며 최근 데이터만 사용하는 것이 중요\n",
    "* 최근 2달 데이터로는 전체 데이터의 0.3%만 사용\n",
    "* 우선 데이터 전체를 사용하고 점차 감소 시키는 방향으로 전환 > 소비 트렌드와 달리 영화 트렌드의 변화는 느리게 변화"
   ]
  },
  {
   "cell_type": "code",
   "execution_count": 14,
   "id": "67a4db41",
   "metadata": {},
   "outputs": [],
   "source": [
    "def cleanse_recursive(data: pd.DataFrame, shortest, least_view) -> pd.DataFrame:\n",
    "    while True:\n",
    "        before_len = len(data)\n",
    "        data = cleanse_short_session(data, shortest)\n",
    "        data = cleanse_unpopular_item(data, least_view)\n",
    "        after_len = len(data)\n",
    "        if before_len == after_len:\n",
    "            break\n",
    "    return data\n",
    "\n",
    "\n",
    "def cleanse_short_session(data: pd.DataFrame, shortest):\n",
    "    session_len = data.groupby('UserId').size()\n",
    "    session_use = session_len[session_len >= shortest].index\n",
    "    data = data[data['UserId'].isin(session_use)]\n",
    "    return data\n",
    "# shortest 이하의 만큼 존재하는 UserId는 제거\n",
    "# seq 모델 구성이 예측이므로 1개 만의 아이템이 있는 유저는 모델 데이터셋 구성 불가\n",
    "\n",
    "def cleanse_unpopular_item(data: pd.DataFrame, least_view):\n",
    "    item_popular = data.groupby('ItemId').size()\n",
    "    item_use = item_popular[item_popular >= least_view].index\n",
    "    data = data[data['ItemId'].isin(item_use)]\n",
    "    return data\n",
    "# ItemId가 너무 작은 경우에는 조회/사용/시청이 굉장히 적은 값으로 모델 학습에 부정적인 영향"
   ]
  },
  {
   "cell_type": "code",
   "execution_count": 15,
   "id": "f0e40482",
   "metadata": {
    "scrolled": true
   },
   "outputs": [
    {
     "data": {
      "text/plain": [
       "20"
      ]
     },
     "execution_count": 15,
     "metadata": {},
     "output_type": "execute_result"
    }
   ],
   "source": [
    "min(data.groupby('UserId').size())"
   ]
  },
  {
   "cell_type": "code",
   "execution_count": 16,
   "id": "a0cc53ab",
   "metadata": {},
   "outputs": [
    {
     "data": {
      "text/plain": [
       "1"
      ]
     },
     "execution_count": 16,
     "metadata": {},
     "output_type": "execute_result"
    }
   ],
   "source": [
    "min(data.groupby('ItemId').size())"
   ]
  },
  {
   "cell_type": "markdown",
   "id": "bdb5e20f",
   "metadata": {},
   "source": [
    "* 모델의 구조를 유저가 1개이상 영화를 봤을때, 다음 영화를 예측하는 것\n",
    "* UseId 가 1인 경우는 한 유저가 영화를 하나만 봤다는 것을 의미 >> 모델 데이터셋 구조 구축 불가 >> 데이터 확인 결과 UserId는 20이 최소값 >> 제거 불필요\n",
    "* ItemId 가 너무 작은 경우에는 인기가 굉장히 적은 이상치로 모델 학습에 부정적인 영향 >> 삭제 (5로 설정)"
   ]
  },
  {
   "cell_type": "code",
   "execution_count": 17,
   "id": "848497fb",
   "metadata": {},
   "outputs": [],
   "source": [
    "data_2 = cleanse_recursive(data, shortest=2, least_view=5)"
   ]
  },
  {
   "cell_type": "code",
   "execution_count": 18,
   "id": "264d656c",
   "metadata": {},
   "outputs": [
    {
     "data": {
      "text/html": [
       "<div>\n",
       "<style scoped>\n",
       "    .dataframe tbody tr th:only-of-type {\n",
       "        vertical-align: middle;\n",
       "    }\n",
       "\n",
       "    .dataframe tbody tr th {\n",
       "        vertical-align: top;\n",
       "    }\n",
       "\n",
       "    .dataframe thead th {\n",
       "        text-align: right;\n",
       "    }\n",
       "</style>\n",
       "<table border=\"1\" class=\"dataframe\">\n",
       "  <thead>\n",
       "    <tr style=\"text-align: right;\">\n",
       "      <th></th>\n",
       "      <th>UserId</th>\n",
       "      <th>ItemId</th>\n",
       "      <th>Rating</th>\n",
       "      <th>Time</th>\n",
       "    </tr>\n",
       "  </thead>\n",
       "  <tbody>\n",
       "    <tr>\n",
       "      <th>0</th>\n",
       "      <td>1</td>\n",
       "      <td>3186</td>\n",
       "      <td>4</td>\n",
       "      <td>2000-12-31 22:00:19</td>\n",
       "    </tr>\n",
       "    <tr>\n",
       "      <th>1</th>\n",
       "      <td>1</td>\n",
       "      <td>1270</td>\n",
       "      <td>5</td>\n",
       "      <td>2000-12-31 22:00:55</td>\n",
       "    </tr>\n",
       "    <tr>\n",
       "      <th>2</th>\n",
       "      <td>1</td>\n",
       "      <td>1721</td>\n",
       "      <td>4</td>\n",
       "      <td>2000-12-31 22:00:55</td>\n",
       "    </tr>\n",
       "    <tr>\n",
       "      <th>3</th>\n",
       "      <td>1</td>\n",
       "      <td>1022</td>\n",
       "      <td>5</td>\n",
       "      <td>2000-12-31 22:00:55</td>\n",
       "    </tr>\n",
       "    <tr>\n",
       "      <th>4</th>\n",
       "      <td>1</td>\n",
       "      <td>2340</td>\n",
       "      <td>3</td>\n",
       "      <td>2000-12-31 22:01:43</td>\n",
       "    </tr>\n",
       "    <tr>\n",
       "      <th>...</th>\n",
       "      <td>...</td>\n",
       "      <td>...</td>\n",
       "      <td>...</td>\n",
       "      <td>...</td>\n",
       "    </tr>\n",
       "    <tr>\n",
       "      <th>1000204</th>\n",
       "      <td>6040</td>\n",
       "      <td>2917</td>\n",
       "      <td>4</td>\n",
       "      <td>2001-08-10 14:40:29</td>\n",
       "    </tr>\n",
       "    <tr>\n",
       "      <th>1000205</th>\n",
       "      <td>6040</td>\n",
       "      <td>1921</td>\n",
       "      <td>4</td>\n",
       "      <td>2001-08-10 14:41:04</td>\n",
       "    </tr>\n",
       "    <tr>\n",
       "      <th>1000206</th>\n",
       "      <td>6040</td>\n",
       "      <td>1784</td>\n",
       "      <td>3</td>\n",
       "      <td>2001-08-10 14:41:04</td>\n",
       "    </tr>\n",
       "    <tr>\n",
       "      <th>1000207</th>\n",
       "      <td>6040</td>\n",
       "      <td>161</td>\n",
       "      <td>3</td>\n",
       "      <td>2001-08-10 14:41:26</td>\n",
       "    </tr>\n",
       "    <tr>\n",
       "      <th>1000208</th>\n",
       "      <td>6040</td>\n",
       "      <td>1221</td>\n",
       "      <td>4</td>\n",
       "      <td>2001-08-20 13:44:15</td>\n",
       "    </tr>\n",
       "  </tbody>\n",
       "</table>\n",
       "<p>999611 rows × 4 columns</p>\n",
       "</div>"
      ],
      "text/plain": [
       "         UserId  ItemId  Rating                Time\n",
       "0             1    3186       4 2000-12-31 22:00:19\n",
       "1             1    1270       5 2000-12-31 22:00:55\n",
       "2             1    1721       4 2000-12-31 22:00:55\n",
       "3             1    1022       5 2000-12-31 22:00:55\n",
       "4             1    2340       3 2000-12-31 22:01:43\n",
       "...         ...     ...     ...                 ...\n",
       "1000204    6040    2917       4 2001-08-10 14:40:29\n",
       "1000205    6040    1921       4 2001-08-10 14:41:04\n",
       "1000206    6040    1784       3 2001-08-10 14:41:04\n",
       "1000207    6040     161       3 2001-08-10 14:41:26\n",
       "1000208    6040    1221       4 2001-08-20 13:44:15\n",
       "\n",
       "[999611 rows x 4 columns]"
      ]
     },
     "execution_count": 18,
     "metadata": {},
     "output_type": "execute_result"
    }
   ],
   "source": [
    "data_2"
   ]
  },
  {
   "cell_type": "code",
   "execution_count": 19,
   "id": "47bca33a",
   "metadata": {},
   "outputs": [],
   "source": [
    "data_2.sort_values('Time',inplace= True)"
   ]
  },
  {
   "cell_type": "code",
   "execution_count": 20,
   "id": "fbcf723f",
   "metadata": {},
   "outputs": [],
   "source": [
    "data_2.reset_index(drop=True, inplace=True)"
   ]
  },
  {
   "cell_type": "code",
   "execution_count": 21,
   "id": "cf15f91f",
   "metadata": {},
   "outputs": [
    {
     "data": {
      "text/plain": [
       "0        2000-04-25 23:05:32\n",
       "1        2000-04-25 23:05:54\n",
       "2        2000-04-25 23:05:54\n",
       "3        2000-04-25 23:06:17\n",
       "4        2000-04-25 23:06:17\n",
       "                 ...        \n",
       "999606   2003-02-28 17:45:38\n",
       "999607   2003-02-28 17:47:23\n",
       "999608   2003-02-28 17:49:08\n",
       "999609   2003-02-28 17:49:08\n",
       "999610   2003-02-28 17:49:50\n",
       "Name: Time, Length: 999611, dtype: datetime64[ns]"
      ]
     },
     "execution_count": 21,
     "metadata": {},
     "output_type": "execute_result"
    }
   ],
   "source": [
    "data_2['Time']"
   ]
  },
  {
   "cell_type": "code",
   "execution_count": 22,
   "id": "0c5479b3",
   "metadata": {},
   "outputs": [
    {
     "data": {
      "text/plain": [
       "0.9994021249558842"
      ]
     },
     "execution_count": 22,
     "metadata": {},
     "output_type": "execute_result"
    }
   ],
   "source": [
    "len(data_2)/len(data)"
   ]
  },
  {
   "cell_type": "code",
   "execution_count": 23,
   "id": "8f1239ac",
   "metadata": {},
   "outputs": [
    {
     "data": {
      "text/html": [
       "<div>\n",
       "<style scoped>\n",
       "    .dataframe tbody tr th:only-of-type {\n",
       "        vertical-align: middle;\n",
       "    }\n",
       "\n",
       "    .dataframe tbody tr th {\n",
       "        vertical-align: top;\n",
       "    }\n",
       "\n",
       "    .dataframe thead th {\n",
       "        text-align: right;\n",
       "    }\n",
       "</style>\n",
       "<table border=\"1\" class=\"dataframe\">\n",
       "  <thead>\n",
       "    <tr style=\"text-align: right;\">\n",
       "      <th></th>\n",
       "      <th>UserId</th>\n",
       "      <th>ItemId</th>\n",
       "      <th>Rating</th>\n",
       "      <th>Time</th>\n",
       "    </tr>\n",
       "  </thead>\n",
       "  <tbody>\n",
       "    <tr>\n",
       "      <th>261336</th>\n",
       "      <td>4169</td>\n",
       "      <td>1268</td>\n",
       "      <td>5</td>\n",
       "      <td>2000-08-03 20:09:52</td>\n",
       "    </tr>\n",
       "    <tr>\n",
       "      <th>261337</th>\n",
       "      <td>4169</td>\n",
       "      <td>2617</td>\n",
       "      <td>4</td>\n",
       "      <td>2000-08-03 20:09:52</td>\n",
       "    </tr>\n",
       "    <tr>\n",
       "      <th>261338</th>\n",
       "      <td>4169</td>\n",
       "      <td>2653</td>\n",
       "      <td>4</td>\n",
       "      <td>2000-08-03 20:09:52</td>\n",
       "    </tr>\n",
       "    <tr>\n",
       "      <th>261339</th>\n",
       "      <td>4169</td>\n",
       "      <td>423</td>\n",
       "      <td>3</td>\n",
       "      <td>2000-08-03 20:09:52</td>\n",
       "    </tr>\n",
       "    <tr>\n",
       "      <th>261340</th>\n",
       "      <td>4169</td>\n",
       "      <td>2628</td>\n",
       "      <td>4</td>\n",
       "      <td>2000-08-03 20:09:52</td>\n",
       "    </tr>\n",
       "    <tr>\n",
       "      <th>...</th>\n",
       "      <td>...</td>\n",
       "      <td>...</td>\n",
       "      <td>...</td>\n",
       "      <td>...</td>\n",
       "    </tr>\n",
       "    <tr>\n",
       "      <th>985863</th>\n",
       "      <td>4169</td>\n",
       "      <td>3207</td>\n",
       "      <td>3</td>\n",
       "      <td>2002-06-15 20:23:26</td>\n",
       "    </tr>\n",
       "    <tr>\n",
       "      <th>985873</th>\n",
       "      <td>4169</td>\n",
       "      <td>3754</td>\n",
       "      <td>2</td>\n",
       "      <td>2002-06-15 20:52:27</td>\n",
       "    </tr>\n",
       "    <tr>\n",
       "      <th>985874</th>\n",
       "      <td>4169</td>\n",
       "      <td>1413</td>\n",
       "      <td>3</td>\n",
       "      <td>2002-06-15 21:03:51</td>\n",
       "    </tr>\n",
       "    <tr>\n",
       "      <th>985875</th>\n",
       "      <td>4169</td>\n",
       "      <td>494</td>\n",
       "      <td>4</td>\n",
       "      <td>2002-06-15 21:16:00</td>\n",
       "    </tr>\n",
       "    <tr>\n",
       "      <th>985876</th>\n",
       "      <td>4169</td>\n",
       "      <td>1804</td>\n",
       "      <td>2</td>\n",
       "      <td>2002-06-15 21:16:23</td>\n",
       "    </tr>\n",
       "  </tbody>\n",
       "</table>\n",
       "<p>2277 rows × 4 columns</p>\n",
       "</div>"
      ],
      "text/plain": [
       "        UserId  ItemId  Rating                Time\n",
       "261336    4169    1268       5 2000-08-03 20:09:52\n",
       "261337    4169    2617       4 2000-08-03 20:09:52\n",
       "261338    4169    2653       4 2000-08-03 20:09:52\n",
       "261339    4169     423       3 2000-08-03 20:09:52\n",
       "261340    4169    2628       4 2000-08-03 20:09:52\n",
       "...        ...     ...     ...                 ...\n",
       "985863    4169    3207       3 2002-06-15 20:23:26\n",
       "985873    4169    3754       2 2002-06-15 20:52:27\n",
       "985874    4169    1413       3 2002-06-15 21:03:51\n",
       "985875    4169     494       4 2002-06-15 21:16:00\n",
       "985876    4169    1804       2 2002-06-15 21:16:23\n",
       "\n",
       "[2277 rows x 4 columns]"
      ]
     },
     "execution_count": 23,
     "metadata": {},
     "output_type": "execute_result"
    }
   ],
   "source": [
    "long_session = UserId_length[UserId_length==UserId_length.max()].index[0]\n",
    "data_2[data_2['UserId']==long_session]"
   ]
  },
  {
   "cell_type": "markdown",
   "id": "e803281f",
   "metadata": {},
   "source": [
    "* UserId 중 Time이 동일한데 여러 영화에 평점을 매긴 데이터 확인\n",
    "* UserId 가 같고 Time이 동일한 ItemId가 2개 이상이면 매크로로 간주 >> 해당 UserID 제거"
   ]
  },
  {
   "cell_type": "code",
   "execution_count": 24,
   "id": "ec601fe6",
   "metadata": {
    "scrolled": true
   },
   "outputs": [
    {
     "data": {
      "text/plain": [
       "UserId\n",
       "1        31\n",
       "2       100\n",
       "3        35\n",
       "4        19\n",
       "5       174\n",
       "       ... \n",
       "6036    871\n",
       "6037    199\n",
       "6038     10\n",
       "6039    107\n",
       "6040    261\n",
       "Length: 6038, dtype: int64"
      ]
     },
     "execution_count": 24,
     "metadata": {},
     "output_type": "execute_result"
    }
   ],
   "source": [
    "data_2.loc[data_2.duplicated(['UserId','Time'],keep=False)].groupby('UserId').size()"
   ]
  },
  {
   "cell_type": "markdown",
   "id": "6f555ac9",
   "metadata": {},
   "source": [
    "* 데이터 확인결과 같은 시간에 2개이상 평점은 거의 모든 UserId에 존재\n",
    "* 2개보다 많은 개수로 구성 하는 작업을 필요\n",
    "* 우선 일반적인 데이터로 가정하고 진행 "
   ]
  },
  {
   "cell_type": "markdown",
   "id": "33ed7bdc",
   "metadata": {},
   "source": [
    "## 01-02 train val test split"
   ]
  },
  {
   "cell_type": "code",
   "execution_count": 25,
   "id": "6c39f6de",
   "metadata": {},
   "outputs": [],
   "source": [
    "def split_by_date(data: pd.DataFrame, n_days: int):\n",
    "    final_time = data['Time'].max()\n",
    "    User_last_time = data.groupby('UserId')['Time'].max()\n",
    "    User_in_train = User_last_time[User_last_time < final_time - dt.timedelta(n_days)].index\n",
    "    User_in_test = User_last_time[User_last_time >= final_time - dt.timedelta(n_days)].index\n",
    "\n",
    "    before_date = data[data['UserId'].isin(User_in_train)]\n",
    "    after_date = data[data['UserId'].isin(User_in_test)]\n",
    "    after_date = after_date[after_date['ItemId'].isin(before_date['ItemId'])]\n",
    "    return before_date, after_date"
   ]
  },
  {
   "cell_type": "code",
   "execution_count": 26,
   "id": "fc547cd9",
   "metadata": {},
   "outputs": [
    {
     "name": "stdout",
     "output_type": "stream",
     "text": [
      "2003-02-28 17:49:50\n"
     ]
    }
   ],
   "source": [
    "final_time = data['Time'].max()\n",
    "print(final_time)"
   ]
  },
  {
   "cell_type": "code",
   "execution_count": 27,
   "id": "12517bdb",
   "metadata": {},
   "outputs": [
    {
     "name": "stdout",
     "output_type": "stream",
     "text": [
      "UserId\n",
      "1      2001-01-06 23:39:11\n",
      "2      2000-12-31 22:02:54\n",
      "3      2000-12-31 21:35:04\n",
      "4      2000-12-31 20:24:42\n",
      "5      2000-12-31 07:09:45\n",
      "               ...        \n",
      "6036   2000-04-26 13:19:56\n",
      "6037   2000-04-27 02:17:20\n",
      "6038   2000-04-26 02:46:44\n",
      "6039   2000-04-26 14:07:09\n",
      "6040   2001-08-20 13:44:15\n",
      "Name: Time, Length: 6040, dtype: datetime64[ns]\n"
     ]
    }
   ],
   "source": [
    "User_last_time = data.groupby('UserId')['Time'].max()\n",
    "print(User_last_time)"
   ]
  },
  {
   "cell_type": "code",
   "execution_count": 28,
   "id": "2f50ef66",
   "metadata": {},
   "outputs": [
    {
     "name": "stdout",
     "output_type": "stream",
     "text": [
      "UserId\n",
      "1      2001-01-06 23:39:11\n",
      "2      2000-12-31 22:02:54\n",
      "3      2000-12-31 21:35:04\n",
      "4      2000-12-31 20:24:42\n",
      "5      2000-12-31 07:09:45\n",
      "               ...        \n",
      "6036   2000-04-26 13:19:56\n",
      "6037   2000-04-27 02:17:20\n",
      "6038   2000-04-26 02:46:44\n",
      "6039   2000-04-26 14:07:09\n",
      "6040   2001-08-20 13:44:15\n",
      "Name: Time, Length: 5937, dtype: datetime64[ns]\n"
     ]
    }
   ],
   "source": [
    "User_in_train = User_last_time[User_last_time < final_time - dt.timedelta(30)]\n",
    "print(User_in_train)"
   ]
  },
  {
   "cell_type": "code",
   "execution_count": 29,
   "id": "e981afac",
   "metadata": {},
   "outputs": [],
   "source": [
    "train, test = split_by_date(data_2,n_days = 30)\n",
    "train, val = split_by_date(train,n_days = 30)"
   ]
  },
  {
   "cell_type": "code",
   "execution_count": 30,
   "id": "b623f5f9",
   "metadata": {},
   "outputs": [
    {
     "data": {
      "text/html": [
       "<div>\n",
       "<style scoped>\n",
       "    .dataframe tbody tr th:only-of-type {\n",
       "        vertical-align: middle;\n",
       "    }\n",
       "\n",
       "    .dataframe tbody tr th {\n",
       "        vertical-align: top;\n",
       "    }\n",
       "\n",
       "    .dataframe thead th {\n",
       "        text-align: right;\n",
       "    }\n",
       "</style>\n",
       "<table border=\"1\" class=\"dataframe\">\n",
       "  <thead>\n",
       "    <tr style=\"text-align: right;\">\n",
       "      <th></th>\n",
       "      <th>UserId</th>\n",
       "      <th>ItemId</th>\n",
       "      <th>Rating</th>\n",
       "      <th>Time</th>\n",
       "    </tr>\n",
       "  </thead>\n",
       "  <tbody>\n",
       "    <tr>\n",
       "      <th>0</th>\n",
       "      <td>6040</td>\n",
       "      <td>858</td>\n",
       "      <td>4</td>\n",
       "      <td>2000-04-25 23:05:32</td>\n",
       "    </tr>\n",
       "    <tr>\n",
       "      <th>1</th>\n",
       "      <td>6040</td>\n",
       "      <td>593</td>\n",
       "      <td>5</td>\n",
       "      <td>2000-04-25 23:05:54</td>\n",
       "    </tr>\n",
       "    <tr>\n",
       "      <th>2</th>\n",
       "      <td>6040</td>\n",
       "      <td>2384</td>\n",
       "      <td>4</td>\n",
       "      <td>2000-04-25 23:05:54</td>\n",
       "    </tr>\n",
       "    <tr>\n",
       "      <th>3</th>\n",
       "      <td>6040</td>\n",
       "      <td>1961</td>\n",
       "      <td>4</td>\n",
       "      <td>2000-04-25 23:06:17</td>\n",
       "    </tr>\n",
       "    <tr>\n",
       "      <th>4</th>\n",
       "      <td>6040</td>\n",
       "      <td>2019</td>\n",
       "      <td>5</td>\n",
       "      <td>2000-04-25 23:06:17</td>\n",
       "    </tr>\n",
       "    <tr>\n",
       "      <th>...</th>\n",
       "      <td>...</td>\n",
       "      <td>...</td>\n",
       "      <td>...</td>\n",
       "      <td>...</td>\n",
       "    </tr>\n",
       "    <tr>\n",
       "      <th>996194</th>\n",
       "      <td>2342</td>\n",
       "      <td>3864</td>\n",
       "      <td>5</td>\n",
       "      <td>2002-12-29 21:04:19</td>\n",
       "    </tr>\n",
       "    <tr>\n",
       "      <th>996221</th>\n",
       "      <td>411</td>\n",
       "      <td>3916</td>\n",
       "      <td>3</td>\n",
       "      <td>2002-12-30 01:36:48</td>\n",
       "    </tr>\n",
       "    <tr>\n",
       "      <th>996222</th>\n",
       "      <td>753</td>\n",
       "      <td>1623</td>\n",
       "      <td>4</td>\n",
       "      <td>2002-12-30 01:48:12</td>\n",
       "    </tr>\n",
       "    <tr>\n",
       "      <th>996223</th>\n",
       "      <td>411</td>\n",
       "      <td>3326</td>\n",
       "      <td>2</td>\n",
       "      <td>2002-12-30 01:53:41</td>\n",
       "    </tr>\n",
       "    <tr>\n",
       "      <th>996224</th>\n",
       "      <td>753</td>\n",
       "      <td>2617</td>\n",
       "      <td>4</td>\n",
       "      <td>2002-12-30 02:26:14</td>\n",
       "    </tr>\n",
       "  </tbody>\n",
       "</table>\n",
       "<p>919209 rows × 4 columns</p>\n",
       "</div>"
      ],
      "text/plain": [
       "        UserId  ItemId  Rating                Time\n",
       "0         6040     858       4 2000-04-25 23:05:32\n",
       "1         6040     593       5 2000-04-25 23:05:54\n",
       "2         6040    2384       4 2000-04-25 23:05:54\n",
       "3         6040    1961       4 2000-04-25 23:06:17\n",
       "4         6040    2019       5 2000-04-25 23:06:17\n",
       "...        ...     ...     ...                 ...\n",
       "996194    2342    3864       5 2002-12-29 21:04:19\n",
       "996221     411    3916       3 2002-12-30 01:36:48\n",
       "996222     753    1623       4 2002-12-30 01:48:12\n",
       "996223     411    3326       2 2002-12-30 01:53:41\n",
       "996224     753    2617       4 2002-12-30 02:26:14\n",
       "\n",
       "[919209 rows x 4 columns]"
      ]
     },
     "execution_count": 30,
     "metadata": {},
     "output_type": "execute_result"
    }
   ],
   "source": [
    "train"
   ]
  },
  {
   "cell_type": "code",
   "execution_count": 31,
   "id": "19e61573",
   "metadata": {},
   "outputs": [
    {
     "name": "stdout",
     "output_type": "stream",
     "text": [
      "919209 29477 50925\n"
     ]
    }
   ],
   "source": [
    "print(len(train),len(val),len(test))"
   ]
  },
  {
   "cell_type": "code",
   "execution_count": 32,
   "id": "20e6835b",
   "metadata": {},
   "outputs": [],
   "source": [
    "def stats_info(data: pd.DataFrame, status: str):\n",
    "    print(f'* {status} Set Stats Info\\n'\n",
    "          f'\\t Events: {len(data)}\\n'\n",
    "          f'\\t Sessions: {data[\"UserId\"].nunique()}\\n'\n",
    "          f'\\t Items: {data[\"ItemId\"].nunique()}\\n'\n",
    "          f'\\t First Time : {data[\"Time\"].min()}\\n'\n",
    "          f'\\t Last Time : {data[\"Time\"].max()}\\n')"
   ]
  },
  {
   "cell_type": "code",
   "execution_count": 33,
   "id": "a28e6b1e",
   "metadata": {},
   "outputs": [
    {
     "name": "stdout",
     "output_type": "stream",
     "text": [
      "* train Set Stats Info\n",
      "\t Events: 919209\n",
      "\t Sessions: 5858\n",
      "\t Items: 3416\n",
      "\t First Time : 2000-04-25 23:05:32\n",
      "\t Last Time : 2002-12-30 02:26:14\n",
      "\n",
      "* valid Set Stats Info\n",
      "\t Events: 29477\n",
      "\t Sessions: 79\n",
      "\t Items: 2960\n",
      "\t First Time : 2000-05-05 17:20:21\n",
      "\t Last Time : 2003-01-29 03:00:40\n",
      "\n",
      "* test Set Stats Info\n",
      "\t Events: 50925\n",
      "\t Sessions: 103\n",
      "\t Items: 3172\n",
      "\t First Time : 2000-05-01 11:15:13\n",
      "\t Last Time : 2003-02-28 17:49:50\n",
      "\n"
     ]
    }
   ],
   "source": [
    "stats_info(train, 'train')\n",
    "stats_info(val, 'valid')\n",
    "stats_info(test, 'test')"
   ]
  },
  {
   "cell_type": "code",
   "execution_count": 34,
   "id": "4fb7e783",
   "metadata": {},
   "outputs": [],
   "source": [
    "id2idx = {item_id : index for index, item_id in enumerate(train['ItemId'].unique())}\n",
    "\n",
    "def indexing(df, id2idx):\n",
    "    df['item_idx'] = df['ItemId'].map(lambda x: id2idx.get(x, -1))  # id2idx에 없는 아이템은 모르는 값(-1) 처리 해줍니다.\n",
    "    return df\n",
    "\n",
    "train = indexing(train, id2idx)\n",
    "val = indexing(val, id2idx)\n",
    "test = indexing(test, id2idx)"
   ]
  },
  {
   "cell_type": "code",
   "execution_count": 35,
   "id": "55d8f045",
   "metadata": {},
   "outputs": [
    {
     "data": {
      "text/html": [
       "<div>\n",
       "<style scoped>\n",
       "    .dataframe tbody tr th:only-of-type {\n",
       "        vertical-align: middle;\n",
       "    }\n",
       "\n",
       "    .dataframe tbody tr th {\n",
       "        vertical-align: top;\n",
       "    }\n",
       "\n",
       "    .dataframe thead th {\n",
       "        text-align: right;\n",
       "    }\n",
       "</style>\n",
       "<table border=\"1\" class=\"dataframe\">\n",
       "  <thead>\n",
       "    <tr style=\"text-align: right;\">\n",
       "      <th></th>\n",
       "      <th>UserId</th>\n",
       "      <th>ItemId</th>\n",
       "      <th>Rating</th>\n",
       "      <th>Time</th>\n",
       "      <th>item_idx</th>\n",
       "    </tr>\n",
       "  </thead>\n",
       "  <tbody>\n",
       "    <tr>\n",
       "      <th>0</th>\n",
       "      <td>6040</td>\n",
       "      <td>858</td>\n",
       "      <td>4</td>\n",
       "      <td>2000-04-25 23:05:32</td>\n",
       "      <td>0</td>\n",
       "    </tr>\n",
       "    <tr>\n",
       "      <th>1</th>\n",
       "      <td>6040</td>\n",
       "      <td>593</td>\n",
       "      <td>5</td>\n",
       "      <td>2000-04-25 23:05:54</td>\n",
       "      <td>1</td>\n",
       "    </tr>\n",
       "    <tr>\n",
       "      <th>2</th>\n",
       "      <td>6040</td>\n",
       "      <td>2384</td>\n",
       "      <td>4</td>\n",
       "      <td>2000-04-25 23:05:54</td>\n",
       "      <td>2</td>\n",
       "    </tr>\n",
       "    <tr>\n",
       "      <th>3</th>\n",
       "      <td>6040</td>\n",
       "      <td>1961</td>\n",
       "      <td>4</td>\n",
       "      <td>2000-04-25 23:06:17</td>\n",
       "      <td>3</td>\n",
       "    </tr>\n",
       "    <tr>\n",
       "      <th>4</th>\n",
       "      <td>6040</td>\n",
       "      <td>2019</td>\n",
       "      <td>5</td>\n",
       "      <td>2000-04-25 23:06:17</td>\n",
       "      <td>4</td>\n",
       "    </tr>\n",
       "  </tbody>\n",
       "</table>\n",
       "</div>"
      ],
      "text/plain": [
       "   UserId  ItemId  Rating                Time  item_idx\n",
       "0    6040     858       4 2000-04-25 23:05:32         0\n",
       "1    6040     593       5 2000-04-25 23:05:54         1\n",
       "2    6040    2384       4 2000-04-25 23:05:54         2\n",
       "3    6040    1961       4 2000-04-25 23:06:17         3\n",
       "4    6040    2019       5 2000-04-25 23:06:17         4"
      ]
     },
     "execution_count": 35,
     "metadata": {},
     "output_type": "execute_result"
    }
   ],
   "source": [
    "train.head()"
   ]
  },
  {
   "cell_type": "code",
   "execution_count": 36,
   "id": "a306b479",
   "metadata": {},
   "outputs": [],
   "source": [
    "save_path = data_path / 'processed'\n",
    "save_path.mkdir(parents=True, exist_ok=True)\n",
    "\n",
    "train.to_pickle(save_path / 'train.pkl')\n",
    "val.to_pickle(save_path / 'valid.pkl')\n",
    "test.to_pickle(save_path / 'test.pkl')"
   ]
  },
  {
   "cell_type": "markdown",
   "id": "c66d3533",
   "metadata": {},
   "source": [
    "## 02 미니 배치 구성"
   ]
  },
  {
   "cell_type": "markdown",
   "id": "fe77363e",
   "metadata": {},
   "source": [
    "<img src = \"https://d3s0tskafalll9.cloudfront.net/media/images/input2.max-800x600.png\">"
   ]
  },
  {
   "cell_type": "code",
   "execution_count": 37,
   "id": "655ca5c6",
   "metadata": {},
   "outputs": [],
   "source": [
    "class SessionDataset:\n",
    "    \"\"\"Credit to yhs-968/pyGRU4REC.\"\"\"\n",
    "\n",
    "    def __init__(self, data):\n",
    "        self.df = data\n",
    "        self.click_offsets = self.get_click_offsets()\n",
    "        self.session_idx = np.arange(self.df['UserId'].nunique())  # indexing to SessionId\n",
    "\n",
    "    def get_click_offsets(self):\n",
    "        \"\"\"\n",
    "        Return the indexes of the first click of each session IDs,\n",
    "        \"\"\"\n",
    "        offsets = np.zeros(self.df['UserId'].nunique() + 1, dtype=np.int32)\n",
    "        offsets[1:] = self.df.groupby('UserId').size().cumsum()\n",
    "        return offsets"
   ]
  },
  {
   "cell_type": "code",
   "execution_count": 38,
   "id": "ddd463f6",
   "metadata": {},
   "outputs": [
    {
     "data": {
      "text/plain": [
       "5858"
      ]
     },
     "execution_count": 38,
     "metadata": {},
     "output_type": "execute_result"
    }
   ],
   "source": [
    "train['UserId'].nunique()"
   ]
  },
  {
   "cell_type": "code",
   "execution_count": 39,
   "id": "b56e133e",
   "metadata": {},
   "outputs": [],
   "source": [
    "offsets = np.zeros(train['UserId'].nunique() + 1, dtype=np.int32)\n",
    "offsets[1:] = train.groupby('UserId').size().cumsum()"
   ]
  },
  {
   "cell_type": "code",
   "execution_count": 40,
   "id": "c770a8bf",
   "metadata": {},
   "outputs": [
    {
     "data": {
      "text/plain": [
       "array([     0,     53,    182, ..., 918745, 918868, 919209], dtype=int32)"
      ]
     },
     "execution_count": 40,
     "metadata": {},
     "output_type": "execute_result"
    }
   ],
   "source": [
    "offsets"
   ]
  },
  {
   "cell_type": "code",
   "execution_count": 41,
   "id": "41de6fb5",
   "metadata": {},
   "outputs": [
    {
     "data": {
      "text/html": [
       "<div>\n",
       "<style scoped>\n",
       "    .dataframe tbody tr th:only-of-type {\n",
       "        vertical-align: middle;\n",
       "    }\n",
       "\n",
       "    .dataframe tbody tr th {\n",
       "        vertical-align: top;\n",
       "    }\n",
       "\n",
       "    .dataframe thead th {\n",
       "        text-align: right;\n",
       "    }\n",
       "</style>\n",
       "<table border=\"1\" class=\"dataframe\">\n",
       "  <thead>\n",
       "    <tr style=\"text-align: right;\">\n",
       "      <th></th>\n",
       "      <th>UserId</th>\n",
       "      <th>ItemId</th>\n",
       "      <th>Rating</th>\n",
       "      <th>Time</th>\n",
       "      <th>item_idx</th>\n",
       "    </tr>\n",
       "  </thead>\n",
       "  <tbody>\n",
       "    <tr>\n",
       "      <th>0</th>\n",
       "      <td>6040</td>\n",
       "      <td>858</td>\n",
       "      <td>4</td>\n",
       "      <td>2000-04-25 23:05:32</td>\n",
       "      <td>0</td>\n",
       "    </tr>\n",
       "    <tr>\n",
       "      <th>1</th>\n",
       "      <td>6040</td>\n",
       "      <td>593</td>\n",
       "      <td>5</td>\n",
       "      <td>2000-04-25 23:05:54</td>\n",
       "      <td>1</td>\n",
       "    </tr>\n",
       "    <tr>\n",
       "      <th>2</th>\n",
       "      <td>6040</td>\n",
       "      <td>2384</td>\n",
       "      <td>4</td>\n",
       "      <td>2000-04-25 23:05:54</td>\n",
       "      <td>2</td>\n",
       "    </tr>\n",
       "    <tr>\n",
       "      <th>3</th>\n",
       "      <td>6040</td>\n",
       "      <td>1961</td>\n",
       "      <td>4</td>\n",
       "      <td>2000-04-25 23:06:17</td>\n",
       "      <td>3</td>\n",
       "    </tr>\n",
       "    <tr>\n",
       "      <th>4</th>\n",
       "      <td>6040</td>\n",
       "      <td>2019</td>\n",
       "      <td>5</td>\n",
       "      <td>2000-04-25 23:06:17</td>\n",
       "      <td>4</td>\n",
       "    </tr>\n",
       "    <tr>\n",
       "      <th>5</th>\n",
       "      <td>6040</td>\n",
       "      <td>573</td>\n",
       "      <td>4</td>\n",
       "      <td>2000-04-25 23:07:36</td>\n",
       "      <td>5</td>\n",
       "    </tr>\n",
       "    <tr>\n",
       "      <th>6</th>\n",
       "      <td>6040</td>\n",
       "      <td>1419</td>\n",
       "      <td>3</td>\n",
       "      <td>2000-04-25 23:07:36</td>\n",
       "      <td>6</td>\n",
       "    </tr>\n",
       "    <tr>\n",
       "      <th>7</th>\n",
       "      <td>6040</td>\n",
       "      <td>213</td>\n",
       "      <td>5</td>\n",
       "      <td>2000-04-25 23:07:36</td>\n",
       "      <td>7</td>\n",
       "    </tr>\n",
       "    <tr>\n",
       "      <th>8</th>\n",
       "      <td>6040</td>\n",
       "      <td>3111</td>\n",
       "      <td>5</td>\n",
       "      <td>2000-04-25 23:07:36</td>\n",
       "      <td>8</td>\n",
       "    </tr>\n",
       "    <tr>\n",
       "      <th>9</th>\n",
       "      <td>6040</td>\n",
       "      <td>3505</td>\n",
       "      <td>4</td>\n",
       "      <td>2000-04-25 23:07:36</td>\n",
       "      <td>9</td>\n",
       "    </tr>\n",
       "  </tbody>\n",
       "</table>\n",
       "</div>"
      ],
      "text/plain": [
       "   UserId  ItemId  Rating                Time  item_idx\n",
       "0    6040     858       4 2000-04-25 23:05:32         0\n",
       "1    6040     593       5 2000-04-25 23:05:54         1\n",
       "2    6040    2384       4 2000-04-25 23:05:54         2\n",
       "3    6040    1961       4 2000-04-25 23:06:17         3\n",
       "4    6040    2019       5 2000-04-25 23:06:17         4\n",
       "5    6040     573       4 2000-04-25 23:07:36         5\n",
       "6    6040    1419       3 2000-04-25 23:07:36         6\n",
       "7    6040     213       5 2000-04-25 23:07:36         7\n",
       "8    6040    3111       5 2000-04-25 23:07:36         8\n",
       "9    6040    3505       4 2000-04-25 23:07:36         9"
      ]
     },
     "execution_count": 41,
     "metadata": {},
     "output_type": "execute_result"
    }
   ],
   "source": [
    "train_dataset = SessionDataset(train)\n",
    "train_dataset.df.head(10)"
   ]
  },
  {
   "cell_type": "code",
   "execution_count": 42,
   "id": "dde965e1",
   "metadata": {},
   "outputs": [
    {
     "data": {
      "text/plain": [
       "array([     0,     53,    182, ..., 918745, 918868, 919209], dtype=int32)"
      ]
     },
     "execution_count": 42,
     "metadata": {},
     "output_type": "execute_result"
    }
   ],
   "source": [
    "train_dataset.click_offsets"
   ]
  },
  {
   "cell_type": "markdown",
   "id": "43d9a083",
   "metadata": {},
   "source": [
    "* click_offsets은 userid가 바뀌는 index값"
   ]
  },
  {
   "cell_type": "code",
   "execution_count": 43,
   "id": "b98d1970",
   "metadata": {},
   "outputs": [
    {
     "data": {
      "text/plain": [
       "array([   0,    1,    2, ..., 5855, 5856, 5857])"
      ]
     },
     "execution_count": 43,
     "metadata": {},
     "output_type": "execute_result"
    }
   ],
   "source": [
    "train_dataset.session_idx"
   ]
  },
  {
   "cell_type": "code",
   "execution_count": 44,
   "id": "80598588",
   "metadata": {},
   "outputs": [
    {
     "data": {
      "text/plain": [
       "5858"
      ]
     },
     "execution_count": 44,
     "metadata": {},
     "output_type": "execute_result"
    }
   ],
   "source": [
    "len(train_dataset.session_idx)"
   ]
  },
  {
   "cell_type": "code",
   "execution_count": null,
   "id": "9ac6d466",
   "metadata": {},
   "outputs": [],
   "source": [
    "first_iters = np.arange(50)    # 첫 배치에 사용할 세션 Index를 가져옵니다.\n",
    "last_session = 49    # 마지막으로 다루고 있는 세션 Index를 저장해둡니다.\n",
    "start = train_dataset.click_offsets[train_dataset.session_idx[first_iters]]# data 상에서 session이 시작된 위치를 가져옵니다.\n",
    "end = train_dataset.click_offsets[train_dataset.session_idx[first_iters] + 1]  # session이 끝난 위치 바로 다음 위치를 가져옵니다.\n",
    "mask = np.array([])   # session의 모든 아이템을 다 돌은 경우 mask에 추가해줄 것입니다."
   ]
  },
  {
   "cell_type": "code",
   "execution_count": null,
   "id": "127c3113",
   "metadata": {},
   "outputs": [],
   "source": [
    "train_dataset.session_idx"
   ]
  },
  {
   "cell_type": "code",
   "execution_count": null,
   "id": "d13a9ccf",
   "metadata": {},
   "outputs": [],
   "source": [
    "train_dataset.click_offsets"
   ]
  },
  {
   "cell_type": "code",
   "execution_count": null,
   "id": "28d42611",
   "metadata": {},
   "outputs": [],
   "source": [
    "train_dataset.session_idx[first_iters]"
   ]
  },
  {
   "cell_type": "code",
   "execution_count": null,
   "id": "1eefddfa",
   "metadata": {},
   "outputs": [],
   "source": [
    "val"
   ]
  },
  {
   "cell_type": "code",
   "execution_count": null,
   "id": "c9b18add",
   "metadata": {},
   "outputs": [],
   "source": [
    "batch_size =2048"
   ]
  },
  {
   "cell_type": "code",
   "execution_count": null,
   "id": "68e62192",
   "metadata": {},
   "outputs": [],
   "source": [
    "val_dataset = SessionDataset(val)"
   ]
  },
  {
   "cell_type": "code",
   "execution_count": null,
   "id": "4be76c6a",
   "metadata": {},
   "outputs": [],
   "source": [
    "val_dataset.df"
   ]
  },
  {
   "cell_type": "code",
   "execution_count": null,
   "id": "bf685d5d",
   "metadata": {},
   "outputs": [],
   "source": [
    "val_dataset.session_idx"
   ]
  },
  {
   "cell_type": "code",
   "execution_count": null,
   "id": "35a994ae",
   "metadata": {},
   "outputs": [],
   "source": [
    "val_dataset.click_offsets"
   ]
  },
  {
   "cell_type": "code",
   "execution_count": null,
   "id": "63dcd65c",
   "metadata": {},
   "outputs": [],
   "source": [
    "first_iters "
   ]
  },
  {
   "cell_type": "code",
   "execution_count": null,
   "id": "dfc7ca9e",
   "metadata": {},
   "outputs": [],
   "source": [
    "first_iters = np.arange(2048)    # 첫 배치에 사용할 세션 Index를 가져옵니다.\n",
    "last_session = 2047    # 마지막으로 다루고 있는 세션 Index를 저장해둡니다.\n",
    "start = val_dataset.click_offsets[val_dataset.session_idx[first_iters]]# data 상에서 session이 시작된 위치를 가져옵니다.\n",
    "end = val_dataset.click_offsets[val_dataset.session_idx[first_iters] + 1]  # session이 끝난 위치 바로 다음 위치를 가져옵니다.\n",
    "mask = np.array([])   # session의 모든 아이템을 다 돌은 경우 mask에 추가해줄 것입니다.\n",
    "finished = False         # data를 전부 돌았는지 기록하기 위한 변수입니다."
   ]
  },
  {
   "cell_type": "code",
   "execution_count": 45,
   "id": "cf84324e",
   "metadata": {},
   "outputs": [],
   "source": [
    "class SessionDataLoader:\n",
    "    \"\"\"Credit to yhs-968/pyGRU4REC.\"\"\"\n",
    "\n",
    "    def __init__(self, dataset: SessionDataset, batch_size=50):\n",
    "        self.dataset = dataset\n",
    "        self.batch_size = batch_size\n",
    "\n",
    "    def __iter__(self):\n",
    "        \"\"\" Returns the iterator for producing session-parallel training mini-batches.\n",
    "        Yields:\n",
    "            input (B,):  Item indices that will be encoded as one-hot vectors later.\n",
    "            target (B,): a Variable that stores the target item indices\n",
    "            masks: Numpy array indicating the positions of the sessions to be terminated\n",
    "        \"\"\"\n",
    "\n",
    "        start, end, mask, last_session, finished = self.initialize()  # initialize 메소드에서 확인해주세요.\n",
    "        \"\"\"\n",
    "        start : Index Where Session Start\n",
    "        end : Index Where Session End\n",
    "        mask : indicator for the sessions to be terminated\n",
    "        \"\"\"\n",
    "\n",
    "        while not finished:\n",
    "            min_len = (end - start).min() - 1  # Shortest Length Among Sessions\n",
    "            for i in range(min_len):\n",
    "                # Build inputs & targets\n",
    "                inp = self.dataset.df['item_idx'].values[start + i]\n",
    "                target = self.dataset.df['item_idx'].values[start + i + 1]\n",
    "                yield inp, target, mask\n",
    "\n",
    "            start, end, mask, last_session, finished = self.update_status(start, end, min_len, last_session, finished)\n",
    "\n",
    "    def initialize(self):\n",
    "        first_iters = np.arange(self.batch_size)    # 첫 배치에 사용할 세션 Index를 가져옵니다.\n",
    "        last_session = self.batch_size - 1    # 마지막으로 다루고 있는 세션 Index를 저장해둡니다.\n",
    "        start = self.dataset.click_offsets[self.dataset.session_idx[first_iters]]# data 상에서 session이 시작된 위치를 가져옵니다.\n",
    "        end = self.dataset.click_offsets[self.dataset.session_idx[first_iters] + 1]  # session이 끝난 위치 바로 다음 위치를 가져옵니다.\n",
    "        mask = np.array([])   # session의 모든 아이템을 다 돌은 경우 mask에 추가해줄 것입니다.\n",
    "        finished = False         # data를 전부 돌았는지 기록하기 위한 변수입니다.\n",
    "        return start, end, mask, last_session, finished\n",
    "\n",
    "    def update_status(self, start: np.ndarray, end: np.ndarray, min_len: int, last_session: int, finished: bool):  \n",
    "        # 다음 배치 데이터를 생성하기 위해 상태를 update합니다.\n",
    "        \n",
    "        start += min_len   # __iter__에서 min_len 만큼 for문을 돌았으므로 start를 min_len 만큼 더해줍니다.\n",
    "        mask = np.arange(self.batch_size)[(end - start) == 1]  \n",
    "        # end는 다음 세션이 시작되는 위치인데 start와 한 칸 차이난다는 것은 session이 끝났다는 뜻입니다. mask에 기록해줍니다.\n",
    "\n",
    "        for i, idx in enumerate(mask, start=1):  # mask에 추가된 세션 개수만큼 새로운 세션을 돌것입니다.\n",
    "            new_session = last_session + i  \n",
    "            if new_session > self.dataset.session_idx[-1]:  # 만약 새로운 세션이 마지막 세션 index보다 크다면 모든 학습데이터를 돈 것입니다.\n",
    "                finished = True\n",
    "                break\n",
    "            # update the next starting/ending point\n",
    "            start[idx] = self.dataset.click_offsets[self.dataset.session_idx[new_session]]     # 종료된 세션 대신 새로운 세션의 시작점을 기록합니다.\n",
    "            end[idx] = self.dataset.click_offsets[self.dataset.session_idx[new_session] + 1]\n",
    "\n",
    "        last_session += len(mask)  # 마지막 세션의 위치를 기록해둡니다.\n",
    "        return start, end, mask, last_session, finished"
   ]
  },
  {
   "cell_type": "code",
   "execution_count": null,
   "id": "0435cedf",
   "metadata": {},
   "outputs": [],
   "source": [
    "np.arange(2048)"
   ]
  },
  {
   "cell_type": "code",
   "execution_count": null,
   "id": "0eb4c2b7",
   "metadata": {},
   "outputs": [],
   "source": [
    "train_dataset.session_idx[np.arange(2048)]"
   ]
  },
  {
   "cell_type": "code",
   "execution_count": null,
   "id": "ef519c22",
   "metadata": {},
   "outputs": [],
   "source": [
    "train_data_loader = SessionDataLoader(train_dataset, batch_size=4)\n",
    "train_dataset.df.head(15)"
   ]
  },
  {
   "cell_type": "code",
   "execution_count": null,
   "id": "9eb1730b",
   "metadata": {},
   "outputs": [],
   "source": [
    "iter_ex = iter(train_data_loader)"
   ]
  },
  {
   "cell_type": "code",
   "execution_count": null,
   "id": "dae3e728",
   "metadata": {},
   "outputs": [],
   "source": [
    "inputs, labels, mask =  next(iter_ex)\n",
    "print(f'Model Input Item Idx are : {inputs}')\n",
    "print(f'Label Item Idx are : {\"\":5} {labels}')\n",
    "print(f'Previous Masked Input Idx are {mask}')"
   ]
  },
  {
   "cell_type": "markdown",
   "id": "54a3bb97",
   "metadata": {},
   "source": [
    "## 03 모델 구성"
   ]
  },
  {
   "cell_type": "markdown",
   "id": "e099a1ac",
   "metadata": {},
   "source": [
    "<img src = https://d3s0tskafalll9.cloudfront.net/media/images/model.max-800x600.png>"
   ]
  },
  {
   "cell_type": "code",
   "execution_count": 46,
   "id": "a035169c",
   "metadata": {},
   "outputs": [],
   "source": [
    "def mrr_k(pred, truth: int, k: int):\n",
    "    indexing = np.where(pred[:k] == truth)[0]\n",
    "    if len(indexing) > 0:\n",
    "        return 1 / (indexing[0] + 1)\n",
    "    else:\n",
    "        return 0\n",
    "\n",
    "\n",
    "def recall_k(pred, truth: int, k: int) -> int:\n",
    "    answer = truth in pred[:k]\n",
    "    return int(answer)"
   ]
  },
  {
   "cell_type": "code",
   "execution_count": 47,
   "id": "41e3e850",
   "metadata": {},
   "outputs": [],
   "source": [
    "def create_model(args):\n",
    "    inputs = Input(batch_shape=(args.batch_size, 1, args.num_items))\n",
    "    gru, _ = GRU(args.hsz, stateful=True, return_state=True, name='GRU')(inputs)\n",
    "    dropout = Dropout(args.drop_rate)(gru)\n",
    "    predictions = Dense(args.num_items, activation='softmax')(dropout)\n",
    "    model = Model(inputs=inputs, outputs=[predictions])\n",
    "    model.compile(loss=categorical_crossentropy, optimizer=Adam(args.lr), metrics=['accuracy'])\n",
    "    model.summary()\n",
    "    return model"
   ]
  },
  {
   "cell_type": "code",
   "execution_count": 48,
   "id": "4f3a8c88",
   "metadata": {},
   "outputs": [],
   "source": [
    "class Args:\n",
    "    def __init__(self, train, val, test, batch_size, hsz, drop_rate, lr, epochs, k):\n",
    "        self.tr = train\n",
    "        self.val = val\n",
    "        self.test = test\n",
    "        self.num_items = train['ItemId'].nunique()\n",
    "        self.num_sessions = train['UserId'].nunique()\n",
    "        self.batch_size = batch_size\n",
    "        self.hsz = hsz\n",
    "        self.drop_rate = drop_rate\n",
    "        self.lr = lr\n",
    "        self.epochs = epochs\n",
    "        self.k = k\n",
    "\n",
    "args = Args(train, val, test, batch_size=64, hsz=50, drop_rate=0.1, lr=0.001, epochs=3, k=20)"
   ]
  },
  {
   "cell_type": "code",
   "execution_count": null,
   "id": "50b830f8",
   "metadata": {},
   "outputs": [],
   "source": [
    "len(train[:-1705]),len(val),len(test)"
   ]
  },
  {
   "cell_type": "code",
   "execution_count": null,
   "id": "e506540e",
   "metadata": {},
   "outputs": [],
   "source": [
    "len(train[:-1705])%2048,len(val)%2048,len(test)%2048"
   ]
  },
  {
   "cell_type": "code",
   "execution_count": 49,
   "id": "0e5eb4c2",
   "metadata": {},
   "outputs": [
    {
     "name": "stdout",
     "output_type": "stream",
     "text": [
      "Model: \"model\"\n",
      "_________________________________________________________________\n",
      "Layer (type)                 Output Shape              Param #   \n",
      "=================================================================\n",
      "input_1 (InputLayer)         [(64, 1, 3416)]           0         \n",
      "_________________________________________________________________\n",
      "GRU (GRU)                    [(64, 50), (64, 50)]      520200    \n",
      "_________________________________________________________________\n",
      "dropout (Dropout)            (64, 50)                  0         \n",
      "_________________________________________________________________\n",
      "dense (Dense)                (64, 3416)                174216    \n",
      "=================================================================\n",
      "Total params: 694,416\n",
      "Trainable params: 694,416\n",
      "Non-trainable params: 0\n",
      "_________________________________________________________________\n"
     ]
    }
   ],
   "source": [
    "model = create_model(args)"
   ]
  },
  {
   "cell_type": "markdown",
   "id": "23409377",
   "metadata": {},
   "source": [
    "## 04 모델 학습"
   ]
  },
  {
   "cell_type": "code",
   "execution_count": 50,
   "id": "478da236",
   "metadata": {},
   "outputs": [],
   "source": [
    "# train 셋으로 학습하면서 valid 셋으로 검증합니다.\n",
    "def train_model(model, args):\n",
    "    train_dataset = SessionDataset(args.tr)\n",
    "    train_loader = SessionDataLoader(train_dataset, batch_size=args.batch_size)\n",
    "\n",
    "    for epoch in range(1, args.epochs + 1):\n",
    "        total_step = len(args.tr) - args.tr['UserId'].nunique()\n",
    "        tr_loader = tqdm(train_loader, total=total_step // args.batch_size, desc='Train', mininterval=1)\n",
    "        \n",
    "        for feat, target, mask in tr_loader:\n",
    "            reset_hidden_states(model, mask)  # 종료된 session은 hidden_state를 초기화합니다. 아래 메서드에서 확인해주세요.\n",
    "\n",
    "            input_ohe = to_categorical(feat, num_classes=args.num_items)\n",
    "            input_ohe = np.expand_dims(input_ohe, axis=1)\n",
    "            target_ohe = to_categorical(target, num_classes=args.num_items)\n",
    "\n",
    "            result = model.train_on_batch(input_ohe, target_ohe)\n",
    "            tr_loader.set_postfix(train_loss=result[0], accuracy = result[1])\n",
    "\n",
    "        val_recall, val_mrr = get_metrics(args.val, model, args, args.k)  # valid set에 대해 검증합니다.\n",
    "\n",
    "        print(f\"\\t - Recall@{args.k} epoch {epoch}: {val_recall:3f}\")\n",
    "        print(f\"\\t - MRR@{args.k}    epoch {epoch}: {val_mrr:3f}\\n\")\n",
    "\n",
    "\n",
    "def reset_hidden_states(model, mask):\n",
    "    gru_layer = model.get_layer(name='GRU')  # model에서 gru layer를 가져옵니다.\n",
    "    hidden_states = gru_layer.states[0].numpy()  # gru_layer의 parameter를 가져옵니다.\n",
    "    for elt in mask:  # mask된 인덱스 즉, 종료된 세션의 인덱스를 돌면서\n",
    "        hidden_states[elt, :] = 0  # parameter를 초기화 합니다.\n",
    "    gru_layer.reset_states(states=hidden_states)\n",
    "\n",
    "\n",
    "def get_metrics(data, model, args, k: int):  # valid셋과 test셋을 평가하는 코드입니다. \n",
    "                                             # train과 거의 같지만 mrr, recall을 구하는 라인이 있습니다.\n",
    "    dataset = SessionDataset(data)\n",
    "    loader = SessionDataLoader(dataset, batch_size=args.batch_size)\n",
    "    recall_list, mrr_list = [], []\n",
    "\n",
    "    total_step = len(data) - data['UserId'].nunique()\n",
    "    for inputs, label, mask in tqdm(loader, total=total_step // args.batch_size, desc='Evaluation', mininterval=1):\n",
    "        reset_hidden_states(model, mask)\n",
    "        input_ohe = to_categorical(inputs, num_classes=args.num_items)\n",
    "        input_ohe = np.expand_dims(input_ohe, axis=1)\n",
    "\n",
    "        pred = model.predict(input_ohe, batch_size=args.batch_size)\n",
    "        pred_arg = tf.argsort(pred, direction='DESCENDING')  # softmax 값이 큰 순서대로 sorting 합니다.\n",
    "\n",
    "        length = len(inputs)\n",
    "        recall_list.extend([recall_k(pred_arg[i], label[i], k) for i in range(length)])\n",
    "        mrr_list.extend([mrr_k(pred_arg[i], label[i], k) for i in range(length)])\n",
    "\n",
    "    recall, mrr = np.mean(recall_list), np.mean(mrr_list)\n",
    "    return recall, mrr"
   ]
  },
  {
   "cell_type": "code",
   "execution_count": 51,
   "id": "2092c3cd",
   "metadata": {},
   "outputs": [
    {
     "name": "stderr",
     "output_type": "stream",
     "text": [
      "Train:  99%|█████████▊| 14089/14271 [02:45<00:02, 85.03it/s, accuracy=0, train_loss=7.06]     \n",
      "Evaluation:  29%|██▊       | 131/459 [00:38<01:35,  3.43it/s]\n"
     ]
    },
    {
     "name": "stdout",
     "output_type": "stream",
     "text": [
      "\t - Recall@20 epoch 1: 0.180224\n",
      "\t - MRR@20    epoch 1: 0.042863\n",
      "\n"
     ]
    },
    {
     "name": "stderr",
     "output_type": "stream",
     "text": [
      "Train:  99%|█████████▊| 14089/14271 [02:37<00:02, 89.70it/s, accuracy=0.0312, train_loss=6.98]\n",
      "Evaluation:  29%|██▊       | 131/459 [00:37<01:32,  3.54it/s]\n"
     ]
    },
    {
     "name": "stdout",
     "output_type": "stream",
     "text": [
      "\t - Recall@20 epoch 2: 0.225429\n",
      "\t - MRR@20    epoch 2: 0.051203\n",
      "\n"
     ]
    },
    {
     "name": "stderr",
     "output_type": "stream",
     "text": [
      "Train:  99%|█████████▊| 14089/14271 [02:35<00:02, 90.58it/s, accuracy=0.0312, train_loss=6.96]\n",
      "Evaluation:  29%|██▊       | 131/459 [00:36<01:32,  3.56it/s]"
     ]
    },
    {
     "name": "stdout",
     "output_type": "stream",
     "text": [
      "\t - Recall@20 epoch 3: 0.233421\n",
      "\t - MRR@20    epoch 3: 0.054089\n",
      "\n"
     ]
    },
    {
     "name": "stderr",
     "output_type": "stream",
     "text": [
      "\n"
     ]
    }
   ],
   "source": [
    "train_model(model, args)"
   ]
  },
  {
   "cell_type": "markdown",
   "id": "b92aa099",
   "metadata": {},
   "source": [
    "## 05 회고"
   ]
  },
  {
   "cell_type": "markdown",
   "id": "a5fe92b3",
   "metadata": {},
   "source": [
    "* 모델 정확도가 매우 낮아서 아쉽다\n",
    "* 데이터 구성하는 것이 어려웠다\n",
    "* rating을 사용하는 방안에 대해서 고민했으나 적용하지 못했다."
   ]
  }
 ],
 "metadata": {
  "kernelspec": {
   "display_name": "Python 3 (ipykernel)",
   "language": "python",
   "name": "python3"
  },
  "language_info": {
   "codemirror_mode": {
    "name": "ipython",
    "version": 3
   },
   "file_extension": ".py",
   "mimetype": "text/x-python",
   "name": "python",
   "nbconvert_exporter": "python",
   "pygments_lexer": "ipython3",
   "version": "3.9.7"
  }
 },
 "nbformat": 4,
 "nbformat_minor": 5
}
