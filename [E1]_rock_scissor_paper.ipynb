{
 "cells": [
  {
   "cell_type": "markdown",
   "id": "2dda79be",
   "metadata": {},
   "source": [
    "# E1 rock scissor paper program"
   ]
  },
  {
   "cell_type": "markdown",
   "id": "3a0f370f",
   "metadata": {},
   "source": [
    "### 00 package import\n",
    "#### tensorflow\n",
    "* 딥러닝 모델을 위한 패키지, 모델 설계, 학습, 예측 등\n",
    "#### numpy\n",
    "* 데이터셋 처리 및 각종 수학 관련\n",
    "#### PIL\n",
    "* 이미지 처리\n",
    "#### OS\n",
    "* 경로 관련 패키지\n",
    "#### glob\n",
    "* 폴더 관련 패키지\n",
    "#### math\n",
    "* 수학 관련 패키지\n",
    "#### matplotlib\n",
    "* 이미지 출력 패키지\n",
    "#### random\n",
    "* 랜덤 관련 패키지"
   ]
  },
  {
   "cell_type": "code",
   "execution_count": 35,
   "id": "9708ba77",
   "metadata": {},
   "outputs": [],
   "source": [
    "import tensorflow as tf\n",
    "from tensorflow import keras\n",
    "import numpy as np\n",
    "from PIL import Image\n",
    "import os, glob\n",
    "import math\n",
    "import matplotlib.pyplot as plt\n",
    "import random"
   ]
  },
  {
   "cell_type": "markdown",
   "id": "5b87095b",
   "metadata": {},
   "source": [
    "### 01 fucntion define"
   ]
  },
  {
   "cell_type": "code",
   "execution_count": 3,
   "id": "7b022216",
   "metadata": {},
   "outputs": [],
   "source": [
    "def createFolder(directory):\n",
    "    \"\"\"\n",
    "    * resize 할 때 raw data를 수정한 data를 저장할 폴더를 저장\n",
    "    1. 지정한 파일 경로에 만들려고 하는 폴더가 있는지 확인\n",
    "    2. 이미 지정한 폴더명이 없으면 새로운 폴더를 생성\n",
    "    3. 지정한 폴더명이 있거나 폴더를 생성하는데 문제가 발생하면 error 메시지를 출력\n",
    "    \"\"\"\n",
    "    try:\n",
    "        if not os.path.exists(directory):\n",
    "            os.makedirs(directory)\n",
    "    except OSError:\n",
    "        print('Error: Creating directory.' + directory)\n",
    "\n",
    "def resize_images(img_path,target_size):\n",
    "    \"\"\"\n",
    "    * 폴더 경로를 입력받아 하위의 이미지(.jpg)를 원하는 사이즈로 변경하는 fucntion\n",
    "    - 매개변수 : 이미지가 있는 파일경로, 변경하고 싶은 이미지 사이즈\n",
    "    1. 이미지 경로를 입력 받아 하위의 \".jpg\"로 끝나는 파일들 읽기(파일 경로 형태)\n",
    "    2. 입력 경로 하위에 \"resized\"라는 폴더 생성(createFolder)\n",
    "    3. 1에서 받은 이미지경로를 하나씩 불러 들어서 열어 이미지 사이즈 변경 후 저장\n",
    "        - PIL.Image - resize(원하는 파일 사이즈, 변경 방법 : ANTIANLIAS(해상도를 낮추는 작업시 생기는 계단 현상을 최소화))\n",
    "    \"\"\"\n",
    "    images=glob.glob(img_path + \"/*.jpg\")  \n",
    "    createFolder(os.path.join(img_path,\"resized\"))\n",
    "    print(len(images), \" images to be resized.\")\n",
    "\n",
    "    for img in images:\n",
    "        old_img=Image.open(img)\n",
    "        new_img=old_img.resize(target_size,Image.ANTIALIAS)\n",
    "        new_img.save(img_path+'/resized/'+img[len(img_path):], \"JPEG\")\n",
    "    \n",
    "    print(len(images), \" images resized.\")\n",
    "    \n",
    "def load_data(img_path, img_size, color=3):\n",
    "    \"\"\"\n",
    "    * img_path 폴더 안의 이미지를 numpy 배열에 저장 \n",
    "    1. 4차원(데이터수, 이미지 사이즈(row), 이미지 사이즈(col), color)과 라벨을 저장할 1차원(데이터수) numpy 배열 생성\n",
    "    2. 가위바위보 마다 for loop를 돌며 데이터 배열과 라벨 배열에 저장\n",
    "        - 데이터 배열 : 이미지 / 라벨 배열 : 라벨값\n",
    "        - dtype = np.int32 : 32비트 정수 표현 방식으로 저장\n",
    "        - iglob() : 이터레이터 형식으로 불러드림 - 사용할 때 데이터 읽기\n",
    "    \"\"\"\n",
    "    number_of_data = len([x for x in glob.glob(img_path+'/*/resized/*.jpg')])\n",
    "    imgs = np.zeros(number_of_data*img_size[0]*img_size[1]*color,dtype=np.int32).reshape(number_of_data,img_size[0],img_size[1],color)\n",
    "    labels = np.zeros(number_of_data,dtype=np.int32)\n",
    "    idx=0\n",
    "    \n",
    "    for file in glob.iglob(img_path+'/scissor/resized/*.jpg'): \n",
    "        img = np.array(Image.open(file),dtype=np.int32)\n",
    "        imgs[idx,:,:,:]=img \n",
    "        labels[idx]=0 \n",
    "        idx=idx+1\n",
    "\n",
    "    for file in glob.iglob(img_path+'/rock/resized/*.jpg'):\n",
    "        img = np.array(Image.open(file),dtype=np.int32)\n",
    "        imgs[idx,:,:,:]=img \n",
    "        labels[idx]=1 \n",
    "        idx=idx+1  \n",
    "    \n",
    "    for file in glob.iglob(img_path+'/paper/resized/*.jpg'):\n",
    "        img = np.array(Image.open(file),dtype=np.int32)\n",
    "        imgs[idx,:,:,:]=img   \n",
    "        labels[idx]=2 \n",
    "        idx=idx+1\n",
    "        \n",
    "    print(\"학습데이터(x_train)의 이미지 개수는\", idx,\"입니다.\")\n",
    "    return imgs, labels    "
   ]
  },
  {
   "cell_type": "markdown",
   "id": "348c0f76",
   "metadata": {},
   "source": [
    "### 02 hyper parameter setting"
   ]
  },
  {
   "cell_type": "code",
   "execution_count": 4,
   "id": "66b1432e",
   "metadata": {},
   "outputs": [],
   "source": [
    "image_size = (56,56)\n",
    "color = 3\n",
    "\n",
    "# model hyper parameter\n",
    "n_channel_1=16\n",
    "n_channel_2=32\n",
    "n_dense=16\n",
    "n_train_epoch=50"
   ]
  },
  {
   "cell_type": "markdown",
   "id": "1145f6b8",
   "metadata": {},
   "source": [
    "### 03 image resize"
   ]
  },
  {
   "cell_type": "code",
   "execution_count": 5,
   "id": "86502aa0",
   "metadata": {},
   "outputs": [
    {
     "name": "stdout",
     "output_type": "stream",
     "text": [
      "1500  images to be resized.\n",
      "1500  images resized.\n",
      "1500  images to be resized.\n",
      "1500  images resized.\n",
      "1500  images to be resized.\n",
      "1500  images resized.\n"
     ]
    }
   ],
   "source": [
    "# 03 이미지 사이즈 조정\n",
    "image_dir_path = os.getenv(\"HOME\") + \"/aiffel/rock_scissor_paper/scissor\"\n",
    "resize_images(image_dir_path,image_size)\n",
    "image_dir_path = os.getenv(\"HOME\") + \"/aiffel/rock_scissor_paper/rock\"\n",
    "resize_images(image_dir_path,image_size)\n",
    "image_dir_path = os.getenv(\"HOME\") + \"/aiffel/rock_scissor_paper/paper\"\n",
    "resize_images(image_dir_path,image_size)"
   ]
  },
  {
   "cell_type": "code",
   "execution_count": 6,
   "id": "aa60d236",
   "metadata": {},
   "outputs": [
    {
     "name": "stdout",
     "output_type": "stream",
     "text": [
      "100  images to be resized.\n",
      "100  images resized.\n",
      "100  images to be resized.\n",
      "100  images resized.\n",
      "100  images to be resized.\n",
      "100  images resized.\n"
     ]
    }
   ],
   "source": [
    "image_dir_path = os.getenv(\"HOME\") + \"/aiffel/rock_scissor_paper/test/paper\"\n",
    "resize_images(image_dir_path,image_size)\n",
    "image_dir_path = os.getenv(\"HOME\") + \"/aiffel/rock_scissor_paper/test/scissor\"\n",
    "resize_images(image_dir_path,image_size)\n",
    "image_dir_path = os.getenv(\"HOME\") + \"/aiffel/rock_scissor_paper/test/rock\"\n",
    "resize_images(image_dir_path,image_size)"
   ]
  },
  {
   "cell_type": "markdown",
   "id": "1c611cb6",
   "metadata": {},
   "source": [
    "### 04 data load"
   ]
  },
  {
   "cell_type": "code",
   "execution_count": 7,
   "id": "75a858a1",
   "metadata": {},
   "outputs": [
    {
     "name": "stdout",
     "output_type": "stream",
     "text": [
      "학습데이터(x_train)의 이미지 개수는 4500 입니다.\n",
      "x_train shape: (4500, 56, 56, 3)\n",
      "y_train shape: (4500,)\n"
     ]
    }
   ],
   "source": [
    "image_dir_path = os.getenv(\"HOME\") + \"/aiffel/rock_scissor_paper\"\n",
    "(x_train, y_train) = load_data(image_dir_path,image_size,color)\n",
    "\n",
    "print(\"x_train shape: {}\".format(x_train.shape))\n",
    "print(\"y_train shape: {}\".format(y_train.shape))"
   ]
  },
  {
   "cell_type": "code",
   "execution_count": 104,
   "id": "1a50ea57",
   "metadata": {},
   "outputs": [
    {
     "name": "stdout",
     "output_type": "stream",
     "text": [
      "학습데이터(x_train)의 이미지 개수는 300 입니다.\n",
      "x_test shape: (300, 56, 56, 3)\n",
      "y_test shape: (300,)\n"
     ]
    }
   ],
   "source": [
    "image_dir_path = os.getenv(\"HOME\") + \"/aiffel/rock_scissor_paper/test\"\n",
    "(x_test, y_test) = load_data(image_dir_path,image_size,color)\n",
    "\n",
    "print(\"x_test shape: {}\".format(x_test.shape))\n",
    "print(\"y_test shape: {}\".format(y_test.shape))"
   ]
  },
  {
   "cell_type": "code",
   "execution_count": 9,
   "id": "451daca0",
   "metadata": {},
   "outputs": [
    {
     "name": "stdout",
     "output_type": "stream",
     "text": [
      "라벨:  0\n"
     ]
    },
    {
     "data": {
      "image/png": "[encoded data removed]",
      "text/plain": [
       "<Figure size 432x288 with 1 Axes>"
      ]
     },
     "metadata": {
      "needs_background": "light"
     },
     "output_type": "display_data"
    }
   ],
   "source": [
    "plt.imshow(x_train[1499])\n",
    "print('라벨: ', y_train[1499])"
   ]
  },
  {
   "cell_type": "markdown",
   "id": "eb75aa9a",
   "metadata": {},
   "source": [
    "### 05 model building\n",
    "* 기본 LeNet의 형태를 사용\n",
    "* kears의 Sequential 모델 형태를 사용 : 설계 편리성, input layer 선언 불필요(첫 층에서 input형태 선언)\n",
    "* 7개의 층으로 구성\n",
    "* Conv2D : 2차원 이미지를 위한 Convolution layer (필터수, 필터크기, activation)\n",
    "    - 필터수는 컴퓨팅 파워에 맞게 설정 다다익선\n",
    "    - 필터크기는 필터 통과 이후의 이미지 사이즈 결정(이미지 크기 - 필터크기 +1) padding이 없는 경우\n",
    "    - activation은 이미지 처리에서 효과적인 relu를 사용\n",
    "* MaxPool2D : 2차원 이미지에서 일정 영역에서 특정값(최대값)만 추출하는 layer (pooling 할 영역)\n",
    "    - pooling 영역이 (2,2)인 곳에서 최대값만 추출\n",
    "* Flatten : 2차원의 배열을 1차원으로 정렬하는 layer\n",
    "    - row를 하나씩 뽑아서 옆으로 붙이는 방법\n",
    "* Dense : 기본 딥러닝 노드"
   ]
  },
  {
   "cell_type": "code",
   "execution_count": 100,
   "id": "8fb3d809",
   "metadata": {},
   "outputs": [
    {
     "name": "stdout",
     "output_type": "stream",
     "text": [
      "Model: \"sequential_11\"\n",
      "_________________________________________________________________\n",
      "Layer (type)                 Output Shape              Param #   \n",
      "=================================================================\n",
      "conv2d_29 (Conv2D)           (None, 54, 54, 16)        448       \n",
      "_________________________________________________________________\n",
      "max_pooling2d_24 (MaxPooling (None, 27, 27, 16)        0         \n",
      "_________________________________________________________________\n",
      "conv2d_30 (Conv2D)           (None, 25, 25, 32)        4640      \n",
      "_________________________________________________________________\n",
      "max_pooling2d_25 (MaxPooling (None, 12, 12, 32)        0         \n",
      "_________________________________________________________________\n",
      "flatten_8 (Flatten)          (None, 4608)              0         \n",
      "_________________________________________________________________\n",
      "dense_16 (Dense)             (None, 16)                73744     \n",
      "_________________________________________________________________\n",
      "dense_17 (Dense)             (None, 3)                 51        \n",
      "=================================================================\n",
      "Total params: 78,883\n",
      "Trainable params: 78,883\n",
      "Non-trainable params: 0\n",
      "_________________________________________________________________\n"
     ]
    }
   ],
   "source": [
    "model=keras.models.Sequential()\n",
    "model.add(keras.layers.Conv2D(n_channel_1, (3,3), activation='relu', input_shape=image_size+(3,)))\n",
    "model.add(keras.layers.MaxPool2D(2,2))\n",
    "model.add(keras.layers.Conv2D(n_channel_2, (3,3), activation='relu'))\n",
    "model.add(keras.layers.MaxPooling2D((2,2)))\n",
    "model.add(keras.layers.Flatten())\n",
    "model.add(keras.layers.Dense(n_dense, activation='relu'))\n",
    "model.add(keras.layers.Dense(3, activation='softmax'))\n",
    "\n",
    "model.summary()"
   ]
  },
  {
   "cell_type": "markdown",
   "id": "f5e3b4b3",
   "metadata": {},
   "source": [
    "### 06 model training\n",
    "* model.compile를 통해 학습 방식 설정\n",
    "* optimizer : 모델 내의 가중치 수정시 loss를 감소시키는 알고리즘 \n",
    "    - adam : 가장 대중적으로 사용중인 optimizer, 일반적으로 성능이 좋음\n",
    "* loss : target값과 predict값 사이에 차이를 계산하는 방법\n",
    "    - sparse_categorical_crossentropy : 다중 분류시 사용하는 손실 함수\n",
    "* 이미지내의 픽셀값이 0에서 255의 값을 가지고 있기 때문에 255로 나눠서 0~1사의 값으로 일반화\n",
    "* 이미지 배열에서 가위 바위 보 순으로 입력되어 있기 때문에 shuffle 하여 사용\n",
    "* overfitting 방지와 평가를 위한 validation_split을 사용"
   ]
  },
  {
   "cell_type": "code",
   "execution_count": 126,
   "id": "b54bd096",
   "metadata": {},
   "outputs": [
    {
     "name": "stdout",
     "output_type": "stream",
     "text": [
      "Epoch 1/50\n",
      "113/113 [==============================] - 1s 6ms/step - loss: 1.0262e-07 - accuracy: 1.0000 - val_loss: 1.0331e-08 - val_accuracy: 1.0000\n",
      "Epoch 2/50\n",
      "113/113 [==============================] - 1s 4ms/step - loss: 0.0494 - accuracy: 0.9928 - val_loss: 0.0015 - val_accuracy: 1.0000\n",
      "Epoch 3/50\n",
      "113/113 [==============================] - 0s 4ms/step - loss: 1.2099e-04 - accuracy: 1.0000 - val_loss: 2.3398e-04 - val_accuracy: 1.0000\n",
      "Epoch 4/50\n",
      "113/113 [==============================] - 0s 4ms/step - loss: 5.5924e-05 - accuracy: 1.0000 - val_loss: 1.2821e-04 - val_accuracy: 1.0000\n",
      "Epoch 5/50\n",
      "113/113 [==============================] - 0s 4ms/step - loss: 3.0787e-05 - accuracy: 1.0000 - val_loss: 5.2451e-05 - val_accuracy: 1.0000\n",
      "Epoch 6/50\n",
      "113/113 [==============================] - 0s 4ms/step - loss: 1.8991e-05 - accuracy: 1.0000 - val_loss: 3.7430e-05 - val_accuracy: 1.0000\n",
      "Epoch 7/50\n",
      "113/113 [==============================] - 0s 4ms/step - loss: 1.2374e-05 - accuracy: 1.0000 - val_loss: 2.2419e-05 - val_accuracy: 1.0000\n",
      "Epoch 8/50\n",
      "113/113 [==============================] - 0s 4ms/step - loss: 8.5237e-06 - accuracy: 1.0000 - val_loss: 1.4383e-05 - val_accuracy: 1.0000\n",
      "Epoch 9/50\n",
      "113/113 [==============================] - 0s 4ms/step - loss: 6.2515e-06 - accuracy: 1.0000 - val_loss: 1.1157e-05 - val_accuracy: 1.0000\n",
      "Epoch 10/50\n",
      "113/113 [==============================] - 0s 4ms/step - loss: 4.7831e-06 - accuracy: 1.0000 - val_loss: 9.2307e-06 - val_accuracy: 1.0000\n",
      "Epoch 11/50\n",
      "113/113 [==============================] - 0s 4ms/step - loss: 3.7957e-06 - accuracy: 1.0000 - val_loss: 6.9207e-06 - val_accuracy: 1.0000\n",
      "Epoch 12/50\n",
      "113/113 [==============================] - 0s 4ms/step - loss: 3.0782e-06 - accuracy: 1.0000 - val_loss: 5.1094e-06 - val_accuracy: 1.0000\n",
      "Epoch 13/50\n",
      "113/113 [==============================] - 0s 4ms/step - loss: 2.5654e-06 - accuracy: 1.0000 - val_loss: 4.0286e-06 - val_accuracy: 1.0000\n",
      "Epoch 14/50\n",
      "113/113 [==============================] - 0s 4ms/step - loss: 2.1651e-06 - accuracy: 1.0000 - val_loss: 3.2997e-06 - val_accuracy: 1.0000\n",
      "Epoch 15/50\n",
      "113/113 [==============================] - 0s 4ms/step - loss: 1.8670e-06 - accuracy: 1.0000 - val_loss: 2.7704e-06 - val_accuracy: 1.0000\n",
      "Epoch 16/50\n",
      "113/113 [==============================] - 0s 4ms/step - loss: 1.6125e-06 - accuracy: 1.0000 - val_loss: 2.2779e-06 - val_accuracy: 1.0000\n",
      "Epoch 17/50\n",
      "113/113 [==============================] - 0s 4ms/step - loss: 1.4105e-06 - accuracy: 1.0000 - val_loss: 1.9195e-06 - val_accuracy: 1.0000\n",
      "Epoch 18/50\n",
      "113/113 [==============================] - 0s 4ms/step - loss: 1.2403e-06 - accuracy: 1.0000 - val_loss: 1.8050e-06 - val_accuracy: 1.0000\n",
      "Epoch 19/50\n",
      "113/113 [==============================] - 0s 4ms/step - loss: 1.0981e-06 - accuracy: 1.0000 - val_loss: 1.4615e-06 - val_accuracy: 1.0000\n",
      "Epoch 20/50\n",
      "113/113 [==============================] - 0s 4ms/step - loss: 9.8590e-07 - accuracy: 1.0000 - val_loss: 1.4203e-06 - val_accuracy: 1.0000\n",
      "Epoch 21/50\n",
      "113/113 [==============================] - 0s 4ms/step - loss: 8.8356e-07 - accuracy: 1.0000 - val_loss: 1.2759e-06 - val_accuracy: 1.0000\n",
      "Epoch 22/50\n",
      "113/113 [==============================] - 0s 4ms/step - loss: 7.9515e-07 - accuracy: 1.0000 - val_loss: 1.1286e-06 - val_accuracy: 1.0000\n",
      "Epoch 23/50\n",
      "113/113 [==============================] - 0s 4ms/step - loss: 7.2059e-07 - accuracy: 1.0000 - val_loss: 1.0149e-06 - val_accuracy: 1.0000\n",
      "Epoch 24/50\n",
      "113/113 [==============================] - 0s 4ms/step - loss: 6.5500e-07 - accuracy: 1.0000 - val_loss: 9.2983e-07 - val_accuracy: 1.0000\n",
      "Epoch 25/50\n",
      "113/113 [==============================] - 0s 4ms/step - loss: 5.9543e-07 - accuracy: 1.0000 - val_loss: 8.0982e-07 - val_accuracy: 1.0000\n",
      "Epoch 26/50\n",
      "113/113 [==============================] - 0s 4ms/step - loss: 5.4579e-07 - accuracy: 1.0000 - val_loss: 7.4890e-07 - val_accuracy: 1.0000\n",
      "Epoch 27/50\n",
      "113/113 [==============================] - 0s 4ms/step - loss: 4.9950e-07 - accuracy: 1.0000 - val_loss: 6.9141e-07 - val_accuracy: 1.0000\n",
      "Epoch 28/50\n",
      "113/113 [==============================] - 0s 4ms/step - loss: 4.5951e-07 - accuracy: 1.0000 - val_loss: 6.3591e-07 - val_accuracy: 1.0000\n",
      "Epoch 29/50\n",
      "113/113 [==============================] - 0s 4ms/step - loss: 4.2298e-07 - accuracy: 1.0000 - val_loss: 5.8227e-07 - val_accuracy: 1.0000\n",
      "Epoch 30/50\n",
      "113/113 [==============================] - 0s 4ms/step - loss: 3.9043e-07 - accuracy: 1.0000 - val_loss: 5.2174e-07 - val_accuracy: 1.0000\n",
      "Epoch 31/50\n",
      "113/113 [==============================] - 0s 4ms/step - loss: 3.6123e-07 - accuracy: 1.0000 - val_loss: 4.9273e-07 - val_accuracy: 1.0000\n",
      "Epoch 32/50\n",
      "113/113 [==============================] - 0s 4ms/step - loss: 3.3659e-07 - accuracy: 1.0000 - val_loss: 4.7869e-07 - val_accuracy: 1.0000\n",
      "Epoch 33/50\n",
      "113/113 [==============================] - 0s 4ms/step - loss: 3.0941e-07 - accuracy: 1.0000 - val_loss: 4.4889e-07 - val_accuracy: 1.0000\n",
      "Epoch 34/50\n",
      "113/113 [==============================] - 0s 4ms/step - loss: 2.8696e-07 - accuracy: 1.0000 - val_loss: 3.9074e-07 - val_accuracy: 1.0000\n",
      "Epoch 35/50\n",
      "113/113 [==============================] - 0s 4ms/step - loss: 2.6689e-07 - accuracy: 1.0000 - val_loss: 3.6359e-07 - val_accuracy: 1.0000\n",
      "Epoch 36/50\n",
      "113/113 [==============================] - 0s 4ms/step - loss: 2.4881e-07 - accuracy: 1.0000 - val_loss: 3.4186e-07 - val_accuracy: 1.0000\n",
      "Epoch 37/50\n",
      "113/113 [==============================] - 0s 4ms/step - loss: 2.3083e-07 - accuracy: 1.0000 - val_loss: 3.3047e-07 - val_accuracy: 1.0000\n",
      "Epoch 38/50\n",
      "113/113 [==============================] - 0s 4ms/step - loss: 2.1504e-07 - accuracy: 1.0000 - val_loss: 3.0769e-07 - val_accuracy: 1.0000\n",
      "Epoch 39/50\n",
      "113/113 [==============================] - 1s 5ms/step - loss: 2.0063e-07 - accuracy: 1.0000 - val_loss: 3.0398e-07 - val_accuracy: 1.0000\n",
      "Epoch 40/50\n",
      "113/113 [==============================] - 0s 4ms/step - loss: 1.8835e-07 - accuracy: 1.0000 - val_loss: 2.7153e-07 - val_accuracy: 1.0000\n",
      "Epoch 41/50\n",
      "113/113 [==============================] - 0s 4ms/step - loss: 1.7630e-07 - accuracy: 1.0000 - val_loss: 2.5776e-07 - val_accuracy: 1.0000\n",
      "Epoch 42/50\n",
      "113/113 [==============================] - 0s 4ms/step - loss: 1.6543e-07 - accuracy: 1.0000 - val_loss: 2.3471e-07 - val_accuracy: 1.0000\n",
      "Epoch 43/50\n",
      "113/113 [==============================] - 0s 4ms/step - loss: 1.5606e-07 - accuracy: 1.0000 - val_loss: 2.1073e-07 - val_accuracy: 1.0000\n",
      "Epoch 44/50\n",
      "113/113 [==============================] - 0s 4ms/step - loss: 1.4613e-07 - accuracy: 1.0000 - val_loss: 2.0093e-07 - val_accuracy: 1.0000\n",
      "Epoch 45/50\n",
      "113/113 [==============================] - 0s 4ms/step - loss: 1.3752e-07 - accuracy: 1.0000 - val_loss: 1.9881e-07 - val_accuracy: 1.0000\n",
      "Epoch 46/50\n",
      "113/113 [==============================] - 0s 4ms/step - loss: 1.2990e-07 - accuracy: 1.0000 - val_loss: 1.8385e-07 - val_accuracy: 1.0000\n",
      "Epoch 47/50\n",
      "113/113 [==============================] - 0s 4ms/step - loss: 1.2265e-07 - accuracy: 1.0000 - val_loss: 1.6901e-07 - val_accuracy: 1.0000\n",
      "Epoch 48/50\n",
      "113/113 [==============================] - 0s 4ms/step - loss: 1.1586e-07 - accuracy: 1.0000 - val_loss: 1.5961e-07 - val_accuracy: 1.0000\n",
      "Epoch 49/50\n",
      "113/113 [==============================] - 0s 4ms/step - loss: 1.1004e-07 - accuracy: 1.0000 - val_loss: 1.5378e-07 - val_accuracy: 1.0000\n",
      "Epoch 50/50\n",
      "113/113 [==============================] - 0s 4ms/step - loss: 1.0371e-07 - accuracy: 1.0000 - val_loss: 1.4504e-07 - val_accuracy: 1.0000\n"
     ]
    },
    {
     "data": {
      "text/plain": [
       "<keras.callbacks.History at 0x7f1580e3bd90>"
      ]
     },
     "execution_count": 126,
     "metadata": {},
     "output_type": "execute_result"
    }
   ],
   "source": [
    "model.compile(optimizer='adam',\n",
    "             loss='sparse_categorical_crossentropy',\n",
    "             metrics=['accuracy'])\n",
    "\n",
    "# 모델 훈련 \n",
    "model.fit(x_train/255.0, y_train, shuffle=True, validation_split =0.2, epochs=n_train_epoch)"
   ]
  },
  {
   "cell_type": "markdown",
   "id": "72977290",
   "metadata": {},
   "source": [
    "### 08 model evaluate\n",
    "* x_test와 y_test를 사용해서 모델 평가\n",
    "* loss와 accuacy 산출"
   ]
  },
  {
   "cell_type": "code",
   "execution_count": 127,
   "id": "b257362a",
   "metadata": {},
   "outputs": [
    {
     "name": "stdout",
     "output_type": "stream",
     "text": [
      "10/10 - 0s - loss: 3.4799 - accuracy: 0.6267\n",
      "test_loss: 3.479933977127075 \n",
      "test_accuracy: 0.6266666650772095\n"
     ]
    }
   ],
   "source": [
    "test_loss, test_accuracy = model.evaluate(x_test/255.0,y_test, verbose=2)\n",
    "print(\"test_loss: {} \".format(test_loss))\n",
    "print(\"test_accuracy: {}\".format(test_accuracy))"
   ]
  },
  {
   "cell_type": "markdown",
   "id": "aa34aa14",
   "metadata": {},
   "source": [
    "### 09 모델 결과 확인"
   ]
  },
  {
   "cell_type": "code",
   "execution_count": 130,
   "id": "533cbfb7",
   "metadata": {},
   "outputs": [
    {
     "name": "stdout",
     "output_type": "stream",
     "text": [
      "model.predict() 결과 :  [1.0308223e-02 9.8890918e-01 7.8259635e-04]\n",
      "model이 추론한 가장 가능성이 높은 결과 :  1\n",
      "실제 데이터의 라벨 :  1\n"
     ]
    }
   ],
   "source": [
    "predicted_result = model.predict(x_test/255.0)\n",
    "predicted_labels = np.argmax(predicted_result, axis=1)\n",
    "\n",
    "idx=0 \n",
    "print('model.predict() 결과 : ', predicted_result[idx])\n",
    "print('model이 추론한 가장 가능성이 높은 결과 : ', predicted_labels[idx])\n",
    "print('실제 데이터의 라벨 : ', y_test[idx])"
   ]
  },
  {
   "cell_type": "markdown",
   "id": "74767346",
   "metadata": {},
   "source": [
    "### 10 예측 실패한 결과 확인"
   ]
  },
  {
   "cell_type": "code",
   "execution_count": 131,
   "id": "f5e4487a",
   "metadata": {},
   "outputs": [
    {
     "name": "stdout",
     "output_type": "stream",
     "text": [
      "예측확률분포: [0.00357519 0.89540416 0.10102071]\n",
      "라벨: 0, 예측결과: 1\n"
     ]
    },
    {
     "data": {
      "image/png": "[encoded data removed]",
      "text/plain": [
       "<Figure size 432x288 with 1 Axes>"
      ]
     },
     "metadata": {
      "needs_background": "light"
     },
     "output_type": "display_data"
    },
    {
     "name": "stdout",
     "output_type": "stream",
     "text": [
      "예측확률분포: [1.9806189e-06 8.5246813e-01 1.4752991e-01]\n",
      "라벨: 2, 예측결과: 1\n"
     ]
    },
    {
     "data": {
      "image/png": "[encoded data removed]",
      "text/plain": [
       "<Figure size 432x288 with 1 Axes>"
      ]
     },
     "metadata": {
      "needs_background": "light"
     },
     "output_type": "display_data"
    },
    {
     "name": "stdout",
     "output_type": "stream",
     "text": [
      "예측확률분포: [1.6815106e-06 9.0370166e-01 9.6296571e-02]\n",
      "라벨: 2, 예측결과: 1\n"
     ]
    },
    {
     "data": {
      "image/png": "[encoded data removed]",
      "text/plain": [
       "<Figure size 432x288 with 1 Axes>"
      ]
     },
     "metadata": {
      "needs_background": "light"
     },
     "output_type": "display_data"
    },
    {
     "name": "stdout",
     "output_type": "stream",
     "text": [
      "예측확률분포: [3.2117987e-06 8.7052798e-01 1.2946875e-01]\n",
      "라벨: 2, 예측결과: 1\n"
     ]
    },
    {
     "data": {
      "image/png": "[encoded data removed]",
      "text/plain": [
       "<Figure size 432x288 with 1 Axes>"
      ]
     },
     "metadata": {
      "needs_background": "light"
     },
     "output_type": "display_data"
    },
    {
     "name": "stdout",
     "output_type": "stream",
     "text": [
      "예측확률분포: [6.7311532e-08 9.9784780e-01 2.1521405e-03]\n",
      "라벨: 0, 예측결과: 1\n"
     ]
    },
    {
     "data": {
      "image/png": "[encoded data removed]",
      "text/plain": [
       "<Figure size 432x288 with 1 Axes>"
      ]
     },
     "metadata": {
      "needs_background": "light"
     },
     "output_type": "display_data"
    }
   ],
   "source": [
    "wrong_predict_list=[]\n",
    "for i, _ in enumerate(predicted_labels):\n",
    "    if predicted_labels[i] != y_test[i]:\n",
    "        wrong_predict_list.append(i)\n",
    "\n",
    "samples = random.choices(population=wrong_predict_list, k=5)\n",
    "\n",
    "for n in samples:\n",
    "    print(\"예측확률분포: \" + str(predicted_result[n]))\n",
    "    print(\"라벨: \" + str(y_test[n]) + \", 예측결과: \" + str(predicted_labels[n]))\n",
    "    plt.imshow(x_test[n], cmap=plt.cm.binary)\n",
    "    plt.show()"
   ]
  },
  {
   "cell_type": "markdown",
   "id": "22f095f6",
   "metadata": {},
   "source": [
    "## 결론\n",
    "\n",
    "### - 모델 정확도 약 62%\n",
    "### - 모델을 수정하지 않는 선에서 이미지 추가, 파라미터 변경 등을 수행한 결과 높지 않은 정확도 산출\n",
    "### - 이미지 수를 증가 시켰을 때 가장 높은 정확도 향상\n",
    "### - LeNet의 한계 \n",
    "* trian과 test의 배경이 달라질 수록 acurracy가 떨어지는 현상\n",
    "* 손의 정보를 인식하기 위해 분광학적으로나 형상학적으로나 부족한 모델성능인 것 같음\n",
    "* train과정에서 overfitting이 일어난 것 같아 이를 해결하기 위한 방법이 필요함"
   ]
  }
 ],
 "metadata": {
  "kernelspec": {
   "display_name": "Python 3 (ipykernel)",
   "language": "python",
   "name": "python3"
  },
  "language_info": {
   "codemirror_mode": {
    "name": "ipython",
    "version": 3
   },
   "file_extension": ".py",
   "mimetype": "text/x-python",
   "name": "python",
   "nbconvert_exporter": "python",
   "pygments_lexer": "ipython3",
   "version": "3.9.7"
  }
 },
 "nbformat": 4,
 "nbformat_minor": 5
}
