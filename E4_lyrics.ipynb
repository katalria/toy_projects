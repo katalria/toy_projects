{
 "cells": [
  {
   "cell_type": "markdown",
   "id": "281471a3",
   "metadata": {},
   "source": [
    "# E4 Lyrics\n",
    "* 소설을 학습시켜 글을 스스로 쓰는 모델 생성\n",
    "* LSTM과 Embedding사용하여 모델 작성\n",
    "* 문자열 처리와 토큰 사용 방법 연습"
   ]
  },
  {
   "cell_type": "markdown",
   "id": "5f7dfe06",
   "metadata": {},
   "source": [
    "## 00 package import and fuction define"
   ]
  },
  {
   "cell_type": "code",
   "execution_count": 1,
   "id": "f71e4bb2",
   "metadata": {},
   "outputs": [],
   "source": [
    "import os, re\n",
    "import numpy as np\n",
    "import glob\n",
    "import tensorflow as tf\n",
    "\n",
    "from sklearn.model_selection import train_test_split"
   ]
  },
  {
   "cell_type": "code",
   "execution_count": 2,
   "id": "cc59ad86",
   "metadata": {},
   "outputs": [],
   "source": [
    "def preprocess_sentence(sentence):\n",
    "    import re\n",
    "    sentence = sentence.lower().strip() #1\n",
    "    ssentence = re.sub(r\"([?.!,¿])\", r\" \\1 \", sentence) #2\n",
    "    sentence = re.sub(r'[\" \"]+', \" \", sentence) # 3\n",
    "    sentence = re.sub(r\"[^a-zA-Z?.!,¿]+\", \" \", sentence) # 4\n",
    "    sentence = sentence.strip() # 5\n",
    "    sentence = '<start> ' + sentence + ' <end>' # 6\n",
    "    return sentence\n"
   ]
  },
  {
   "cell_type": "markdown",
   "id": "f86e8ff0",
   "metadata": {},
   "source": [
    "#### preprocess sentence\n",
    "1. 문자 한문장을 입력받아\n",
    "2. 한문장 내의 특수문자를 해결\n",
    "    1. str.lower(): 해당 문자열을 소문자로 변경\n",
    "    2. str.strip([chars]): 인자로 전달된 문자를 str의 양쪽에서 제거\n",
    "    3. re.sub(a,b,sentence) :  sentence의 a를 b로 수정<br/>\n",
    "        r은 패턴을 명시할 때 r을 사용하고 뒤에 패턴을 표시<br/>\n",
    "        re.sub(r\"([?.!,¿])\", r\" \\1 \", sentence) : 특수문자 양쪽에 공백 추가<br/>\n",
    "        re.sub(r'[\" \"]+', \" \", sentence) : 여러개의 공백은 하나의 공백으로<br/>\n",
    "        re.sub(r\"[^a-zA-Z?.!,¿]+\", \" \", sentence) : a-zA-Z?.!,¿가 아닌 모든 문자를 하나의 공백으로<br/>\n",
    "    4. 다시 양쪽 공백을 지웁니다\n",
    "3. 각 문장의 시작과 끝을 표시\n",
    "    <start>, <end>를 문장 양 끝에 표시\n",
    "4. 처리된 문장을 리턴\n",
    "    \n",
    "**정규표현식**\n",
    "    r은 뒤에 나오는 문자열을 패턴으로 인식\n",
    "    \\1은 하나의 문자\n",
    "    +는 하나이상\n",
    "    ^은 아님의 의미 \n",
    "    r[\" \"]은 \" \"의 패턴으로 이루어진 모든 문자\n",
    "    r\"[^a-zA-Z?.!,¿]+\" : 소문자 a부터 z까지 대문자 A부터Z까지 문장기호가 아닌 것들이 하나 이상 \n",
    "    "
   ]
  },
  {
   "cell_type": "code",
   "execution_count": 3,
   "id": "91396a9f",
   "metadata": {},
   "outputs": [],
   "source": [
    "def tokenize(corpus):\n",
    "    tokenizer = tf.keras.preprocessing.text.Tokenizer(\n",
    "        num_words=12000, \n",
    "        filters=' ',\n",
    "        oov_token=\"<unk>\"\n",
    "    )\n",
    "    # corpus로 tokenizer 내부의 단어장을 완성\n",
    "    tokenizer.fit_on_texts(corpus)\n",
    "    # 준비한 tokenizer를 이용해 corpus를 Tensor로 변환\n",
    "    tensor = tokenizer.texts_to_sequences(corpus)   \n",
    "    # 입력 데이터의 시퀀스 길이를 일정하게함\n",
    "    tensor = tf.keras.preprocessing.sequence.pad_sequences(tensor, padding='post', maxlen = 15)  \n",
    "    print(tensor,tokenizer) \n",
    "    return tensor, tokenizer"
   ]
  },
  {
   "cell_type": "markdown",
   "id": "b001dafc",
   "metadata": {},
   "source": [
    "#### tokenize\n",
    "1. tensorflow의 Tokenizer를 이용해 문자열의 사전생성\n",
    "    tokenizer(num_words, filters, oov_token) : filter로 분할된 문자열을 최대 num_words만큼 입력받아 각 문자열에 번호를 붙이는 토큰화 함수 객체 생성, 사전에 없는 단어는 oov_token으로 해결\n",
    "2. 문자열을 입려해 사전 완성\n",
    "3. 완성된 사전으로 문자열을 토큰화 한 뒤 tensor로 변환\n",
    "4. 입력 데이터의 길이를 일정하게 조정"
   ]
  },
  {
   "cell_type": "code",
   "execution_count": 4,
   "id": "9dcd2258",
   "metadata": {},
   "outputs": [],
   "source": [
    "class TextGenerator(tf.keras.Model):\n",
    "    def __init__(self, vocab_size, embedding_size, hidden_size):\n",
    "        super().__init__()\n",
    "        \n",
    "        self.embedding = tf.keras.layers.Embedding(vocab_size, embedding_size)\n",
    "        self.rnn_1 = tf.keras.layers.LSTM(hidden_size, return_sequences=True)\n",
    "        self.rnn_2 = tf.keras.layers.LSTM(hidden_size, return_sequences=True)\n",
    "        self.linear = tf.keras.layers.Dense(vocab_size)\n",
    "        \n",
    "    def call(self, x):\n",
    "        out = self.embedding(x)\n",
    "        out = self.rnn_1(out)\n",
    "        out = self.rnn_2(out)\n",
    "        out = self.linear(out)\n",
    "        \n",
    "        return out"
   ]
  },
  {
   "cell_type": "markdown",
   "id": "f72c0ef0",
   "metadata": {},
   "source": [
    "#### textgenerator\n",
    "* 텐서플로 패키지를 이용해 모델구축\n",
    "* embedding : 문자열 엠베딩 int로 이루어진 array형태를 입력받는 레이어\n",
    "* lstm : long short term memory rnn계열의 순환신경망으로 여기서는 문자열을 출력하기 위해 각 순환 단계마다의 cellstate를 산출 \n",
    "* dense : 각 단어 엠베딩에 할당하기위해 사용 기본적인 텐서플로우의 레이어"
   ]
  },
  {
   "cell_type": "code",
   "execution_count": 5,
   "id": "0b741eea",
   "metadata": {},
   "outputs": [],
   "source": [
    "def generate_text(model, tokenizer, init_sentence=\"<start>\", max_len=20):\n",
    "    # 테스트를 위해서 입력받은 init_sentence도 텐서로 변환합니다\n",
    "    test_input = tokenizer.texts_to_sequences([init_sentence])\n",
    "    test_tensor = tf.convert_to_tensor(test_input, dtype=tf.int64)\n",
    "    end_token = tokenizer.word_index[\"<end>\"]\n",
    "\n",
    "\n",
    "    while True:\n",
    "        # 1\n",
    "        predict = model(test_tensor) \n",
    "        # 2\n",
    "        predict_word = tf.argmax(tf.nn.softmax(predict, axis=-1), axis=-1)[:, -1] \n",
    "        # 3 \n",
    "        test_tensor = tf.concat([test_tensor, tf.expand_dims(predict_word, axis=0)], axis=-1)\n",
    "        # 4\n",
    "        if predict_word.numpy()[0] == end_token: break\n",
    "        if test_tensor.shape[1] >= max_len: break\n",
    "\n",
    "    generated = \"\"\n",
    "    # tokenizer를 이용해 word index를 단어로 하나씩 변환합니다 \n",
    "    for word_index in test_tensor[0].numpy():\n",
    "        generated += tokenizer.index_word[word_index] + \" \"\n",
    "\n",
    "    return generated"
   ]
  },
  {
   "cell_type": "markdown",
   "id": "decf643f",
   "metadata": {},
   "source": [
    "#### generate_text\n",
    "* 학습된 모델과 toenizer(토큰화 시키는 함수 객체)를 입력받아 텍스트를 생성하는 함수\n",
    "* init_sentence는 시작하는 문자열 max_len은 생성되는 문자열의 최대 길이\n",
    "    1. init_sentence를 입력받아 토큰화 함수 객체를 이용해 토큰화 및 텐서화\n",
    "    while\n",
    "    2. 입력받은 텐서를 모델에 입력 \n",
    "    3. 모델에서 예측된 값 중 가장 높은 확률인 word index를 산출\n",
    "    4. 3에서 예측된 word index를 문장 뒤에 붙임\n",
    "    5. 모델이 <end>를 예측했거나, max_len에 도달했다면 while break\n",
    "* 텐서화 된 토큰들을 다시 문자열로 변경후 출력"
   ]
  },
  {
   "cell_type": "markdown",
   "id": "d14b48e5",
   "metadata": {},
   "source": [
    "## data_set load and preprocessing"
   ]
  },
  {
   "cell_type": "code",
   "execution_count": 6,
   "id": "a408e902",
   "metadata": {},
   "outputs": [
    {
     "name": "stdout",
     "output_type": "stream",
     "text": [
      "데이터 크기: 187088\n",
      "Examples:\n",
      " [\"Now I've heard there was a secret chord\", 'That David played, and it pleased the Lord', \"But you don't really care for music, do you?\"]\n"
     ]
    }
   ],
   "source": [
    "txt_file_path = os.getenv('HOME')+'/aiffel/lyricist/data/lyrics/*'\n",
    "\n",
    "txt_list = glob.glob(txt_file_path)\n",
    "\n",
    "raw_corpus = []\n",
    "\n",
    "# 여러개의 txt 파일을 모두 읽어서 raw_corpus 에 담습니다.\n",
    "for txt_file in txt_list:\n",
    "    with open(txt_file, \"r\") as f:\n",
    "        raw = f.read().splitlines()\n",
    "        raw_corpus.extend(raw)\n",
    "\n",
    "print(\"데이터 크기:\", len(raw_corpus))\n",
    "print(\"Examples:\\n\", raw_corpus[:3])"
   ]
  },
  {
   "cell_type": "markdown",
   "id": "8f149670",
   "metadata": {},
   "source": [
    "텍스트 파일 불러들여서 리스트에 저장하기\n",
    "1. 경로의 밑의 파일을 glob을 이용해서 리스트에 저장\n",
    "2. 리스트에 저장된 파일들을 for loop를 이용해서 각 파일을 한줄씩 읽어 raw_corpus에 한줄씩 저장 "
   ]
  },
  {
   "cell_type": "code",
   "execution_count": 7,
   "id": "42db9cd4",
   "metadata": {},
   "outputs": [
    {
     "name": "stdout",
     "output_type": "stream",
     "text": [
      "<start> he s a sample sentence. <end>\n"
     ]
    }
   ],
   "source": [
    "print(preprocess_sentence(\"he's a ;;;sample        sentence.\"))"
   ]
  },
  {
   "cell_type": "code",
   "execution_count": 8,
   "id": "61a27955",
   "metadata": {},
   "outputs": [
    {
     "data": {
      "text/plain": [
       "['<start> hallelujah <end>',\n",
       " '<start> hallelujah <end>',\n",
       " '<start> she tied you <end>',\n",
       " '<start> hallelujah <end>',\n",
       " '<start> hallelujah <end>',\n",
       " '<start> in every word <end>',\n",
       " '<start> hallelujah <end>',\n",
       " '<start> hallelujah <end>',\n",
       " '<start> and even though <end>',\n",
       " '<start> hallelujah <end>']"
      ]
     },
     "execution_count": 8,
     "metadata": {},
     "output_type": "execute_result"
    }
   ],
   "source": [
    "corpus = []\n",
    "for sentence in raw_corpus:\n",
    "    if len(sentence) == 0 : continue\n",
    "    if sentence[-1] == \":\": continue\n",
    "    if len(sentence) > 15 : continue\n",
    "    preprocessed_sentence = preprocess_sentence(sentence)\n",
    "    corpus.append(preprocessed_sentence)\n",
    "corpus[:10]"
   ]
  },
  {
   "cell_type": "markdown",
   "id": "8b06a0ea",
   "metadata": {},
   "source": [
    "문자열이 저장에 리스트 전처리하기\n",
    "\n",
    "특정 조건의 문자열을 제외하고 특수문자 문장부호 및 소문자 대문자 처리<br/>\n",
    "    1. 길이가 0인 경우 <br/>\n",
    "    2. 문자열이 마지막에 :로 끝나는경우<br/>\n",
    "    3. 문자열의 길이가 15 이상인 경우<br/>"
   ]
  },
  {
   "cell_type": "code",
   "execution_count": 9,
   "id": "7012c9f7",
   "metadata": {},
   "outputs": [
    {
     "name": "stdout",
     "output_type": "stream",
     "text": [
      "[[   2  155    3 ...    0    0    0]\n",
      " [   2  155    3 ...    0    0    0]\n",
      " [   2   49  917 ...    0    0    0]\n",
      " ...\n",
      " [   2  210 2041 ...    0    0    0]\n",
      " [   2   55   14 ...    0    0    0]\n",
      " [   2   30  387 ...    0    0    0]] <keras_preprocessing.text.Tokenizer object at 0x7fe095d64700>\n"
     ]
    }
   ],
   "source": [
    "tensor, tokenizer = tokenize(corpus)"
   ]
  },
  {
   "cell_type": "markdown",
   "id": "3113d51c",
   "metadata": {},
   "source": [
    "tokenize를 이용해서 토큰화 함수객체와 토큰화 된 문자열 데이터를 생성"
   ]
  },
  {
   "cell_type": "code",
   "execution_count": 10,
   "id": "7e395b09",
   "metadata": {},
   "outputs": [
    {
     "name": "stdout",
     "output_type": "stream",
     "text": [
      "1 : <unk>\n",
      "2 : <start>\n",
      "3 : <end>\n",
      "4 : i\n",
      "5 : you\n",
      "6 : it\n",
      "7 : me\n",
      "8 : oh\n",
      "9 : a\n",
      "10 : the\n"
     ]
    }
   ],
   "source": [
    "for idx in tokenizer.index_word:\n",
    "    print(idx, \":\", tokenizer.index_word[idx])\n",
    "\n",
    "    if idx >= 10: break"
   ]
  },
  {
   "cell_type": "code",
   "execution_count": 11,
   "id": "fa0d4016",
   "metadata": {},
   "outputs": [],
   "source": [
    "src_input = tensor[:, :-1]\n",
    "tgt_input = tensor[:, 1:]  "
   ]
  },
  {
   "cell_type": "markdown",
   "id": "1c62d473",
   "metadata": {},
   "source": [
    "NLP에서 input 문장을 Source sentence, output 문장을 Target sentence로 지칭<br/>\n",
    "여기서는 start부터 end 이전까지를 src, start 다음 문자부터 end까지를 tgt로 세팅"
   ]
  },
  {
   "cell_type": "code",
   "execution_count": 12,
   "id": "769d218c",
   "metadata": {},
   "outputs": [],
   "source": [
    "x_train,x_test,y_train,y_test = train_test_split(src_input,tgt_input, test_size = 0.2)"
   ]
  },
  {
   "cell_type": "markdown",
   "id": "fa6f7737",
   "metadata": {},
   "source": [
    "학습을 위한 train test 분리"
   ]
  },
  {
   "cell_type": "code",
   "execution_count": 13,
   "id": "532b327c",
   "metadata": {},
   "outputs": [
    {
     "data": {
      "text/plain": [
       "<BatchDataset shapes: ((256, 14), (256, 14)), types: (tf.int32, tf.int32)>"
      ]
     },
     "execution_count": 13,
     "metadata": {},
     "output_type": "execute_result"
    }
   ],
   "source": [
    "BUFFER_SIZE = len(src_input)\n",
    "BATCH_SIZE = 256\n",
    "steps_per_epoch = len(src_input) // BATCH_SIZE\n",
    "\n",
    "\n",
    "train_dataset = tf.data.Dataset.from_tensor_slices((x_train, y_train))\n",
    "train_dataset = train_dataset.shuffle(BUFFER_SIZE)\n",
    "train_dataset = train_dataset.batch(BATCH_SIZE, drop_remainder=True)\n",
    "train_dataset\n",
    "\n",
    "test_dataset = tf.data.Dataset.from_tensor_slices((x_test, y_test))\n",
    "test_dataset = test_dataset.shuffle(BUFFER_SIZE)\n",
    "test_dataset = test_dataset.batch(BATCH_SIZE, drop_remainder=True)\n",
    "test_dataset"
   ]
  },
  {
   "cell_type": "markdown",
   "id": "ede2aba5",
   "metadata": {},
   "source": [
    "여기서는 tensorflow에서 제공하는 Dataset 형식을 사용\n",
    "일반적으로 잘 학습하기위해 셔플 실행\n",
    "bacth 사이즈로 해당 데이터를 구성하되 마지막 데이터셋이 batch보다 작으면 drop "
   ]
  },
  {
   "cell_type": "code",
   "execution_count": 14,
   "id": "26555d50",
   "metadata": {},
   "outputs": [],
   "source": [
    "embedding_size = 256\n",
    "hidden_size = 1024\n",
    "model = TextGenerator(tokenizer.num_words + 1, embedding_size , hidden_size)\n"
   ]
  },
  {
   "cell_type": "markdown",
   "id": "18f8dfd5",
   "metadata": {},
   "source": [
    "* tokenizer가 구축한 단어사전 내 포함되지 않은 0:<pad>를 포함하여 +1개"
   ]
  },
  {
   "cell_type": "code",
   "execution_count": 16,
   "id": "7553f557",
   "metadata": {},
   "outputs": [
    {
     "data": {
      "text/plain": [
       "<tf.Tensor: shape=(256, 14, 12001), dtype=float32, numpy=\n",
       "array([[[ 1.34230286e-04,  1.72765271e-04,  9.35374555e-05, ...,\n",
       "         -2.16025845e-04,  8.58165658e-05,  2.73018173e-04],\n",
       "        [ 3.73696035e-04,  1.79407783e-04,  2.21729497e-04, ...,\n",
       "         -2.83687201e-04,  4.40890981e-05,  4.01186175e-04],\n",
       "        [ 5.96163212e-04,  9.78819298e-05,  3.40118801e-04, ...,\n",
       "         -2.91243661e-04, -5.20155299e-05,  4.79569630e-04],\n",
       "        ...,\n",
       "        [ 1.31632015e-03,  2.73205747e-04,  2.85118213e-03, ...,\n",
       "          1.76362728e-03,  8.39839398e-04,  1.10501796e-03],\n",
       "        [ 1.45802449e-03,  2.84484180e-04,  3.03320982e-03, ...,\n",
       "          1.86243374e-03,  9.75095492e-04,  1.14837626e-03],\n",
       "        [ 1.59663160e-03,  3.01058870e-04,  3.18692368e-03, ...,\n",
       "          1.93339481e-03,  1.09620905e-03,  1.18778297e-03]],\n",
       "\n",
       "       [[ 1.34230286e-04,  1.72765271e-04,  9.35374555e-05, ...,\n",
       "         -2.16025845e-04,  8.58165658e-05,  2.73018173e-04],\n",
       "        [ 3.29840375e-04,  1.02772334e-04,  3.04869289e-04, ...,\n",
       "         -4.57099348e-04,  2.21850045e-04,  4.75032546e-04],\n",
       "        [ 4.29316424e-04, -9.77794625e-05,  4.58748167e-04, ...,\n",
       "         -4.74591885e-04,  1.06960084e-04,  6.26601104e-04],\n",
       "        ...,\n",
       "        [ 1.38189096e-03,  5.85489150e-04,  2.41110474e-03, ...,\n",
       "          1.81030249e-03,  7.93324609e-04,  1.08963705e-03],\n",
       "        [ 1.54695776e-03,  5.68186864e-04,  2.61280756e-03, ...,\n",
       "          1.90734689e-03,  9.52627801e-04,  1.14603294e-03],\n",
       "        [ 1.70235953e-03,  5.51470031e-04,  2.79114605e-03, ...,\n",
       "          1.97093398e-03,  1.08937558e-03,  1.19721028e-03]],\n",
       "\n",
       "       [[ 1.34230286e-04,  1.72765271e-04,  9.35374555e-05, ...,\n",
       "         -2.16025845e-04,  8.58165658e-05,  2.73018173e-04],\n",
       "        [ 2.63894763e-04,  4.25460690e-04,  2.12979998e-04, ...,\n",
       "         -2.62775487e-04, -5.68687528e-06,  4.23005054e-04],\n",
       "        [ 1.76222209e-04,  4.79971990e-04,  2.62642308e-04, ...,\n",
       "         -2.80653512e-05, -1.56373615e-04,  4.37019538e-04],\n",
       "        ...,\n",
       "        [ 1.14554865e-03,  3.11871379e-04,  2.52978900e-03, ...,\n",
       "          1.93995168e-03,  9.33869043e-04,  4.69248276e-04],\n",
       "        [ 1.34174700e-03,  3.21011146e-04,  2.76414445e-03, ...,\n",
       "          2.02981173e-03,  1.10741006e-03,  5.85068483e-04],\n",
       "        [ 1.52326783e-03,  3.33492091e-04,  2.96343956e-03, ...,\n",
       "          2.08739983e-03,  1.25200930e-03,  6.96082017e-04]],\n",
       "\n",
       "       ...,\n",
       "\n",
       "       [[ 1.34230286e-04,  1.72765271e-04,  9.35374555e-05, ...,\n",
       "         -2.16025845e-04,  8.58165658e-05,  2.73018173e-04],\n",
       "        [ 3.65242391e-04,  2.20615140e-04,  2.29423546e-04, ...,\n",
       "         -5.46369527e-04,  2.89728399e-04,  3.37629230e-04],\n",
       "        [ 5.43936621e-04,  2.64718547e-04,  1.68834042e-04, ...,\n",
       "         -8.07712320e-04,  1.48098610e-04,  2.54106271e-04],\n",
       "        ...,\n",
       "        [ 1.61928148e-03,  6.46692177e-04,  2.84822076e-03, ...,\n",
       "          1.87671499e-03,  7.21244025e-04,  4.82877600e-04],\n",
       "        [ 1.73964107e-03,  6.07661088e-04,  3.04229558e-03, ...,\n",
       "          1.99784478e-03,  8.57320905e-04,  5.95829566e-04],\n",
       "        [ 1.85339991e-03,  5.76550607e-04,  3.20388889e-03, ...,\n",
       "          2.07752315e-03,  9.81427496e-04,  7.03686615e-04]],\n",
       "\n",
       "       [[ 1.34230286e-04,  1.72765271e-04,  9.35374555e-05, ...,\n",
       "         -2.16025845e-04,  8.58165658e-05,  2.73018173e-04],\n",
       "        [ 2.63894763e-04,  4.25460690e-04,  2.12979998e-04, ...,\n",
       "         -2.62775487e-04, -5.68687528e-06,  4.23005054e-04],\n",
       "        [ 2.63683000e-06,  5.72396792e-04,  3.76190961e-04, ...,\n",
       "         -2.77434709e-04, -2.95867911e-04,  4.07162326e-04],\n",
       "        ...,\n",
       "        [ 1.03718741e-03,  5.00718248e-04,  2.13044952e-03, ...,\n",
       "          1.32354011e-03,  4.30598913e-04,  8.36550083e-04],\n",
       "        [ 1.21896574e-03,  4.30623215e-04,  2.39887438e-03, ...,\n",
       "          1.49435329e-03,  6.71841088e-04,  9.13568714e-04],\n",
       "        [ 1.39049045e-03,  3.78829835e-04,  2.63613090e-03, ...,\n",
       "          1.62688480e-03,  8.80681735e-04,  9.86942556e-04]],\n",
       "\n",
       "       [[ 1.34230286e-04,  1.72765271e-04,  9.35374555e-05, ...,\n",
       "         -2.16025845e-04,  8.58165658e-05,  2.73018173e-04],\n",
       "        [ 3.48746398e-04,  2.63973634e-04,  2.68639182e-04, ...,\n",
       "         -5.53000078e-04,  2.49242818e-04,  9.24488995e-05],\n",
       "        [ 7.71659194e-04,  1.54928275e-04,  5.22509392e-04, ...,\n",
       "         -7.41452852e-04,  9.67086635e-06,  2.73007900e-04],\n",
       "        ...,\n",
       "        [ 1.76781882e-03,  4.57412738e-04,  2.40666885e-03, ...,\n",
       "          1.32525258e-03,  2.29822181e-04,  5.59721550e-04],\n",
       "        [ 1.84618100e-03,  4.35169990e-04,  2.63887760e-03, ...,\n",
       "          1.53360132e-03,  4.04777966e-04,  6.46408647e-04],\n",
       "        [ 1.92922563e-03,  4.19935997e-04,  2.83912849e-03, ...,\n",
       "          1.68984162e-03,  5.67417010e-04,  7.29428779e-04]]],\n",
       "      dtype=float32)>"
      ]
     },
     "execution_count": 16,
     "metadata": {},
     "output_type": "execute_result"
    }
   ],
   "source": [
    "for src_sample, tgt_sample in train_dataset.take(1): break\n",
    "\n",
    "# 한 배치만 불러온 데이터를 모델에 넣어봅니다\n",
    "model(src_sample)"
   ]
  },
  {
   "cell_type": "code",
   "execution_count": 19,
   "id": "0e384ea6",
   "metadata": {},
   "outputs": [
    {
     "name": "stdout",
     "output_type": "stream",
     "text": [
      "Model: \"text_generator\"\n",
      "_________________________________________________________________\n",
      "Layer (type)                 Output Shape              Param #   \n",
      "=================================================================\n",
      "embedding (Embedding)        multiple                  3072256   \n",
      "_________________________________________________________________\n",
      "lstm (LSTM)                  multiple                  5246976   \n",
      "_________________________________________________________________\n",
      "lstm_1 (LSTM)                multiple                  8392704   \n",
      "_________________________________________________________________\n",
      "dense (Dense)                multiple                  12301025  \n",
      "=================================================================\n",
      "Total params: 29,012,961\n",
      "Trainable params: 29,012,961\n",
      "Non-trainable params: 0\n",
      "_________________________________________________________________\n"
     ]
    }
   ],
   "source": [
    "model.summary()"
   ]
  },
  {
   "cell_type": "code",
   "execution_count": 18,
   "id": "ab09523b",
   "metadata": {
    "scrolled": true
   },
   "outputs": [
    {
     "name": "stdout",
     "output_type": "stream",
     "text": [
      "Epoch 1/10\n",
      "44/44 [==============================] - 9s 149ms/step - loss: 2.6831\n",
      "Epoch 2/10\n",
      "44/44 [==============================] - 7s 152ms/step - loss: 1.4976\n",
      "Epoch 3/10\n",
      "44/44 [==============================] - 7s 154ms/step - loss: 1.2589\n",
      "Epoch 4/10\n",
      "44/44 [==============================] - 7s 157ms/step - loss: 1.1793\n",
      "Epoch 5/10\n",
      "44/44 [==============================] - 7s 159ms/step - loss: 1.1455\n",
      "Epoch 6/10\n",
      "44/44 [==============================] - 7s 160ms/step - loss: 1.1249\n",
      "Epoch 7/10\n",
      "44/44 [==============================] - 7s 163ms/step - loss: 1.1083\n",
      "Epoch 8/10\n",
      "44/44 [==============================] - 7s 163ms/step - loss: 1.0893\n",
      "Epoch 9/10\n",
      "44/44 [==============================] - 7s 165ms/step - loss: 1.0707\n",
      "Epoch 10/10\n",
      "44/44 [==============================] - 7s 169ms/step - loss: 1.0532\n"
     ]
    },
    {
     "data": {
      "text/plain": [
       "<keras.callbacks.History at 0x7fe095d64820>"
      ]
     },
     "execution_count": 18,
     "metadata": {},
     "output_type": "execute_result"
    }
   ],
   "source": [
    "optimizer = tf.keras.optimizers.Adam()\n",
    "loss = tf.keras.losses.SparseCategoricalCrossentropy(\n",
    "    from_logits=True,\n",
    "    reduction='none'\n",
    ")\n",
    "\n",
    "model.compile(loss=loss, optimizer=optimizer)\n",
    "model.fit(train_dataset, epochs=10)"
   ]
  },
  {
   "cell_type": "code",
   "execution_count": 26,
   "id": "3e0638f5",
   "metadata": {},
   "outputs": [
    {
     "data": {
      "text/plain": [
       "'<start> where i t <end> '"
      ]
     },
     "execution_count": 26,
     "metadata": {},
     "output_type": "execute_result"
    }
   ],
   "source": [
    "generate_text(model, tokenizer, init_sentence=\"<start> where\")"
   ]
  },
  {
   "cell_type": "code",
   "execution_count": 21,
   "id": "ca2847e3",
   "metadata": {},
   "outputs": [
    {
     "data": {
      "text/plain": [
       "'<start> i love you <end> '"
      ]
     },
     "execution_count": 21,
     "metadata": {},
     "output_type": "execute_result"
    }
   ],
   "source": [
    "generate_text(model, tokenizer, init_sentence=\"<start> i love\", max_len=20)"
   ]
  },
  {
   "cell_type": "code",
   "execution_count": 38,
   "id": "561d9e85",
   "metadata": {},
   "outputs": [
    {
     "data": {
      "text/plain": [
       "'<start> i have a da <end> '"
      ]
     },
     "execution_count": 38,
     "metadata": {},
     "output_type": "execute_result"
    }
   ],
   "source": [
    "generate_text(model, tokenizer, init_sentence=\"<start> i have\", max_len=20)"
   ]
  },
  {
   "cell_type": "markdown",
   "id": "a1f9fb20",
   "metadata": {},
   "source": [
    "# 회고\n",
    "* 학습시키는 텍스트에 질과 내용에 따라 모델의 정확도 및 어투가 달라지는 것을 확인\n",
    "* embedding 및 모데을 구조에 따른 loss 및 예측 결과 확인 필요\n",
    "* 모델이 굉장히 heavy해서 최적화 시킬수 있는 방법 확인 필요\n",
    "* validation 및 여러 regulation을 적용 해볼 필요\n",
    "* 순방향 뿐만 아니라 양방향 신경망에서의 적용 필요"
   ]
  }
 ],
 "metadata": {
  "kernelspec": {
   "display_name": "Python 3 (ipykernel)",
   "language": "python",
   "name": "python3"
  },
  "language_info": {
   "codemirror_mode": {
    "name": "ipython",
    "version": 3
   },
   "file_extension": ".py",
   "mimetype": "text/x-python",
   "name": "python",
   "nbconvert_exporter": "python",
   "pygments_lexer": "ipython3",
   "version": "3.9.7"
  }
 },
 "nbformat": 4,
 "nbformat_minor": 5
}
