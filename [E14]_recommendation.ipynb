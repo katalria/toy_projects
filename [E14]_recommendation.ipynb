{
 "cells": [
  {
   "cell_type": "markdown",
   "id": "900761be",
   "metadata": {},
   "source": [
    "## [E14]_Recommendation"
   ]
  },
  {
   "cell_type": "markdown",
   "id": "9dca7d58",
   "metadata": {},
   "source": [
    "## 목차\n",
    "[0. data load and preprocessing](#-0.-data-load-and-preprocessing)"
   ]
  },
  {
   "cell_type": "markdown",
   "id": "4aa4407e",
   "metadata": {},
   "source": [
    "# 0. data load and preprocessing"
   ]
  },
  {
   "cell_type": "code",
   "execution_count": 1,
   "id": "da87e8ac",
   "metadata": {},
   "outputs": [],
   "source": [
    "import pandas as pd\n",
    "import numpy as np\n",
    "import os\n",
    "\n",
    "from scipy.sparse import csr_matrix\n",
    "from implicit.als import AlternatingLeastSquares"
   ]
  },
  {
   "cell_type": "code",
   "execution_count": 2,
   "id": "2ce60f59",
   "metadata": {
    "scrolled": true
   },
   "outputs": [
    {
     "data": {
      "text/html": [
       "<div>\n",
       "<style scoped>\n",
       "    .dataframe tbody tr th:only-of-type {\n",
       "        vertical-align: middle;\n",
       "    }\n",
       "\n",
       "    .dataframe tbody tr th {\n",
       "        vertical-align: top;\n",
       "    }\n",
       "\n",
       "    .dataframe thead th {\n",
       "        text-align: right;\n",
       "    }\n",
       "</style>\n",
       "<table border=\"1\" class=\"dataframe\">\n",
       "  <thead>\n",
       "    <tr style=\"text-align: right;\">\n",
       "      <th></th>\n",
       "      <th>user_id</th>\n",
       "      <th>movie_id</th>\n",
       "      <th>ratings</th>\n",
       "      <th>timestamp</th>\n",
       "    </tr>\n",
       "  </thead>\n",
       "  <tbody>\n",
       "    <tr>\n",
       "      <th>0</th>\n",
       "      <td>1</td>\n",
       "      <td>1193</td>\n",
       "      <td>5</td>\n",
       "      <td>978300760</td>\n",
       "    </tr>\n",
       "    <tr>\n",
       "      <th>1</th>\n",
       "      <td>1</td>\n",
       "      <td>661</td>\n",
       "      <td>3</td>\n",
       "      <td>978302109</td>\n",
       "    </tr>\n",
       "    <tr>\n",
       "      <th>2</th>\n",
       "      <td>1</td>\n",
       "      <td>914</td>\n",
       "      <td>3</td>\n",
       "      <td>978301968</td>\n",
       "    </tr>\n",
       "    <tr>\n",
       "      <th>3</th>\n",
       "      <td>1</td>\n",
       "      <td>3408</td>\n",
       "      <td>4</td>\n",
       "      <td>978300275</td>\n",
       "    </tr>\n",
       "    <tr>\n",
       "      <th>4</th>\n",
       "      <td>1</td>\n",
       "      <td>2355</td>\n",
       "      <td>5</td>\n",
       "      <td>978824291</td>\n",
       "    </tr>\n",
       "  </tbody>\n",
       "</table>\n",
       "</div>"
      ],
      "text/plain": [
       "   user_id  movie_id  ratings  timestamp\n",
       "0        1      1193        5  978300760\n",
       "1        1       661        3  978302109\n",
       "2        1       914        3  978301968\n",
       "3        1      3408        4  978300275\n",
       "4        1      2355        5  978824291"
      ]
     },
     "execution_count": 2,
     "metadata": {},
     "output_type": "execute_result"
    }
   ],
   "source": [
    "rating_file_path=os.getenv('HOME') + '/aiffel/recommendata_iu/data/ml-1m/ratings.dat'\n",
    "ratings_cols = ['user_id', 'movie_id', 'ratings', 'timestamp']\n",
    "ratings = pd.read_csv(rating_file_path, sep='::', names=ratings_cols, engine='python', encoding = \"ISO-8859-1\")\n",
    "orginal_data_size = len(ratings)\n",
    "ratings.head()"
   ]
  },
  {
   "cell_type": "raw",
   "id": "29a477da",
   "metadata": {},
   "source": [
    "* 3점 이상만 남기는 이유\n",
    " - 별점 테러와 같은 극단적 경우를 제외 >> 1,5점을 제외할 수 는 업는가\n",
    " - 영화 평점 시스템에 대한 이해가 필요"
   ]
  },
  {
   "cell_type": "code",
   "execution_count": 3,
   "id": "51b0d426",
   "metadata": {
    "scrolled": true
   },
   "outputs": [
    {
     "name": "stdout",
     "output_type": "stream",
     "text": [
      "orginal_data_size: 1000209, filtered_data_size: 836478\n",
      "Ratio of Remaining Data is 83.63%\n"
     ]
    }
   ],
   "source": [
    "# 3점 이상만 남깁니다.\n",
    "ratings = ratings[ratings['ratings']>=3]\n",
    "filtered_data_size = len(ratings)\n",
    "\n",
    "print(f'orginal_data_size: {orginal_data_size}, filtered_data_size: {filtered_data_size}')\n",
    "print(f'Ratio of Remaining Data is {filtered_data_size / orginal_data_size:.2%}')"
   ]
  },
  {
   "cell_type": "code",
   "execution_count": 4,
   "id": "febbbf15",
   "metadata": {},
   "outputs": [],
   "source": [
    "# ratings 컬럼의 이름을 counts로 바꿉니다.\n",
    "ratings.rename(columns={'ratings':'counts'}, inplace=True)"
   ]
  },
  {
   "cell_type": "code",
   "execution_count": 5,
   "id": "c6ba1a52",
   "metadata": {},
   "outputs": [
    {
     "data": {
      "text/plain": [
       "0          5\n",
       "1          3\n",
       "2          3\n",
       "3          4\n",
       "4          5\n",
       "          ..\n",
       "1000203    3\n",
       "1000205    5\n",
       "1000206    5\n",
       "1000207    4\n",
       "1000208    4\n",
       "Name: counts, Length: 836478, dtype: int64"
      ]
     },
     "execution_count": 5,
     "metadata": {},
     "output_type": "execute_result"
    }
   ],
   "source": [
    "ratings['counts']"
   ]
  },
  {
   "cell_type": "code",
   "execution_count": 6,
   "id": "89f6f550",
   "metadata": {},
   "outputs": [
    {
     "data": {
      "text/html": [
       "<div>\n",
       "<style scoped>\n",
       "    .dataframe tbody tr th:only-of-type {\n",
       "        vertical-align: middle;\n",
       "    }\n",
       "\n",
       "    .dataframe tbody tr th {\n",
       "        vertical-align: top;\n",
       "    }\n",
       "\n",
       "    .dataframe thead th {\n",
       "        text-align: right;\n",
       "    }\n",
       "</style>\n",
       "<table border=\"1\" class=\"dataframe\">\n",
       "  <thead>\n",
       "    <tr style=\"text-align: right;\">\n",
       "      <th></th>\n",
       "      <th>movie_id</th>\n",
       "      <th>title</th>\n",
       "      <th>genre</th>\n",
       "    </tr>\n",
       "  </thead>\n",
       "  <tbody>\n",
       "    <tr>\n",
       "      <th>0</th>\n",
       "      <td>1</td>\n",
       "      <td>Toy Story (1995)</td>\n",
       "      <td>Animation|Children's|Comedy</td>\n",
       "    </tr>\n",
       "    <tr>\n",
       "      <th>1</th>\n",
       "      <td>2</td>\n",
       "      <td>Jumanji (1995)</td>\n",
       "      <td>Adventure|Children's|Fantasy</td>\n",
       "    </tr>\n",
       "    <tr>\n",
       "      <th>2</th>\n",
       "      <td>3</td>\n",
       "      <td>Grumpier Old Men (1995)</td>\n",
       "      <td>Comedy|Romance</td>\n",
       "    </tr>\n",
       "    <tr>\n",
       "      <th>3</th>\n",
       "      <td>4</td>\n",
       "      <td>Waiting to Exhale (1995)</td>\n",
       "      <td>Comedy|Drama</td>\n",
       "    </tr>\n",
       "    <tr>\n",
       "      <th>4</th>\n",
       "      <td>5</td>\n",
       "      <td>Father of the Bride Part II (1995)</td>\n",
       "      <td>Comedy</td>\n",
       "    </tr>\n",
       "  </tbody>\n",
       "</table>\n",
       "</div>"
      ],
      "text/plain": [
       "   movie_id                               title                         genre\n",
       "0         1                    Toy Story (1995)   Animation|Children's|Comedy\n",
       "1         2                      Jumanji (1995)  Adventure|Children's|Fantasy\n",
       "2         3             Grumpier Old Men (1995)                Comedy|Romance\n",
       "3         4            Waiting to Exhale (1995)                  Comedy|Drama\n",
       "4         5  Father of the Bride Part II (1995)                        Comedy"
      ]
     },
     "execution_count": 6,
     "metadata": {},
     "output_type": "execute_result"
    }
   ],
   "source": [
    "# 영화 제목 확인 \n",
    "movie_file_path=os.getenv('HOME') + '/aiffel/recommendata_iu/data/ml-1m/movies.dat'\n",
    "cols = ['movie_id', 'title', 'genre'] \n",
    "movies = pd.read_csv(movie_file_path, sep='::', names=cols, engine='python', encoding='ISO-8859-1')\n",
    "movies.head()"
   ]
  },
  {
   "cell_type": "code",
   "execution_count": 7,
   "id": "4631cb70",
   "metadata": {},
   "outputs": [],
   "source": [
    "data = pd.merge(ratings,movies,how = 'left',on='movie_id')"
   ]
  },
  {
   "cell_type": "code",
   "execution_count": 8,
   "id": "fdc296ef",
   "metadata": {
    "scrolled": true
   },
   "outputs": [
    {
     "data": {
      "text/html": [
       "<div>\n",
       "<style scoped>\n",
       "    .dataframe tbody tr th:only-of-type {\n",
       "        vertical-align: middle;\n",
       "    }\n",
       "\n",
       "    .dataframe tbody tr th {\n",
       "        vertical-align: top;\n",
       "    }\n",
       "\n",
       "    .dataframe thead th {\n",
       "        text-align: right;\n",
       "    }\n",
       "</style>\n",
       "<table border=\"1\" class=\"dataframe\">\n",
       "  <thead>\n",
       "    <tr style=\"text-align: right;\">\n",
       "      <th></th>\n",
       "      <th>user_id</th>\n",
       "      <th>movie_id</th>\n",
       "      <th>counts</th>\n",
       "      <th>timestamp</th>\n",
       "      <th>title</th>\n",
       "      <th>genre</th>\n",
       "    </tr>\n",
       "  </thead>\n",
       "  <tbody>\n",
       "    <tr>\n",
       "      <th>0</th>\n",
       "      <td>1</td>\n",
       "      <td>1193</td>\n",
       "      <td>5</td>\n",
       "      <td>978300760</td>\n",
       "      <td>One Flew Over the Cuckoo's Nest (1975)</td>\n",
       "      <td>Drama</td>\n",
       "    </tr>\n",
       "    <tr>\n",
       "      <th>1</th>\n",
       "      <td>1</td>\n",
       "      <td>661</td>\n",
       "      <td>3</td>\n",
       "      <td>978302109</td>\n",
       "      <td>James and the Giant Peach (1996)</td>\n",
       "      <td>Animation|Children's|Musical</td>\n",
       "    </tr>\n",
       "    <tr>\n",
       "      <th>2</th>\n",
       "      <td>1</td>\n",
       "      <td>914</td>\n",
       "      <td>3</td>\n",
       "      <td>978301968</td>\n",
       "      <td>My Fair Lady (1964)</td>\n",
       "      <td>Musical|Romance</td>\n",
       "    </tr>\n",
       "    <tr>\n",
       "      <th>3</th>\n",
       "      <td>1</td>\n",
       "      <td>3408</td>\n",
       "      <td>4</td>\n",
       "      <td>978300275</td>\n",
       "      <td>Erin Brockovich (2000)</td>\n",
       "      <td>Drama</td>\n",
       "    </tr>\n",
       "    <tr>\n",
       "      <th>4</th>\n",
       "      <td>1</td>\n",
       "      <td>2355</td>\n",
       "      <td>5</td>\n",
       "      <td>978824291</td>\n",
       "      <td>Bug's Life, A (1998)</td>\n",
       "      <td>Animation|Children's|Comedy</td>\n",
       "    </tr>\n",
       "    <tr>\n",
       "      <th>5</th>\n",
       "      <td>1</td>\n",
       "      <td>1197</td>\n",
       "      <td>3</td>\n",
       "      <td>978302268</td>\n",
       "      <td>Princess Bride, The (1987)</td>\n",
       "      <td>Action|Adventure|Comedy|Romance</td>\n",
       "    </tr>\n",
       "    <tr>\n",
       "      <th>6</th>\n",
       "      <td>1</td>\n",
       "      <td>1287</td>\n",
       "      <td>5</td>\n",
       "      <td>978302039</td>\n",
       "      <td>Ben-Hur (1959)</td>\n",
       "      <td>Action|Adventure|Drama</td>\n",
       "    </tr>\n",
       "    <tr>\n",
       "      <th>7</th>\n",
       "      <td>1</td>\n",
       "      <td>2804</td>\n",
       "      <td>5</td>\n",
       "      <td>978300719</td>\n",
       "      <td>Christmas Story, A (1983)</td>\n",
       "      <td>Comedy|Drama</td>\n",
       "    </tr>\n",
       "    <tr>\n",
       "      <th>8</th>\n",
       "      <td>1</td>\n",
       "      <td>594</td>\n",
       "      <td>4</td>\n",
       "      <td>978302268</td>\n",
       "      <td>Snow White and the Seven Dwarfs (1937)</td>\n",
       "      <td>Animation|Children's|Musical</td>\n",
       "    </tr>\n",
       "    <tr>\n",
       "      <th>9</th>\n",
       "      <td>1</td>\n",
       "      <td>919</td>\n",
       "      <td>4</td>\n",
       "      <td>978301368</td>\n",
       "      <td>Wizard of Oz, The (1939)</td>\n",
       "      <td>Adventure|Children's|Drama|Musical</td>\n",
       "    </tr>\n",
       "    <tr>\n",
       "      <th>10</th>\n",
       "      <td>1</td>\n",
       "      <td>595</td>\n",
       "      <td>5</td>\n",
       "      <td>978824268</td>\n",
       "      <td>Beauty and the Beast (1991)</td>\n",
       "      <td>Animation|Children's|Musical</td>\n",
       "    </tr>\n",
       "    <tr>\n",
       "      <th>11</th>\n",
       "      <td>1</td>\n",
       "      <td>938</td>\n",
       "      <td>4</td>\n",
       "      <td>978301752</td>\n",
       "      <td>Gigi (1958)</td>\n",
       "      <td>Musical</td>\n",
       "    </tr>\n",
       "    <tr>\n",
       "      <th>12</th>\n",
       "      <td>1</td>\n",
       "      <td>2398</td>\n",
       "      <td>4</td>\n",
       "      <td>978302281</td>\n",
       "      <td>Miracle on 34th Street (1947)</td>\n",
       "      <td>Drama</td>\n",
       "    </tr>\n",
       "    <tr>\n",
       "      <th>13</th>\n",
       "      <td>1</td>\n",
       "      <td>2918</td>\n",
       "      <td>4</td>\n",
       "      <td>978302124</td>\n",
       "      <td>Ferris Bueller's Day Off (1986)</td>\n",
       "      <td>Comedy</td>\n",
       "    </tr>\n",
       "    <tr>\n",
       "      <th>14</th>\n",
       "      <td>1</td>\n",
       "      <td>1035</td>\n",
       "      <td>5</td>\n",
       "      <td>978301753</td>\n",
       "      <td>Sound of Music, The (1965)</td>\n",
       "      <td>Musical</td>\n",
       "    </tr>\n",
       "    <tr>\n",
       "      <th>15</th>\n",
       "      <td>1</td>\n",
       "      <td>2791</td>\n",
       "      <td>4</td>\n",
       "      <td>978302188</td>\n",
       "      <td>Airplane! (1980)</td>\n",
       "      <td>Comedy</td>\n",
       "    </tr>\n",
       "    <tr>\n",
       "      <th>16</th>\n",
       "      <td>1</td>\n",
       "      <td>2687</td>\n",
       "      <td>3</td>\n",
       "      <td>978824268</td>\n",
       "      <td>Tarzan (1999)</td>\n",
       "      <td>Animation|Children's</td>\n",
       "    </tr>\n",
       "    <tr>\n",
       "      <th>17</th>\n",
       "      <td>1</td>\n",
       "      <td>2018</td>\n",
       "      <td>4</td>\n",
       "      <td>978301777</td>\n",
       "      <td>Bambi (1942)</td>\n",
       "      <td>Animation|Children's</td>\n",
       "    </tr>\n",
       "    <tr>\n",
       "      <th>18</th>\n",
       "      <td>1</td>\n",
       "      <td>3105</td>\n",
       "      <td>5</td>\n",
       "      <td>978301713</td>\n",
       "      <td>Awakenings (1990)</td>\n",
       "      <td>Drama</td>\n",
       "    </tr>\n",
       "    <tr>\n",
       "      <th>19</th>\n",
       "      <td>1</td>\n",
       "      <td>2797</td>\n",
       "      <td>4</td>\n",
       "      <td>978302039</td>\n",
       "      <td>Big (1988)</td>\n",
       "      <td>Comedy|Fantasy</td>\n",
       "    </tr>\n",
       "    <tr>\n",
       "      <th>20</th>\n",
       "      <td>1</td>\n",
       "      <td>2321</td>\n",
       "      <td>3</td>\n",
       "      <td>978302205</td>\n",
       "      <td>Pleasantville (1998)</td>\n",
       "      <td>Comedy</td>\n",
       "    </tr>\n",
       "    <tr>\n",
       "      <th>21</th>\n",
       "      <td>1</td>\n",
       "      <td>720</td>\n",
       "      <td>3</td>\n",
       "      <td>978300760</td>\n",
       "      <td>Wallace &amp; Gromit: The Best of Aardman Animatio...</td>\n",
       "      <td>Animation</td>\n",
       "    </tr>\n",
       "    <tr>\n",
       "      <th>22</th>\n",
       "      <td>1</td>\n",
       "      <td>1270</td>\n",
       "      <td>5</td>\n",
       "      <td>978300055</td>\n",
       "      <td>Back to the Future (1985)</td>\n",
       "      <td>Comedy|Sci-Fi</td>\n",
       "    </tr>\n",
       "    <tr>\n",
       "      <th>23</th>\n",
       "      <td>1</td>\n",
       "      <td>527</td>\n",
       "      <td>5</td>\n",
       "      <td>978824195</td>\n",
       "      <td>Schindler's List (1993)</td>\n",
       "      <td>Drama|War</td>\n",
       "    </tr>\n",
       "    <tr>\n",
       "      <th>24</th>\n",
       "      <td>1</td>\n",
       "      <td>2340</td>\n",
       "      <td>3</td>\n",
       "      <td>978300103</td>\n",
       "      <td>Meet Joe Black (1998)</td>\n",
       "      <td>Romance</td>\n",
       "    </tr>\n",
       "    <tr>\n",
       "      <th>25</th>\n",
       "      <td>1</td>\n",
       "      <td>48</td>\n",
       "      <td>5</td>\n",
       "      <td>978824351</td>\n",
       "      <td>Pocahontas (1995)</td>\n",
       "      <td>Animation|Children's|Musical|Romance</td>\n",
       "    </tr>\n",
       "    <tr>\n",
       "      <th>26</th>\n",
       "      <td>1</td>\n",
       "      <td>1097</td>\n",
       "      <td>4</td>\n",
       "      <td>978301953</td>\n",
       "      <td>E.T. the Extra-Terrestrial (1982)</td>\n",
       "      <td>Children's|Drama|Fantasy|Sci-Fi</td>\n",
       "    </tr>\n",
       "    <tr>\n",
       "      <th>27</th>\n",
       "      <td>1</td>\n",
       "      <td>1721</td>\n",
       "      <td>4</td>\n",
       "      <td>978300055</td>\n",
       "      <td>Titanic (1997)</td>\n",
       "      <td>Drama|Romance</td>\n",
       "    </tr>\n",
       "    <tr>\n",
       "      <th>28</th>\n",
       "      <td>1</td>\n",
       "      <td>1545</td>\n",
       "      <td>4</td>\n",
       "      <td>978824139</td>\n",
       "      <td>Ponette (1996)</td>\n",
       "      <td>Drama</td>\n",
       "    </tr>\n",
       "    <tr>\n",
       "      <th>29</th>\n",
       "      <td>1</td>\n",
       "      <td>745</td>\n",
       "      <td>3</td>\n",
       "      <td>978824268</td>\n",
       "      <td>Close Shave, A (1995)</td>\n",
       "      <td>Animation|Comedy|Thriller</td>\n",
       "    </tr>\n",
       "    <tr>\n",
       "      <th>30</th>\n",
       "      <td>1</td>\n",
       "      <td>2294</td>\n",
       "      <td>4</td>\n",
       "      <td>978824291</td>\n",
       "      <td>Antz (1998)</td>\n",
       "      <td>Animation|Children's</td>\n",
       "    </tr>\n",
       "    <tr>\n",
       "      <th>31</th>\n",
       "      <td>1</td>\n",
       "      <td>3186</td>\n",
       "      <td>4</td>\n",
       "      <td>978300019</td>\n",
       "      <td>Girl, Interrupted (1999)</td>\n",
       "      <td>Drama</td>\n",
       "    </tr>\n",
       "    <tr>\n",
       "      <th>32</th>\n",
       "      <td>1</td>\n",
       "      <td>1566</td>\n",
       "      <td>4</td>\n",
       "      <td>978824330</td>\n",
       "      <td>Hercules (1997)</td>\n",
       "      <td>Adventure|Animation|Children's|Comedy|Musical</td>\n",
       "    </tr>\n",
       "    <tr>\n",
       "      <th>33</th>\n",
       "      <td>1</td>\n",
       "      <td>588</td>\n",
       "      <td>4</td>\n",
       "      <td>978824268</td>\n",
       "      <td>Aladdin (1992)</td>\n",
       "      <td>Animation|Children's|Comedy|Musical</td>\n",
       "    </tr>\n",
       "    <tr>\n",
       "      <th>34</th>\n",
       "      <td>1</td>\n",
       "      <td>1907</td>\n",
       "      <td>4</td>\n",
       "      <td>978824330</td>\n",
       "      <td>Mulan (1998)</td>\n",
       "      <td>Animation|Children's</td>\n",
       "    </tr>\n",
       "    <tr>\n",
       "      <th>35</th>\n",
       "      <td>1</td>\n",
       "      <td>783</td>\n",
       "      <td>4</td>\n",
       "      <td>978824291</td>\n",
       "      <td>Hunchback of Notre Dame, The (1996)</td>\n",
       "      <td>Animation|Children's|Musical</td>\n",
       "    </tr>\n",
       "    <tr>\n",
       "      <th>36</th>\n",
       "      <td>1</td>\n",
       "      <td>1836</td>\n",
       "      <td>5</td>\n",
       "      <td>978300172</td>\n",
       "      <td>Last Days of Disco, The (1998)</td>\n",
       "      <td>Drama</td>\n",
       "    </tr>\n",
       "    <tr>\n",
       "      <th>37</th>\n",
       "      <td>1</td>\n",
       "      <td>1022</td>\n",
       "      <td>5</td>\n",
       "      <td>978300055</td>\n",
       "      <td>Cinderella (1950)</td>\n",
       "      <td>Animation|Children's|Musical</td>\n",
       "    </tr>\n",
       "    <tr>\n",
       "      <th>38</th>\n",
       "      <td>1</td>\n",
       "      <td>2762</td>\n",
       "      <td>4</td>\n",
       "      <td>978302091</td>\n",
       "      <td>Sixth Sense, The (1999)</td>\n",
       "      <td>Thriller</td>\n",
       "    </tr>\n",
       "    <tr>\n",
       "      <th>39</th>\n",
       "      <td>1</td>\n",
       "      <td>150</td>\n",
       "      <td>5</td>\n",
       "      <td>978301777</td>\n",
       "      <td>Apollo 13 (1995)</td>\n",
       "      <td>Drama</td>\n",
       "    </tr>\n",
       "    <tr>\n",
       "      <th>40</th>\n",
       "      <td>1</td>\n",
       "      <td>1</td>\n",
       "      <td>5</td>\n",
       "      <td>978824268</td>\n",
       "      <td>Toy Story (1995)</td>\n",
       "      <td>Animation|Children's|Comedy</td>\n",
       "    </tr>\n",
       "    <tr>\n",
       "      <th>41</th>\n",
       "      <td>1</td>\n",
       "      <td>1961</td>\n",
       "      <td>5</td>\n",
       "      <td>978301590</td>\n",
       "      <td>Rain Man (1988)</td>\n",
       "      <td>Drama</td>\n",
       "    </tr>\n",
       "    <tr>\n",
       "      <th>42</th>\n",
       "      <td>1</td>\n",
       "      <td>1962</td>\n",
       "      <td>4</td>\n",
       "      <td>978301753</td>\n",
       "      <td>Driving Miss Daisy (1989)</td>\n",
       "      <td>Drama</td>\n",
       "    </tr>\n",
       "    <tr>\n",
       "      <th>43</th>\n",
       "      <td>1</td>\n",
       "      <td>2692</td>\n",
       "      <td>4</td>\n",
       "      <td>978301570</td>\n",
       "      <td>Run Lola Run (Lola rennt) (1998)</td>\n",
       "      <td>Action|Crime|Romance</td>\n",
       "    </tr>\n",
       "    <tr>\n",
       "      <th>44</th>\n",
       "      <td>1</td>\n",
       "      <td>260</td>\n",
       "      <td>4</td>\n",
       "      <td>978300760</td>\n",
       "      <td>Star Wars: Episode IV - A New Hope (1977)</td>\n",
       "      <td>Action|Adventure|Fantasy|Sci-Fi</td>\n",
       "    </tr>\n",
       "    <tr>\n",
       "      <th>45</th>\n",
       "      <td>1</td>\n",
       "      <td>1028</td>\n",
       "      <td>5</td>\n",
       "      <td>978301777</td>\n",
       "      <td>Mary Poppins (1964)</td>\n",
       "      <td>Children's|Comedy|Musical</td>\n",
       "    </tr>\n",
       "    <tr>\n",
       "      <th>46</th>\n",
       "      <td>1</td>\n",
       "      <td>1029</td>\n",
       "      <td>5</td>\n",
       "      <td>978302205</td>\n",
       "      <td>Dumbo (1941)</td>\n",
       "      <td>Animation|Children's|Musical</td>\n",
       "    </tr>\n",
       "    <tr>\n",
       "      <th>47</th>\n",
       "      <td>1</td>\n",
       "      <td>1207</td>\n",
       "      <td>4</td>\n",
       "      <td>978300719</td>\n",
       "      <td>To Kill a Mockingbird (1962)</td>\n",
       "      <td>Drama</td>\n",
       "    </tr>\n",
       "    <tr>\n",
       "      <th>48</th>\n",
       "      <td>1</td>\n",
       "      <td>2028</td>\n",
       "      <td>5</td>\n",
       "      <td>978301619</td>\n",
       "      <td>Saving Private Ryan (1998)</td>\n",
       "      <td>Action|Drama|War</td>\n",
       "    </tr>\n",
       "    <tr>\n",
       "      <th>49</th>\n",
       "      <td>1</td>\n",
       "      <td>531</td>\n",
       "      <td>4</td>\n",
       "      <td>978302149</td>\n",
       "      <td>Secret Garden, The (1993)</td>\n",
       "      <td>Children's|Drama</td>\n",
       "    </tr>\n",
       "    <tr>\n",
       "      <th>50</th>\n",
       "      <td>1</td>\n",
       "      <td>3114</td>\n",
       "      <td>4</td>\n",
       "      <td>978302174</td>\n",
       "      <td>Toy Story 2 (1999)</td>\n",
       "      <td>Animation|Children's|Comedy</td>\n",
       "    </tr>\n",
       "    <tr>\n",
       "      <th>51</th>\n",
       "      <td>1</td>\n",
       "      <td>608</td>\n",
       "      <td>4</td>\n",
       "      <td>978301398</td>\n",
       "      <td>Fargo (1996)</td>\n",
       "      <td>Crime|Drama|Thriller</td>\n",
       "    </tr>\n",
       "    <tr>\n",
       "      <th>52</th>\n",
       "      <td>1</td>\n",
       "      <td>1246</td>\n",
       "      <td>4</td>\n",
       "      <td>978302091</td>\n",
       "      <td>Dead Poets Society (1989)</td>\n",
       "      <td>Drama</td>\n",
       "    </tr>\n",
       "  </tbody>\n",
       "</table>\n",
       "</div>"
      ],
      "text/plain": [
       "    user_id  movie_id  counts  timestamp  \\\n",
       "0         1      1193       5  978300760   \n",
       "1         1       661       3  978302109   \n",
       "2         1       914       3  978301968   \n",
       "3         1      3408       4  978300275   \n",
       "4         1      2355       5  978824291   \n",
       "5         1      1197       3  978302268   \n",
       "6         1      1287       5  978302039   \n",
       "7         1      2804       5  978300719   \n",
       "8         1       594       4  978302268   \n",
       "9         1       919       4  978301368   \n",
       "10        1       595       5  978824268   \n",
       "11        1       938       4  978301752   \n",
       "12        1      2398       4  978302281   \n",
       "13        1      2918       4  978302124   \n",
       "14        1      1035       5  978301753   \n",
       "15        1      2791       4  978302188   \n",
       "16        1      2687       3  978824268   \n",
       "17        1      2018       4  978301777   \n",
       "18        1      3105       5  978301713   \n",
       "19        1      2797       4  978302039   \n",
       "20        1      2321       3  978302205   \n",
       "21        1       720       3  978300760   \n",
       "22        1      1270       5  978300055   \n",
       "23        1       527       5  978824195   \n",
       "24        1      2340       3  978300103   \n",
       "25        1        48       5  978824351   \n",
       "26        1      1097       4  978301953   \n",
       "27        1      1721       4  978300055   \n",
       "28        1      1545       4  978824139   \n",
       "29        1       745       3  978824268   \n",
       "30        1      2294       4  978824291   \n",
       "31        1      3186       4  978300019   \n",
       "32        1      1566       4  978824330   \n",
       "33        1       588       4  978824268   \n",
       "34        1      1907       4  978824330   \n",
       "35        1       783       4  978824291   \n",
       "36        1      1836       5  978300172   \n",
       "37        1      1022       5  978300055   \n",
       "38        1      2762       4  978302091   \n",
       "39        1       150       5  978301777   \n",
       "40        1         1       5  978824268   \n",
       "41        1      1961       5  978301590   \n",
       "42        1      1962       4  978301753   \n",
       "43        1      2692       4  978301570   \n",
       "44        1       260       4  978300760   \n",
       "45        1      1028       5  978301777   \n",
       "46        1      1029       5  978302205   \n",
       "47        1      1207       4  978300719   \n",
       "48        1      2028       5  978301619   \n",
       "49        1       531       4  978302149   \n",
       "50        1      3114       4  978302174   \n",
       "51        1       608       4  978301398   \n",
       "52        1      1246       4  978302091   \n",
       "\n",
       "                                                title  \\\n",
       "0              One Flew Over the Cuckoo's Nest (1975)   \n",
       "1                    James and the Giant Peach (1996)   \n",
       "2                                 My Fair Lady (1964)   \n",
       "3                              Erin Brockovich (2000)   \n",
       "4                                Bug's Life, A (1998)   \n",
       "5                          Princess Bride, The (1987)   \n",
       "6                                      Ben-Hur (1959)   \n",
       "7                           Christmas Story, A (1983)   \n",
       "8              Snow White and the Seven Dwarfs (1937)   \n",
       "9                            Wizard of Oz, The (1939)   \n",
       "10                        Beauty and the Beast (1991)   \n",
       "11                                        Gigi (1958)   \n",
       "12                      Miracle on 34th Street (1947)   \n",
       "13                    Ferris Bueller's Day Off (1986)   \n",
       "14                         Sound of Music, The (1965)   \n",
       "15                                   Airplane! (1980)   \n",
       "16                                      Tarzan (1999)   \n",
       "17                                       Bambi (1942)   \n",
       "18                                  Awakenings (1990)   \n",
       "19                                         Big (1988)   \n",
       "20                               Pleasantville (1998)   \n",
       "21  Wallace & Gromit: The Best of Aardman Animatio...   \n",
       "22                          Back to the Future (1985)   \n",
       "23                            Schindler's List (1993)   \n",
       "24                              Meet Joe Black (1998)   \n",
       "25                                  Pocahontas (1995)   \n",
       "26                  E.T. the Extra-Terrestrial (1982)   \n",
       "27                                     Titanic (1997)   \n",
       "28                                     Ponette (1996)   \n",
       "29                              Close Shave, A (1995)   \n",
       "30                                        Antz (1998)   \n",
       "31                           Girl, Interrupted (1999)   \n",
       "32                                    Hercules (1997)   \n",
       "33                                     Aladdin (1992)   \n",
       "34                                       Mulan (1998)   \n",
       "35                Hunchback of Notre Dame, The (1996)   \n",
       "36                     Last Days of Disco, The (1998)   \n",
       "37                                  Cinderella (1950)   \n",
       "38                            Sixth Sense, The (1999)   \n",
       "39                                   Apollo 13 (1995)   \n",
       "40                                   Toy Story (1995)   \n",
       "41                                    Rain Man (1988)   \n",
       "42                          Driving Miss Daisy (1989)   \n",
       "43                   Run Lola Run (Lola rennt) (1998)   \n",
       "44          Star Wars: Episode IV - A New Hope (1977)   \n",
       "45                                Mary Poppins (1964)   \n",
       "46                                       Dumbo (1941)   \n",
       "47                       To Kill a Mockingbird (1962)   \n",
       "48                         Saving Private Ryan (1998)   \n",
       "49                          Secret Garden, The (1993)   \n",
       "50                                 Toy Story 2 (1999)   \n",
       "51                                       Fargo (1996)   \n",
       "52                          Dead Poets Society (1989)   \n",
       "\n",
       "                                            genre  \n",
       "0                                           Drama  \n",
       "1                    Animation|Children's|Musical  \n",
       "2                                 Musical|Romance  \n",
       "3                                           Drama  \n",
       "4                     Animation|Children's|Comedy  \n",
       "5                 Action|Adventure|Comedy|Romance  \n",
       "6                          Action|Adventure|Drama  \n",
       "7                                    Comedy|Drama  \n",
       "8                    Animation|Children's|Musical  \n",
       "9              Adventure|Children's|Drama|Musical  \n",
       "10                   Animation|Children's|Musical  \n",
       "11                                        Musical  \n",
       "12                                          Drama  \n",
       "13                                         Comedy  \n",
       "14                                        Musical  \n",
       "15                                         Comedy  \n",
       "16                           Animation|Children's  \n",
       "17                           Animation|Children's  \n",
       "18                                          Drama  \n",
       "19                                 Comedy|Fantasy  \n",
       "20                                         Comedy  \n",
       "21                                      Animation  \n",
       "22                                  Comedy|Sci-Fi  \n",
       "23                                      Drama|War  \n",
       "24                                        Romance  \n",
       "25           Animation|Children's|Musical|Romance  \n",
       "26                Children's|Drama|Fantasy|Sci-Fi  \n",
       "27                                  Drama|Romance  \n",
       "28                                          Drama  \n",
       "29                      Animation|Comedy|Thriller  \n",
       "30                           Animation|Children's  \n",
       "31                                          Drama  \n",
       "32  Adventure|Animation|Children's|Comedy|Musical  \n",
       "33            Animation|Children's|Comedy|Musical  \n",
       "34                           Animation|Children's  \n",
       "35                   Animation|Children's|Musical  \n",
       "36                                          Drama  \n",
       "37                   Animation|Children's|Musical  \n",
       "38                                       Thriller  \n",
       "39                                          Drama  \n",
       "40                    Animation|Children's|Comedy  \n",
       "41                                          Drama  \n",
       "42                                          Drama  \n",
       "43                           Action|Crime|Romance  \n",
       "44                Action|Adventure|Fantasy|Sci-Fi  \n",
       "45                      Children's|Comedy|Musical  \n",
       "46                   Animation|Children's|Musical  \n",
       "47                                          Drama  \n",
       "48                               Action|Drama|War  \n",
       "49                               Children's|Drama  \n",
       "50                    Animation|Children's|Comedy  \n",
       "51                           Crime|Drama|Thriller  \n",
       "52                                          Drama  "
      ]
     },
     "execution_count": 8,
     "metadata": {},
     "output_type": "execute_result"
    }
   ],
   "source": [
    "condition = (data['user_id']== data.loc[0, 'user_id'])\n",
    "data.loc[condition]"
   ]
  },
  {
   "cell_type": "code",
   "execution_count": 9,
   "id": "422dbc77",
   "metadata": {},
   "outputs": [
    {
     "data": {
      "text/plain": [
       "6039"
      ]
     },
     "execution_count": 9,
     "metadata": {},
     "output_type": "execute_result"
    }
   ],
   "source": [
    "data['user_id'].nunique()"
   ]
  },
  {
   "cell_type": "code",
   "execution_count": 10,
   "id": "fc013b2e",
   "metadata": {},
   "outputs": [
    {
     "data": {
      "text/plain": [
       "3628"
      ]
     },
     "execution_count": 10,
     "metadata": {},
     "output_type": "execute_result"
    }
   ],
   "source": [
    "data['title'].nunique()"
   ]
  },
  {
   "cell_type": "code",
   "execution_count": 11,
   "id": "126e39ae",
   "metadata": {},
   "outputs": [
    {
     "data": {
      "text/plain": [
       "3628"
      ]
     },
     "execution_count": 11,
     "metadata": {},
     "output_type": "execute_result"
    }
   ],
   "source": [
    "data['movie_id'].nunique()"
   ]
  },
  {
   "cell_type": "code",
   "execution_count": 12,
   "id": "cd6ea6bf",
   "metadata": {
    "scrolled": true
   },
   "outputs": [
    {
     "data": {
      "text/plain": [
       "title\n",
       "American Beauty (1999)                                   3211\n",
       "Star Wars: Episode IV - A New Hope (1977)                2910\n",
       "Star Wars: Episode V - The Empire Strikes Back (1980)    2885\n",
       "Star Wars: Episode VI - Return of the Jedi (1983)        2716\n",
       "Saving Private Ryan (1998)                               2561\n",
       "Terminator 2: Judgment Day (1991)                        2509\n",
       "Silence of the Lambs, The (1991)                         2498\n",
       "Raiders of the Lost Ark (1981)                           2473\n",
       "Back to the Future (1985)                                2460\n",
       "Matrix, The (1999)                                       2434\n",
       "Jurassic Park (1993)                                     2413\n",
       "Sixth Sense, The (1999)                                  2385\n",
       "Fargo (1996)                                             2371\n",
       "Braveheart (1995)                                        2314\n",
       "Men in Black (1997)                                      2297\n",
       "Schindler's List (1993)                                  2257\n",
       "Princess Bride, The (1987)                               2252\n",
       "Shakespeare in Love (1998)                               2213\n",
       "L.A. Confidential (1997)                                 2210\n",
       "Shawshank Redemption, The (1994)                         2194\n",
       "Godfather, The (1972)                                    2167\n",
       "Groundhog Day (1993)                                     2121\n",
       "E.T. the Extra-Terrestrial (1982)                        2102\n",
       "Being John Malkovich (1999)                              2066\n",
       "Ghostbusters (1984)                                      2051\n",
       "Pulp Fiction (1994)                                      2030\n",
       "Forrest Gump (1994)                                      2022\n",
       "Terminator, The (1984)                                   2019\n",
       "Toy Story (1995)                                         2000\n",
       "Fugitive, The (1993)                                     1941\n",
       "Alien (1979)                                             1920\n",
       "Gladiator (2000)                                         1798\n",
       "Total Recall (1990)                                      1786\n",
       "Star Wars: Episode I - The Phantom Menace (1999)         1783\n",
       "Usual Suspects, The (1995)                               1744\n",
       "Stand by Me (1986)                                       1728\n",
       "Blade Runner (1982)                                      1722\n",
       "Aliens (1986)                                            1720\n",
       "One Flew Over the Cuckoo's Nest (1975)                   1680\n",
       "Wizard of Oz, The (1939)                                 1650\n",
       "Godfather: Part II, The (1974)                           1624\n",
       "Casablanca (1942)                                        1623\n",
       "Who Framed Roger Rabbit? (1988)                          1605\n",
       "Bug's Life, A (1998)                                     1599\n",
       "Jaws (1975)                                              1598\n",
       "GoodFellas (1990)                                        1595\n",
       "Die Hard (1988)                                          1593\n",
       "Hunt for Red October, The (1990)                         1587\n",
       "Airplane! (1980)                                         1586\n",
       "Babe (1995)                                              1574\n",
       "Name: user_id, dtype: int64"
      ]
     },
     "execution_count": 12,
     "metadata": {},
     "output_type": "execute_result"
    }
   ],
   "source": [
    "movie_count = data.groupby('title')['user_id'].count()\n",
    "movie_count.sort_values(ascending=False).head(50)"
   ]
  },
  {
   "cell_type": "code",
   "execution_count": 13,
   "id": "e65a82eb",
   "metadata": {},
   "outputs": [
    {
     "data": {
      "text/plain": [
       "count    6039.000000\n",
       "mean      138.512668\n",
       "std       156.241599\n",
       "min         1.000000\n",
       "25%        38.000000\n",
       "50%        81.000000\n",
       "75%       177.000000\n",
       "max      1968.000000\n",
       "Name: title, dtype: float64"
      ]
     },
     "execution_count": 13,
     "metadata": {},
     "output_type": "execute_result"
    }
   ],
   "source": [
    "user_count = data.groupby('user_id')['title'].count()\n",
    "user_count.describe()"
   ]
  },
  {
   "cell_type": "code",
   "execution_count": 14,
   "id": "0635cb8e",
   "metadata": {
    "scrolled": true
   },
   "outputs": [
    {
     "data": {
      "text/plain": [
       "count    6039.000000\n",
       "mean        4.025078\n",
       "std         0.275632\n",
       "min         3.000000\n",
       "25%         3.833333\n",
       "50%         4.023622\n",
       "75%         4.212225\n",
       "max         5.000000\n",
       "Name: counts, dtype: float64"
      ]
     },
     "execution_count": 14,
     "metadata": {},
     "output_type": "execute_result"
    }
   ],
   "source": [
    "user_median = data.groupby('user_id')['counts'].mean()\n",
    "user_median.describe()"
   ]
  },
  {
   "cell_type": "code",
   "execution_count": 15,
   "id": "d9b7018a",
   "metadata": {},
   "outputs": [],
   "source": [
    "data = data[['user_id','title','counts']]"
   ]
  },
  {
   "cell_type": "code",
   "execution_count": 16,
   "id": "cf9aba99",
   "metadata": {},
   "outputs": [
    {
     "data": {
      "text/plain": [
       "6039"
      ]
     },
     "execution_count": 16,
     "metadata": {},
     "output_type": "execute_result"
    }
   ],
   "source": [
    "len(data['user_id'].unique())"
   ]
  },
  {
   "cell_type": "code",
   "execution_count": 17,
   "id": "3add5633",
   "metadata": {},
   "outputs": [
    {
     "data": {
      "text/plain": [
       "6040"
      ]
     },
     "execution_count": 17,
     "metadata": {},
     "output_type": "execute_result"
    }
   ],
   "source": [
    "max(data['user_id'])"
   ]
  },
  {
   "cell_type": "code",
   "execution_count": 18,
   "id": "d997fa16",
   "metadata": {},
   "outputs": [],
   "source": [
    "my_favorite = ['Terminator 2: Judgment Day (1991)' , 'Silence of the Lambs, The (1991)' ,'Matrix, The (1999)' ,'Jurassic Park (1993)' ,'Sixth Sense, The (1999)']\n",
    "\n",
    "my_playlist = pd.DataFrame({'user_id': [max(data['user_id']+1)]*5, 'title': my_favorite, 'counts':[5]*5})\n",
    "\n",
    "if not data.isin({'user_id':[6041]})['user_id'].any():  # user_id에 'zimin'이라는 데이터가 없다면\n",
    "    data = data.append(my_playlist)                           # 위에 임의로 만든 my_favorite 데이터를 추가해 줍니다. \n",
    "\n",
    "     # 잘 추가되었는지 확인해 봅시다.\n",
    "\n",
    "data.reset_index(drop=True,inplace=True)"
   ]
  },
  {
   "cell_type": "code",
   "execution_count": 19,
   "id": "bd21f17d",
   "metadata": {},
   "outputs": [
    {
     "data": {
      "text/html": [
       "<div>\n",
       "<style scoped>\n",
       "    .dataframe tbody tr th:only-of-type {\n",
       "        vertical-align: middle;\n",
       "    }\n",
       "\n",
       "    .dataframe tbody tr th {\n",
       "        vertical-align: top;\n",
       "    }\n",
       "\n",
       "    .dataframe thead th {\n",
       "        text-align: right;\n",
       "    }\n",
       "</style>\n",
       "<table border=\"1\" class=\"dataframe\">\n",
       "  <thead>\n",
       "    <tr style=\"text-align: right;\">\n",
       "      <th></th>\n",
       "      <th>user_id</th>\n",
       "      <th>title</th>\n",
       "      <th>counts</th>\n",
       "    </tr>\n",
       "  </thead>\n",
       "  <tbody>\n",
       "    <tr>\n",
       "      <th>0</th>\n",
       "      <td>1</td>\n",
       "      <td>One Flew Over the Cuckoo's Nest (1975)</td>\n",
       "      <td>5</td>\n",
       "    </tr>\n",
       "    <tr>\n",
       "      <th>1</th>\n",
       "      <td>1</td>\n",
       "      <td>James and the Giant Peach (1996)</td>\n",
       "      <td>3</td>\n",
       "    </tr>\n",
       "    <tr>\n",
       "      <th>2</th>\n",
       "      <td>1</td>\n",
       "      <td>My Fair Lady (1964)</td>\n",
       "      <td>3</td>\n",
       "    </tr>\n",
       "    <tr>\n",
       "      <th>3</th>\n",
       "      <td>1</td>\n",
       "      <td>Erin Brockovich (2000)</td>\n",
       "      <td>4</td>\n",
       "    </tr>\n",
       "    <tr>\n",
       "      <th>4</th>\n",
       "      <td>1</td>\n",
       "      <td>Bug's Life, A (1998)</td>\n",
       "      <td>5</td>\n",
       "    </tr>\n",
       "    <tr>\n",
       "      <th>...</th>\n",
       "      <td>...</td>\n",
       "      <td>...</td>\n",
       "      <td>...</td>\n",
       "    </tr>\n",
       "    <tr>\n",
       "      <th>836478</th>\n",
       "      <td>6041</td>\n",
       "      <td>Terminator 2: Judgment Day (1991)</td>\n",
       "      <td>5</td>\n",
       "    </tr>\n",
       "    <tr>\n",
       "      <th>836479</th>\n",
       "      <td>6041</td>\n",
       "      <td>Silence of the Lambs, The (1991)</td>\n",
       "      <td>5</td>\n",
       "    </tr>\n",
       "    <tr>\n",
       "      <th>836480</th>\n",
       "      <td>6041</td>\n",
       "      <td>Matrix, The (1999)</td>\n",
       "      <td>5</td>\n",
       "    </tr>\n",
       "    <tr>\n",
       "      <th>836481</th>\n",
       "      <td>6041</td>\n",
       "      <td>Jurassic Park (1993)</td>\n",
       "      <td>5</td>\n",
       "    </tr>\n",
       "    <tr>\n",
       "      <th>836482</th>\n",
       "      <td>6041</td>\n",
       "      <td>Sixth Sense, The (1999)</td>\n",
       "      <td>5</td>\n",
       "    </tr>\n",
       "  </tbody>\n",
       "</table>\n",
       "<p>836483 rows × 3 columns</p>\n",
       "</div>"
      ],
      "text/plain": [
       "        user_id                                   title  counts\n",
       "0             1  One Flew Over the Cuckoo's Nest (1975)       5\n",
       "1             1        James and the Giant Peach (1996)       3\n",
       "2             1                     My Fair Lady (1964)       3\n",
       "3             1                  Erin Brockovich (2000)       4\n",
       "4             1                    Bug's Life, A (1998)       5\n",
       "...         ...                                     ...     ...\n",
       "836478     6041       Terminator 2: Judgment Day (1991)       5\n",
       "836479     6041        Silence of the Lambs, The (1991)       5\n",
       "836480     6041                      Matrix, The (1999)       5\n",
       "836481     6041                    Jurassic Park (1993)       5\n",
       "836482     6041                 Sixth Sense, The (1999)       5\n",
       "\n",
       "[836483 rows x 3 columns]"
      ]
     },
     "execution_count": 19,
     "metadata": {},
     "output_type": "execute_result"
    }
   ],
   "source": [
    "data"
   ]
  },
  {
   "cell_type": "code",
   "execution_count": 20,
   "id": "3e5c68bb",
   "metadata": {},
   "outputs": [],
   "source": [
    "user_unique = data['user_id'].unique()\n",
    "movie_unique = data['title'].unique()\n",
    "\n",
    "# 유저, 아티스트 indexing 하는 코드 idx는 index의 약자입니다.\n",
    "user_to_idx = {v:k for k,v in enumerate(user_unique)}\n",
    "movie_to_idx = {v:k for k,v in enumerate(movie_unique)}\n"
   ]
  },
  {
   "cell_type": "code",
   "execution_count": 21,
   "id": "48005b56",
   "metadata": {},
   "outputs": [
    {
     "name": "stdout",
     "output_type": "stream",
     "text": [
      "user_id column indexing OK!!\n",
      "title column indexing OK!!\n"
     ]
    },
    {
     "data": {
      "text/html": [
       "<div>\n",
       "<style scoped>\n",
       "    .dataframe tbody tr th:only-of-type {\n",
       "        vertical-align: middle;\n",
       "    }\n",
       "\n",
       "    .dataframe tbody tr th {\n",
       "        vertical-align: top;\n",
       "    }\n",
       "\n",
       "    .dataframe thead th {\n",
       "        text-align: right;\n",
       "    }\n",
       "</style>\n",
       "<table border=\"1\" class=\"dataframe\">\n",
       "  <thead>\n",
       "    <tr style=\"text-align: right;\">\n",
       "      <th></th>\n",
       "      <th>user_id</th>\n",
       "      <th>title</th>\n",
       "      <th>counts</th>\n",
       "    </tr>\n",
       "  </thead>\n",
       "  <tbody>\n",
       "    <tr>\n",
       "      <th>0</th>\n",
       "      <td>0</td>\n",
       "      <td>0</td>\n",
       "      <td>5</td>\n",
       "    </tr>\n",
       "    <tr>\n",
       "      <th>1</th>\n",
       "      <td>0</td>\n",
       "      <td>1</td>\n",
       "      <td>3</td>\n",
       "    </tr>\n",
       "    <tr>\n",
       "      <th>2</th>\n",
       "      <td>0</td>\n",
       "      <td>2</td>\n",
       "      <td>3</td>\n",
       "    </tr>\n",
       "    <tr>\n",
       "      <th>3</th>\n",
       "      <td>0</td>\n",
       "      <td>3</td>\n",
       "      <td>4</td>\n",
       "    </tr>\n",
       "    <tr>\n",
       "      <th>4</th>\n",
       "      <td>0</td>\n",
       "      <td>4</td>\n",
       "      <td>5</td>\n",
       "    </tr>\n",
       "    <tr>\n",
       "      <th>...</th>\n",
       "      <td>...</td>\n",
       "      <td>...</td>\n",
       "      <td>...</td>\n",
       "    </tr>\n",
       "    <tr>\n",
       "      <th>836478</th>\n",
       "      <td>6039</td>\n",
       "      <td>92</td>\n",
       "      <td>5</td>\n",
       "    </tr>\n",
       "    <tr>\n",
       "      <th>836479</th>\n",
       "      <td>6039</td>\n",
       "      <td>121</td>\n",
       "      <td>5</td>\n",
       "    </tr>\n",
       "    <tr>\n",
       "      <th>836480</th>\n",
       "      <td>6039</td>\n",
       "      <td>124</td>\n",
       "      <td>5</td>\n",
       "    </tr>\n",
       "    <tr>\n",
       "      <th>836481</th>\n",
       "      <td>6039</td>\n",
       "      <td>107</td>\n",
       "      <td>5</td>\n",
       "    </tr>\n",
       "    <tr>\n",
       "      <th>836482</th>\n",
       "      <td>6039</td>\n",
       "      <td>38</td>\n",
       "      <td>5</td>\n",
       "    </tr>\n",
       "  </tbody>\n",
       "</table>\n",
       "<p>836483 rows × 3 columns</p>\n",
       "</div>"
      ],
      "text/plain": [
       "        user_id  title  counts\n",
       "0             0      0       5\n",
       "1             0      1       3\n",
       "2             0      2       3\n",
       "3             0      3       4\n",
       "4             0      4       5\n",
       "...         ...    ...     ...\n",
       "836478     6039     92       5\n",
       "836479     6039    121       5\n",
       "836480     6039    124       5\n",
       "836481     6039    107       5\n",
       "836482     6039     38       5\n",
       "\n",
       "[836483 rows x 3 columns]"
      ]
     },
     "execution_count": 21,
     "metadata": {},
     "output_type": "execute_result"
    }
   ],
   "source": [
    "temp_user_data = data['user_id'].map(user_to_idx.get).dropna()\n",
    "if len(temp_user_data) == len(data):   # 모든 row가 정상적으로 인덱싱되었다면\n",
    "    print('user_id column indexing OK!!')\n",
    "    data['user_id'] = temp_user_data   # data['user_id']을 인덱싱된 Series로 교체해 줍니다. \n",
    "else:\n",
    "    print('user_id column indexing Fail!!')\n",
    "\n",
    "\n",
    "temp_title_data = data['title'].map(movie_to_idx.get).dropna()\n",
    "if len(temp_title_data) == len(data):\n",
    "    print('title column indexing OK!!')\n",
    "    data['title'] = temp_title_data\n",
    "else:\n",
    "    print('title column indexing Fail!!')\n",
    "\n",
    "data"
   ]
  },
  {
   "cell_type": "code",
   "execution_count": 22,
   "id": "1c7f1f32",
   "metadata": {},
   "outputs": [
    {
     "data": {
      "text/plain": [
       "title\n",
       "1-900 (1994)                                   1\n",
       "24-hour Woman (1998)                           1\n",
       "Aiqing wansui (1994)                           1\n",
       "Alley Cats, The (1968)                         1\n",
       "American Strays (1996)                         1\n",
       "                                              ..\n",
       "Voyage to the Beginning of the World (1997)    1\n",
       "War at Home, The (1996)                        1\n",
       "Wend Kuuni (God's Gift) (1982)                 1\n",
       "Wooden Man's Bride, The (Wu Kui) (1994)        1\n",
       "Zachariah (1971)                               1\n",
       "Name: user_id, Length: 119, dtype: int64"
      ]
     },
     "execution_count": 22,
     "metadata": {},
     "output_type": "execute_result"
    }
   ],
   "source": [
    "movie_count[movie_count<2]"
   ]
  },
  {
   "cell_type": "code",
   "execution_count": 23,
   "id": "a8e0a769",
   "metadata": {},
   "outputs": [
    {
     "name": "stdout",
     "output_type": "stream",
     "text": [
      "119,836483\n",
      "Ratio of only_one over all data is 0.01%\n"
     ]
    }
   ],
   "source": [
    "only_one = movie_count[movie_count<2]\n",
    "one, all_data = len(only_one), len(data)\n",
    "print(f'{one},{all_data}')\n",
    "print(f'Ratio of only_one over all data is {one/all_data:.2%}')  # f-format에 대한 설명은 https://bit.ly/2DTLqYU"
   ]
  },
  {
   "cell_type": "code",
   "execution_count": 24,
   "id": "43f5dc05",
   "metadata": {},
   "outputs": [],
   "source": [
    "num_user = data['user_id'].nunique()\n",
    "num_moive = data['title'].nunique()"
   ]
  },
  {
   "cell_type": "code",
   "execution_count": 25,
   "id": "97ed323a",
   "metadata": {},
   "outputs": [
    {
     "data": {
      "text/plain": [
       "6040"
      ]
     },
     "execution_count": 25,
     "metadata": {},
     "output_type": "execute_result"
    }
   ],
   "source": [
    "num_user"
   ]
  },
  {
   "cell_type": "code",
   "execution_count": 26,
   "id": "0c5e1426",
   "metadata": {},
   "outputs": [
    {
     "data": {
      "text/plain": [
       "3628"
      ]
     },
     "execution_count": 26,
     "metadata": {},
     "output_type": "execute_result"
    }
   ],
   "source": [
    "num_moive"
   ]
  },
  {
   "cell_type": "code",
   "execution_count": 27,
   "id": "2f5fd93b",
   "metadata": {},
   "outputs": [
    {
     "data": {
      "text/plain": [
       "3627"
      ]
     },
     "execution_count": 27,
     "metadata": {},
     "output_type": "execute_result"
    }
   ],
   "source": [
    "max(data['title'])"
   ]
  },
  {
   "cell_type": "code",
   "execution_count": 28,
   "id": "7cea97c4",
   "metadata": {},
   "outputs": [
    {
     "data": {
      "text/plain": [
       "6039"
      ]
     },
     "execution_count": 28,
     "metadata": {},
     "output_type": "execute_result"
    }
   ],
   "source": [
    "max(data['user_id'])"
   ]
  },
  {
   "cell_type": "code",
   "execution_count": 29,
   "id": "77a3a542",
   "metadata": {},
   "outputs": [
    {
     "data": {
      "text/plain": [
       "<6040x3628 sparse matrix of type '<class 'numpy.int64'>'\n",
       "\twith 836483 stored elements in Compressed Sparse Row format>"
      ]
     },
     "execution_count": 29,
     "metadata": {},
     "output_type": "execute_result"
    }
   ],
   "source": [
    "num_user = data['user_id'].nunique()\n",
    "num_moive = data['title'].nunique()\n",
    "\n",
    "csr_data = csr_matrix((data.counts, (data.user_id, data.title)), shape= (num_user, num_moive))\n",
    "csr_data"
   ]
  },
  {
   "cell_type": "code",
   "execution_count": 30,
   "id": "8a956802",
   "metadata": {},
   "outputs": [],
   "source": [
    "# implicit 라이브러리에서 권장하고 있는 부분입니다. 학습 내용과는 무관합니다.\n",
    "os.environ['OPENBLAS_NUM_THREADS']='1'\n",
    "os.environ['KMP_DUPLICATE_LIB_OK']='True'\n",
    "os.environ['MKL_NUM_THREADS']='1'"
   ]
  },
  {
   "cell_type": "code",
   "execution_count": 31,
   "id": "73f429d4",
   "metadata": {},
   "outputs": [],
   "source": [
    "als_model = AlternatingLeastSquares(factors=100, regularization=0.01, use_gpu=False, iterations=15, dtype=np.float32)"
   ]
  },
  {
   "cell_type": "code",
   "execution_count": 32,
   "id": "19e6a5fa",
   "metadata": {},
   "outputs": [
    {
     "data": {
      "text/plain": [
       "<3628x6040 sparse matrix of type '<class 'numpy.int64'>'\n",
       "\twith 836483 stored elements in Compressed Sparse Column format>"
      ]
     },
     "execution_count": 32,
     "metadata": {},
     "output_type": "execute_result"
    }
   ],
   "source": [
    "csr_data_transpose = csr_data.T\n",
    "csr_data_transpose"
   ]
  },
  {
   "cell_type": "code",
   "execution_count": 33,
   "id": "9cfe337e",
   "metadata": {},
   "outputs": [
    {
     "data": {
      "application/vnd.jupyter.widget-view+json": {
       "model_id": "eec819f27c05459aaa404dd37a0f89fb",
       "version_major": 2,
       "version_minor": 0
      },
      "text/plain": [
       "  0%|          | 0/15 [00:00<?, ?it/s]"
      ]
     },
     "metadata": {},
     "output_type": "display_data"
    }
   ],
   "source": [
    "als_model.fit(csr_data_transpose)"
   ]
  },
  {
   "cell_type": "code",
   "execution_count": 34,
   "id": "6ab7b571",
   "metadata": {},
   "outputs": [],
   "source": [
    "alien = movie_to_idx['Alien (1979)']\n",
    "my_vector, alien_vector = als_model.user_factors[6039], als_model.item_factors[alien]\n"
   ]
  },
  {
   "cell_type": "code",
   "execution_count": 35,
   "id": "d6972f88",
   "metadata": {},
   "outputs": [
    {
     "data": {
      "text/plain": [
       "array([ 1.13647306e+00,  4.29189980e-01,  9.94689345e-01,  4.62800711e-01,\n",
       "       -4.15345579e-01,  7.95868993e-01,  8.03689063e-01,  3.33841890e-02,\n",
       "       -5.11322916e-01,  2.04940140e-01,  4.28391159e-01,  4.70457762e-01,\n",
       "        6.76926851e-01, -2.76667804e-01,  9.62788414e-04,  1.36211365e-01,\n",
       "       -1.28576949e-01,  1.02065706e+00,  1.52856052e-01,  2.69746315e-03,\n",
       "       -5.24753630e-01, -3.37118357e-01, -4.84834939e-01, -1.14072151e-01,\n",
       "       -4.08917189e-01, -6.17614508e-01, -3.88140172e-01,  6.71771407e-01,\n",
       "       -6.76583648e-01,  7.18323469e-01,  9.49812472e-01, -2.71261722e-01,\n",
       "        3.01689506e-01, -7.61504650e-01, -2.36649722e-01,  9.83297750e-02,\n",
       "        3.47282052e-01,  1.95288017e-01, -5.20102382e-01,  2.74814785e-01,\n",
       "        4.13280845e-01, -4.46002930e-01,  4.78833228e-01,  2.46345878e-01,\n",
       "        4.31464136e-01,  7.54199624e-01,  1.16903834e-01,  3.64145964e-01,\n",
       "        8.29952836e-01,  8.09801698e-01,  4.80681330e-01, -9.26585376e-01,\n",
       "       -8.07979763e-01,  2.85773635e-01,  4.49867919e-02, -7.62332737e-01,\n",
       "       -8.08928788e-01, -6.19796455e-01, -2.48965874e-01,  5.33640146e-01,\n",
       "       -2.32053716e-02, -3.02836537e-01, -5.16494773e-02, -2.59732753e-01,\n",
       "        4.01971728e-01, -1.01257503e-01,  1.01802558e-01,  8.10356736e-01,\n",
       "        2.71590114e-01, -1.22362173e+00,  1.01161158e+00, -4.43354011e-01,\n",
       "       -1.05115891e-01, -2.83328533e-01, -2.69974042e-02,  3.11818033e-01,\n",
       "        1.61628917e-01, -1.32048547e-01, -3.61543506e-01, -1.27620864e+00,\n",
       "       -4.63406533e-01, -3.66437465e-01,  3.93125355e-01,  1.06900823e+00,\n",
       "       -5.94367564e-01, -9.53744724e-02, -4.85074013e-01, -3.22500557e-01,\n",
       "       -1.85773104e-01, -5.00335634e-01, -9.61800456e-01, -7.92967856e-01,\n",
       "        4.92221385e-01, -3.86352949e-02,  5.37696242e-01,  2.74996549e-01,\n",
       "        9.07472849e-01,  7.73003250e-02, -6.98756874e-01, -1.12436926e+00],\n",
       "      dtype=float32)"
      ]
     },
     "execution_count": 35,
     "metadata": {},
     "output_type": "execute_result"
    }
   ],
   "source": [
    "my_vector"
   ]
  },
  {
   "cell_type": "code",
   "execution_count": 36,
   "id": "c878b491",
   "metadata": {},
   "outputs": [
    {
     "data": {
      "text/plain": [
       "array([-0.00581362,  0.00954592,  0.03371157,  0.01611475,  0.00054552,\n",
       "        0.00450949,  0.00028307,  0.02782761, -0.0129029 ,  0.00827279,\n",
       "        0.03546787,  0.01186229,  0.0042665 ,  0.00931898,  0.01113564,\n",
       "        0.03278245,  0.00372096, -0.00476462, -0.00269237, -0.02454954,\n",
       "        0.01125039,  0.02161596, -0.02492649,  0.02182725,  0.00330224,\n",
       "       -0.01374836,  0.00991175,  0.01160949,  0.0067239 , -0.00067749,\n",
       "        0.01737385, -0.01874331,  0.02243117,  0.00216441,  0.01863201,\n",
       "        0.00675665, -0.00304848,  0.01447142,  0.03115856,  0.03127692,\n",
       "        0.03531517, -0.00138347,  0.00522153, -0.00659285, -0.01280028,\n",
       "        0.02584352,  0.03934997,  0.01642822,  0.00748258, -0.00831047,\n",
       "       -0.04364627,  0.00849015, -0.01409939, -0.04243765,  0.01640431,\n",
       "        0.01957951, -0.00438314,  0.01147793,  0.02180956,  0.01360709,\n",
       "        0.01576558,  0.0202051 , -0.00074342,  0.0218972 , -0.00745372,\n",
       "        0.02980737,  0.00491402,  0.010572  ,  0.00470102, -0.0079774 ,\n",
       "        0.0315682 ,  0.01303023,  0.01258955, -0.03249602, -0.00335194,\n",
       "       -0.00534435, -0.00444503,  0.00733939, -0.00325886, -0.00474792,\n",
       "       -0.02650221, -0.02057128,  0.01087318,  0.00692266, -0.00230543,\n",
       "        0.00971016,  0.01150603,  0.00479705,  0.00500157,  0.02895919,\n",
       "        0.02109009, -0.0023901 , -0.02168288,  0.01458746,  0.00582138,\n",
       "        0.00314081,  0.03584339,  0.0052265 , -0.01977104,  0.03828386],\n",
       "      dtype=float32)"
      ]
     },
     "execution_count": 36,
     "metadata": {},
     "output_type": "execute_result"
    }
   ],
   "source": [
    "alien_vector"
   ]
  },
  {
   "cell_type": "code",
   "execution_count": 37,
   "id": "9890b48a",
   "metadata": {},
   "outputs": [
    {
     "data": {
      "text/plain": [
       "0.11265808"
      ]
     },
     "execution_count": 37,
     "metadata": {},
     "output_type": "execute_result"
    }
   ],
   "source": [
    "np.dot(my_vector, alien_vector)"
   ]
  },
  {
   "cell_type": "code",
   "execution_count": 38,
   "id": "34188824",
   "metadata": {},
   "outputs": [
    {
     "data": {
      "text/plain": [
       "0.44865954"
      ]
     },
     "execution_count": 38,
     "metadata": {},
     "output_type": "execute_result"
    }
   ],
   "source": [
    "rec_movie = movie_to_idx['Total Recall (1990)']\n",
    "rec_vector = als_model.item_factors[rec_movie]\n",
    "np.dot(my_vector, rec_vector)"
   ]
  },
  {
   "cell_type": "code",
   "execution_count": 39,
   "id": "c19fc3c8",
   "metadata": {},
   "outputs": [
    {
     "data": {
      "text/plain": [
       "[(40, 1.0000001),\n",
       " (50, 0.81580144),\n",
       " (4, 0.57780755),\n",
       " (322, 0.5697089),\n",
       " (33, 0.5659584),\n",
       " (110, 0.5346191),\n",
       " (330, 0.44555378),\n",
       " (10, 0.41780564),\n",
       " (255, 0.4098304),\n",
       " (20, 0.40548825),\n",
       " (126, 0.36040795),\n",
       " (545, 0.3546694),\n",
       " (160, 0.342278),\n",
       " (32, 0.34150714),\n",
       " (34, 0.3369876)]"
      ]
     },
     "execution_count": 39,
     "metadata": {},
     "output_type": "execute_result"
    }
   ],
   "source": [
    "favorite_movie = 'Toy Story (1995)'\n",
    "movie_id = movie_to_idx[favorite_movie]\n",
    "similar_movie = als_model.similar_items(movie_id, N=15)\n",
    "similar_movie"
   ]
  },
  {
   "cell_type": "code",
   "execution_count": 40,
   "id": "490126b9",
   "metadata": {},
   "outputs": [
    {
     "data": {
      "text/plain": [
       "['Toy Story (1995)',\n",
       " 'Toy Story 2 (1999)',\n",
       " \"Bug's Life, A (1998)\",\n",
       " 'Babe (1995)',\n",
       " 'Aladdin (1992)',\n",
       " 'Groundhog Day (1993)',\n",
       " 'Lion King, The (1994)',\n",
       " 'Beauty and the Beast (1991)',\n",
       " \"There's Something About Mary (1998)\",\n",
       " 'Pleasantville (1998)',\n",
       " 'Shakespeare in Love (1998)',\n",
       " 'Santa Clause, The (1994)',\n",
       " 'Forrest Gump (1994)',\n",
       " 'Hercules (1997)',\n",
       " 'Mulan (1998)']"
      ]
     },
     "execution_count": 40,
     "metadata": {},
     "output_type": "execute_result"
    }
   ],
   "source": [
    "idx_to_movie = {v:k for k,v in movie_to_idx.items()}\n",
    "[idx_to_movie[i[0]] for i in similar_movie]"
   ]
  },
  {
   "cell_type": "code",
   "execution_count": 41,
   "id": "fe10fe9d",
   "metadata": {},
   "outputs": [
    {
     "data": {
      "text/plain": [
       "[(1143, 1.2028604),\n",
       " (83, 1.1320685),\n",
       " (1176, 1.1305707),\n",
       " (1412, 1.0603579),\n",
       " (1000, 1.049666),\n",
       " (178, 1.0434381),\n",
       " (868, 0.98860437),\n",
       " (169, 0.9149473),\n",
       " (571, 0.9048482),\n",
       " (243, 0.9047517),\n",
       " (1363, 0.9046188),\n",
       " (487, 0.8968121),\n",
       " (1512, 0.88817),\n",
       " (784, 0.8875634),\n",
       " (481, 0.8435272),\n",
       " (231, 0.82604754),\n",
       " (203, 0.82109874),\n",
       " (1156, 0.8109729),\n",
       " (1734, 0.7940129),\n",
       " (1286, 0.78574276)]"
      ]
     },
     "execution_count": 41,
     "metadata": {},
     "output_type": "execute_result"
    }
   ],
   "source": [
    "movie_recommended = als_model.recommend(6038, csr_data, N=20, filter_already_liked_items=True)\n",
    "movie_recommended"
   ]
  },
  {
   "cell_type": "code",
   "execution_count": 42,
   "id": "20e2b19f",
   "metadata": {},
   "outputs": [
    {
     "data": {
      "text/plain": [
       "['Do the Right Thing (1989)',\n",
       " 'Gandhi (1982)',\n",
       " 'Sex, Lies, and Videotape (1989)',\n",
       " 'Right Stuff, The (1983)',\n",
       " 'Roger & Me (1989)',\n",
       " 'Unforgiven (1992)',\n",
       " 'Heavenly Creatures (1994)',\n",
       " 'Fish Called Wanda, A (1988)',\n",
       " 'Being There (1979)',\n",
       " 'Ghostbusters (1984)',\n",
       " 'Drugstore Cowboy (1989)',\n",
       " 'Boat, The (Das Boot) (1981)',\n",
       " 'Buena Vista Social Club (1999)',\n",
       " '400 Blows, The (Les Quatre cents coups) (1959)',\n",
       " 'Kolya (1996)',\n",
       " 'Insider, The (1999)',\n",
       " 'Delicatessen (1991)',\n",
       " 'Big Chill, The (1983)',\n",
       " 'Three Colors: Blue (1993)',\n",
       " 'Strangers on a Train (1951)']"
      ]
     },
     "execution_count": 42,
     "metadata": {},
     "output_type": "execute_result"
    }
   ],
   "source": [
    "[idx_to_movie[i[0]] for i in movie_recommended]"
   ]
  },
  {
   "cell_type": "code",
   "execution_count": 43,
   "id": "83abd93e",
   "metadata": {},
   "outputs": [],
   "source": [
    "lion = movie_to_idx['Lion King, The (1994)']\n",
    "explain = als_model.explain(6038, csr_data, itemid=lion)"
   ]
  },
  {
   "cell_type": "code",
   "execution_count": 44,
   "id": "27287869",
   "metadata": {},
   "outputs": [
    {
     "data": {
      "text/plain": [
       "[('Toy Story (1995)', 0.08991986392361244),\n",
       " ('Wizard of Oz, The (1939)', 0.0721982993894074),\n",
       " (\"Singin' in the Rain (1952)\", 0.04832004962027704),\n",
       " ('Philadelphia (1993)', 0.040526867117467065),\n",
       " ('Fugitive, The (1993)', 0.039600090048761194),\n",
       " ('West Side Story (1961)', 0.03008083017676018),\n",
       " ('Producers, The (1968)', 0.028001385068957524),\n",
       " ('Birdy (1984)', 0.026108994543201567),\n",
       " ('Three Colors: Red (1994)', 0.025968531781844162),\n",
       " ('Apollo 13 (1995)', 0.02401007847835309)]"
      ]
     },
     "execution_count": 44,
     "metadata": {},
     "output_type": "execute_result"
    }
   ],
   "source": [
    "[(idx_to_movie[i[0]], i[1]) for i in explain[1]]"
   ]
  },
  {
   "cell_type": "markdown",
   "id": "d12c026a",
   "metadata": {},
   "source": [
    "# 후기\n",
    "* 추천알고리즘 중 간단 구조의 MF을 사용해봄\n",
    "* 생각보다 높은 정확도에 놀람\n",
    "* 평점에 따른 가중치를 어떻게 둬야할지 모르겠다"
   ]
  }
 ],
 "metadata": {
  "kernelspec": {
   "display_name": "Python 3 (ipykernel)",
   "language": "python",
   "name": "python3"
  },
  "language_info": {
   "codemirror_mode": {
    "name": "ipython",
    "version": 3
   },
   "file_extension": ".py",
   "mimetype": "text/x-python",
   "name": "python",
   "nbconvert_exporter": "python",
   "pygments_lexer": "ipython3",
   "version": "3.9.7"
  }
 },
 "nbformat": 4,
 "nbformat_minor": 5
}
