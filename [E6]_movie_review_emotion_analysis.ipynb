{
 "cells": [
  {
   "cell_type": "markdown",
   "id": "cd1f9cee",
   "metadata": {},
   "source": [
    "# E6_movie_review_emotion_analysis"
   ]
  },
  {
   "cell_type": "markdown",
   "id": "1fe6861e",
   "metadata": {},
   "source": [
    "목차<br/>\n",
    "0 package import<br/>\n",
    "1 data load and preprocessing<br/>"
   ]
  },
  {
   "cell_type": "markdown",
   "id": "5c4bf6f6",
   "metadata": {},
   "source": [
    "## 0 package import\n",
    "* konlpy : 한국어 NLP관련 패키지\n",
    "     Mecab konlpy 한국어 토큰화 함수 \n",
    "* collections : "
   ]
  },
  {
   "cell_type": "code",
   "execution_count": 54,
   "id": "bcdddf01",
   "metadata": {},
   "outputs": [],
   "source": [
    "import pandas as pd\n",
    "import numpy as np\n",
    "from sklearn.model_selection import train_test_split\n",
    "import os\n",
    "import re\n",
    "\n",
    "import seaborn as sns\n",
    "import matplotlib.pyplot as plt\n",
    "\n",
    "from konlpy.tag import Mecab\n",
    "from collections import Counter\n",
    "from gensim.models import KeyedVectors, Word2Vec\n",
    "\n",
    "import keras\n",
    "import tensorflow as tf\n",
    "from tensorflow.keras.initializers import Constant\n"
   ]
  },
  {
   "cell_type": "markdown",
   "id": "4632e50e",
   "metadata": {},
   "source": [
    "## 1 data load and preprocessing\n",
    "1-1) 데이터 로드 및 확인<br/>\n",
    "1-2) 데이터 결측값 및 중복 제거<br/>\n",
    "1-3) 데이터 확인<br/>\n",
    "1-4) 문자열(한국어) 토큰화 & 불용어 제거\n"
   ]
  },
  {
   "cell_type": "markdown",
   "id": "150f9987",
   "metadata": {},
   "source": [
    "### 1-1) 데이터 로드 및 확인"
   ]
  },
  {
   "cell_type": "code",
   "execution_count": 2,
   "id": "73250643",
   "metadata": {},
   "outputs": [],
   "source": [
    "train_data = pd.read_table('~/aiffel/sentiment_classification/data/ratings_train.txt')\n",
    "test_data = pd.read_table('~/aiffel/sentiment_classification/data/ratings_test.txt')"
   ]
  },
  {
   "cell_type": "code",
   "execution_count": 3,
   "id": "76b40a50",
   "metadata": {
    "scrolled": true
   },
   "outputs": [
    {
     "name": "stdout",
     "output_type": "stream",
     "text": [
      "<class 'pandas.core.frame.DataFrame'>\n",
      "RangeIndex: 150000 entries, 0 to 149999\n",
      "Data columns (total 3 columns):\n",
      " #   Column    Non-Null Count   Dtype \n",
      "---  ------    --------------   ----- \n",
      " 0   id        150000 non-null  int64 \n",
      " 1   document  149995 non-null  object\n",
      " 2   label     150000 non-null  int64 \n",
      "dtypes: int64(2), object(1)\n",
      "memory usage: 3.4+ MB\n"
     ]
    }
   ],
   "source": [
    "train_data.info()"
   ]
  },
  {
   "cell_type": "code",
   "execution_count": 4,
   "id": "3c79acde",
   "metadata": {},
   "outputs": [
    {
     "name": "stdout",
     "output_type": "stream",
     "text": [
      "<class 'pandas.core.frame.DataFrame'>\n",
      "RangeIndex: 50000 entries, 0 to 49999\n",
      "Data columns (total 3 columns):\n",
      " #   Column    Non-Null Count  Dtype \n",
      "---  ------    --------------  ----- \n",
      " 0   id        50000 non-null  int64 \n",
      " 1   document  49997 non-null  object\n",
      " 2   label     50000 non-null  int64 \n",
      "dtypes: int64(2), object(1)\n",
      "memory usage: 1.1+ MB\n"
     ]
    }
   ],
   "source": [
    "test_data.info()"
   ]
  },
  {
   "cell_type": "markdown",
   "id": "43c364db",
   "metadata": {},
   "source": [
    "### 1-2) 데이터 결측값 및 중복 제거"
   ]
  },
  {
   "cell_type": "code",
   "execution_count": 5,
   "id": "bc6e10e2",
   "metadata": {},
   "outputs": [],
   "source": [
    "train_data.dropna(inplace=True)\n",
    "test_data.dropna(inplace=True)"
   ]
  },
  {
   "cell_type": "code",
   "execution_count": 6,
   "id": "78f76a53",
   "metadata": {},
   "outputs": [],
   "source": [
    "train_data.drop_duplicates(subset=['document'], inplace=True)\n",
    "test_data.drop_duplicates(subset=['document'], inplace=True)\n"
   ]
  },
  {
   "cell_type": "code",
   "execution_count": 7,
   "id": "dd5aa6ba",
   "metadata": {},
   "outputs": [],
   "source": [
    "def k(x):\n",
    "    return re.sub(r'[\"ㅋ\"]+', \"ㅋ\", str(x)) \n",
    "def h(x):\n",
    "    return re.sub(r'[\"ㅎ\"]+', \"ㅎ\", str(x))\n",
    "def j(x):\n",
    "    return re.sub(r'[\".\"]+', \".\", str(x))"
   ]
  },
  {
   "cell_type": "code",
   "execution_count": 8,
   "id": "a0e39c40",
   "metadata": {},
   "outputs": [],
   "source": [
    "train_data[\"document\"]=train_data[\"document\"].map(lambda x: k(x))\n",
    "test_data[\"document\"]=test_data[\"document\"].map(lambda x: k(x))\n",
    "train_data[\"document\"]=train_data[\"document\"].map(lambda x: h(x))\n",
    "test_data[\"document\"]=test_data[\"document\"].map(lambda x: h(x))\n",
    "train_data[\"document\"]=train_data[\"document\"].map(lambda x: j(x))\n",
    "test_data[\"document\"]=test_data[\"document\"].map(lambda x: j(x))"
   ]
  },
  {
   "cell_type": "markdown",
   "id": "06ac67fe",
   "metadata": {},
   "source": [
    "### 1-3) 데이터 확인"
   ]
  },
  {
   "cell_type": "code",
   "execution_count": 9,
   "id": "8a26d49b",
   "metadata": {},
   "outputs": [
    {
     "name": "stdout",
     "output_type": "stream",
     "text": [
      "<class 'pandas.core.frame.DataFrame'>\n",
      "Int64Index: 146182 entries, 0 to 149999\n",
      "Data columns (total 3 columns):\n",
      " #   Column    Non-Null Count   Dtype \n",
      "---  ------    --------------   ----- \n",
      " 0   id        146182 non-null  int64 \n",
      " 1   document  146182 non-null  object\n",
      " 2   label     146182 non-null  int64 \n",
      "dtypes: int64(2), object(1)\n",
      "memory usage: 4.5+ MB\n"
     ]
    }
   ],
   "source": [
    "train_data.info()"
   ]
  },
  {
   "cell_type": "code",
   "execution_count": 10,
   "id": "7b839e62",
   "metadata": {},
   "outputs": [
    {
     "name": "stdout",
     "output_type": "stream",
     "text": [
      "<class 'pandas.core.frame.DataFrame'>\n",
      "Int64Index: 49157 entries, 0 to 49999\n",
      "Data columns (total 3 columns):\n",
      " #   Column    Non-Null Count  Dtype \n",
      "---  ------    --------------  ----- \n",
      " 0   id        49157 non-null  int64 \n",
      " 1   document  49157 non-null  object\n",
      " 2   label     49157 non-null  int64 \n",
      "dtypes: int64(2), object(1)\n",
      "memory usage: 1.5+ MB\n"
     ]
    }
   ],
   "source": [
    "test_data.info()"
   ]
  },
  {
   "cell_type": "code",
   "execution_count": 11,
   "id": "dea29a52",
   "metadata": {},
   "outputs": [
    {
     "data": {
      "text/html": [
       "<div>\n",
       "<style scoped>\n",
       "    .dataframe tbody tr th:only-of-type {\n",
       "        vertical-align: middle;\n",
       "    }\n",
       "\n",
       "    .dataframe tbody tr th {\n",
       "        vertical-align: top;\n",
       "    }\n",
       "\n",
       "    .dataframe thead th {\n",
       "        text-align: right;\n",
       "    }\n",
       "</style>\n",
       "<table border=\"1\" class=\"dataframe\">\n",
       "  <thead>\n",
       "    <tr style=\"text-align: right;\">\n",
       "      <th></th>\n",
       "      <th>id</th>\n",
       "      <th>document</th>\n",
       "      <th>label</th>\n",
       "    </tr>\n",
       "  </thead>\n",
       "  <tbody>\n",
       "    <tr>\n",
       "      <th>0</th>\n",
       "      <td>9976970</td>\n",
       "      <td>아 더빙. 진짜 짜증나네요 목소리</td>\n",
       "      <td>0</td>\n",
       "    </tr>\n",
       "    <tr>\n",
       "      <th>1</th>\n",
       "      <td>3819312</td>\n",
       "      <td>흠.포스터보고 초딩영화줄.오버연기조차 가볍지 않구나</td>\n",
       "      <td>1</td>\n",
       "    </tr>\n",
       "    <tr>\n",
       "      <th>2</th>\n",
       "      <td>10265843</td>\n",
       "      <td>너무재밓었다그래서보는것을추천한다</td>\n",
       "      <td>0</td>\n",
       "    </tr>\n",
       "    <tr>\n",
       "      <th>3</th>\n",
       "      <td>9045019</td>\n",
       "      <td>교도소 이야기구먼 .솔직히 재미는 없다.평점 조정</td>\n",
       "      <td>0</td>\n",
       "    </tr>\n",
       "    <tr>\n",
       "      <th>4</th>\n",
       "      <td>6483659</td>\n",
       "      <td>사이몬페그의 익살스런 연기가 돋보였던 영화!스파이더맨에서 늙어보이기만 했던 커스틴 ...</td>\n",
       "      <td>1</td>\n",
       "    </tr>\n",
       "  </tbody>\n",
       "</table>\n",
       "</div>"
      ],
      "text/plain": [
       "         id                                           document  label\n",
       "0   9976970                                 아 더빙. 진짜 짜증나네요 목소리      0\n",
       "1   3819312                       흠.포스터보고 초딩영화줄.오버연기조차 가볍지 않구나      1\n",
       "2  10265843                                  너무재밓었다그래서보는것을추천한다      0\n",
       "3   9045019                        교도소 이야기구먼 .솔직히 재미는 없다.평점 조정      0\n",
       "4   6483659  사이몬페그의 익살스런 연기가 돋보였던 영화!스파이더맨에서 늙어보이기만 했던 커스틴 ...      1"
      ]
     },
     "execution_count": 11,
     "metadata": {},
     "output_type": "execute_result"
    }
   ],
   "source": [
    "train_data.head()"
   ]
  },
  {
   "cell_type": "code",
   "execution_count": 12,
   "id": "e17642f0",
   "metadata": {
    "scrolled": true
   },
   "outputs": [
    {
     "data": {
      "text/html": [
       "<div>\n",
       "<style scoped>\n",
       "    .dataframe tbody tr th:only-of-type {\n",
       "        vertical-align: middle;\n",
       "    }\n",
       "\n",
       "    .dataframe tbody tr th {\n",
       "        vertical-align: top;\n",
       "    }\n",
       "\n",
       "    .dataframe thead th {\n",
       "        text-align: right;\n",
       "    }\n",
       "</style>\n",
       "<table border=\"1\" class=\"dataframe\">\n",
       "  <thead>\n",
       "    <tr style=\"text-align: right;\">\n",
       "      <th></th>\n",
       "      <th>id</th>\n",
       "      <th>document</th>\n",
       "      <th>label</th>\n",
       "    </tr>\n",
       "  </thead>\n",
       "  <tbody>\n",
       "    <tr>\n",
       "      <th>0</th>\n",
       "      <td>6270596</td>\n",
       "      <td>굳 ㅋ</td>\n",
       "      <td>1</td>\n",
       "    </tr>\n",
       "    <tr>\n",
       "      <th>1</th>\n",
       "      <td>9274899</td>\n",
       "      <td>GDNTOPCLASSINTHECLUB</td>\n",
       "      <td>0</td>\n",
       "    </tr>\n",
       "    <tr>\n",
       "      <th>2</th>\n",
       "      <td>8544678</td>\n",
       "      <td>뭐야 이 평점들은. 나쁘진 않지만 10점 짜리는 더더욱 아니잖아</td>\n",
       "      <td>0</td>\n",
       "    </tr>\n",
       "    <tr>\n",
       "      <th>3</th>\n",
       "      <td>6825595</td>\n",
       "      <td>지루하지는 않은데 완전 막장임. 돈주고 보기에는.</td>\n",
       "      <td>0</td>\n",
       "    </tr>\n",
       "    <tr>\n",
       "      <th>4</th>\n",
       "      <td>6723715</td>\n",
       "      <td>3D만 아니었어도 별 다섯 개 줬을텐데. 왜 3D로 나와서 제 심기를 불편하게 하죠??</td>\n",
       "      <td>0</td>\n",
       "    </tr>\n",
       "  </tbody>\n",
       "</table>\n",
       "</div>"
      ],
      "text/plain": [
       "        id                                          document  label\n",
       "0  6270596                                               굳 ㅋ      1\n",
       "1  9274899                              GDNTOPCLASSINTHECLUB      0\n",
       "2  8544678               뭐야 이 평점들은. 나쁘진 않지만 10점 짜리는 더더욱 아니잖아      0\n",
       "3  6825595                       지루하지는 않은데 완전 막장임. 돈주고 보기에는.      0\n",
       "4  6723715  3D만 아니었어도 별 다섯 개 줬을텐데. 왜 3D로 나와서 제 심기를 불편하게 하죠??      0"
      ]
     },
     "execution_count": 12,
     "metadata": {},
     "output_type": "execute_result"
    }
   ],
   "source": [
    "test_data.head()"
   ]
  },
  {
   "cell_type": "markdown",
   "id": "e6cf9f79",
   "metadata": {},
   "source": [
    "* 데이터 읽어드려서 결측값(na)와 중복값 제거\n",
    "* head로 데이터 확인 결과 후기 내용과 label 값이 부합하지 않는 경우 확인 >> 모델에 악영향\n"
   ]
  },
  {
   "cell_type": "markdown",
   "id": "8f53620b",
   "metadata": {},
   "source": [
    "### 1-4) 한국어 토큰화 & 불용어 제거"
   ]
  },
  {
   "cell_type": "code",
   "execution_count": 13,
   "id": "099638e5",
   "metadata": {},
   "outputs": [],
   "source": [
    "tokenizer = Mecab()\n",
    "stopwords = ['의','가','이','은','들','는','좀','잘','걍','과','도','를','으로','자','에','와','한','하다','을','한테']"
   ]
  },
  {
   "cell_type": "code",
   "execution_count": 14,
   "id": "5de4451c",
   "metadata": {},
   "outputs": [],
   "source": [
    "X_train = []\n",
    "for sentence in train_data['document']:\n",
    "    temp_X = tokenizer.morphs(sentence) \n",
    "    temp_X = [word for word in temp_X if not word in stopwords]\n",
    "    X_train.append(temp_X)\n",
    "\n",
    "X_test = []\n",
    "for sentence in test_data['document']:\n",
    "    temp_X = tokenizer.morphs(sentence) # 토큰화\n",
    "    temp_X = [word for word in temp_X if not word in stopwords] \n",
    "    X_test.append(temp_X)"
   ]
  },
  {
   "cell_type": "code",
   "execution_count": 15,
   "id": "2c2a2a27",
   "metadata": {
    "scrolled": true
   },
   "outputs": [
    {
     "name": "stdout",
     "output_type": "stream",
     "text": [
      "아 더빙. 진짜 짜증나네요 목소리\n",
      "['아', '더', '빙', '.', '진짜', '짜증', '나', '네요', '목소리']\n",
      "흠.포스터보고 초딩영화줄.오버연기조차 가볍지 않구나\n",
      "['흠', '.', '포스터', '보고', '초딩', '영화', '줄', '.', '오버', '연기', '조차', '가볍', '지', '않', '구나']\n",
      "너무재밓었다그래서보는것을추천한다\n",
      "['너무', '재', '밓었다그래서보는것을추천한다']\n",
      "교도소 이야기구먼 .솔직히 재미는 없다.평점 조정\n",
      "['교도소', '이야기', '구먼', '.', '솔직히', '재미', '없', '다', '.', '평점', '조정']\n",
      "사이몬페그의 익살스런 연기가 돋보였던 영화!스파이더맨에서 늙어보이기만 했던 커스틴 던스트가 너무나도 이뻐보였다\n",
      "['사이몬페그', '익살', '스런', '연기', '돋보였', '던', '영화', '!', '스파이더맨', '에서', '늙', '어', '보이', '기', '만', '했', '던', '커스틴', '던스트', '너무나', '이뻐', '보였', '다']\n",
      "막 걸음마 뗀 3세부터 초등학교 1학년생인 8살용영화.ㅋ.별반개도 아까움.\n",
      "['막', '걸음마', '뗀', '3', '세', '부터', '초등', '학교', '1', '학년', '생', '인', '8', '살', '용', '영화', '.', 'ㅋ', '.', '별반', '개', '아까움', '.']\n",
      "원작의 긴장감을 제대로 살려내지못했다.\n",
      "['원작', '긴장감', '제대로', '살려', '내', '지', '못했', '다', '.']\n",
      "별 반개도 아깝다 욕나온다 이응경 길용우 연기생활이몇년인지.정말 발로해도 그것보단 낫겟다 납치.감금만반복반복.이드라마는 가족도없다 연기못하는사람만모엿네\n",
      "['별', '반개', '아깝', '다', '욕', '나온다', '이응경', '길용우', '연기', '생활', '몇', '년', '인지', '.', '정말', '발', '로', '해도', '그것', '보단', '낫', '겟', '다', '납치', '.', '감금', '만', '반복', '반복', '.', '드라마', '가족', '없', '다', '연기', '못', '하', '사람', '만', '모엿', '네']\n",
      "액션이 없는데도 재미 있는 몇안되는 영화\n",
      "['액션', '없', '는데', '재미', '있', '몇', '안', '되', '영화']\n",
      "왜케 평점이 낮은건데? 꽤 볼만한데. 헐리우드식 화려함에만 너무 길들여져 있나?\n",
      "['왜', '케', '평점', '낮', '건데', '?', '꽤', '볼', '만한데', '.', '헐리우드', '식', '화려', '함', '만', '너무', '길들여져', '있', '나', '?']\n",
      "걍인피니트가짱이다.진짜짱이다♥\n",
      "['걍인피니트가짱이다', '.', '진짜', '짱', '다', '♥']\n",
      "볼때마다 눈물나서 죽겠다90년대의 향수자극!!허진호는 감성절제멜로의 달인이다~\n",
      "['볼', '때', '마다', '눈물나', '서', '죽', '겠', '다', '90', '년', '대', '향수', '자극', '!', '!', '허진호', '감성', '절제', '멜로', '달인', '다', '~']\n",
      "울면서 손들고 횡단보도 건널때 뛰쳐나올뻔 이범수 연기 드럽게못해\n",
      "['울', '면서', '손들', '고', '횡단', '보도', '건널', '때', '뛰쳐나올', '뻔', '이범수', '연기', '드럽', '게', '못해']\n",
      "담백하고 깔끔해서 좋다. 신문기사로만 보다 보면 자꾸 잊어버린다. 그들도 사람이었다는 것을.\n",
      "['담백', '하', '고', '깔끔', '해서', '좋', '다', '.', '신문', '기사', '로', '만', '보다', '보', '면', '자꾸', '잊어버린다', '.', '그', '사람', '었', '다는', '것', '.']\n",
      "취향은 존중한다지만 진짜 내생에 극장에서 본 영화중 가장 노잼 노감동임 스토리도 어거지고 감동도 어거지\n",
      "['취향', '존중', '한다지만', '진짜', '내생', '극장', '에서', '본', '영화', '중', '가장', '노', '잼', '노', '감동', '임', '스토리', '어', '거지', '고', '감동', '어거지']\n",
      "ㄱ냥 매번 긴장되고 재밋음ㅠㅠ\n",
      "['ㄱ', '냥', '매번', '긴장', '되', '고', '재', '밋', '음', 'ㅠㅠ']\n",
      "참 사람들 웃긴게 바스코가 이기면 락스코라고 까고바비가 이기면 아이돌이라고 깐다.그냥 까고싶어서 안달난것처럼 보인다\n",
      "['참', '사람', '웃긴', '게', '바스코', '이기면', '락스', '코', '라고', '까', '고', '바비', '이기', '면', '아이돌', '라고', '깐다', '.', '그냥', '까', '고', '싶', '어서', '안달', '난', '것', '처럼', '보인다']\n",
      "굿바이 레닌 표절인것은 이해하는데 왜 뒤로 갈수록 재미없어지냐\n",
      "['굿바이', '레닌', '표절', '인', '것', '이해', '하', '는데', '왜', '뒤', '로', '갈수록', '재미없', '어', '지', '냐']\n",
      "이건 정말 깨알 캐스팅과 질퍽하지않은 산뜻한 내용구성이 잘 버무러진 깨알일드!!♥\n",
      "['이건', '정말', '깨알', '캐스팅', '질퍽', '하', '지', '않', '산뜻', '내용', '구성', '버', '무', '러진', '깨알', '일', '드', '!', '!♥']\n",
      "약탈자를 위한 변명, 이라. 저놈들은 착한놈들 절대 아닌걸요.\n",
      "['약탈자', '위한', '변명', ',', '이라', '.', '저놈', '착한', '놈', '절대', '아닌걸요', '.']\n",
      "나름 심오한 뜻도 있는 듯. 그냥 학생이 선생과 놀아나는 영화는 절대 아님\n",
      "['나름', '심오', '뜻', '있', '듯', '.', '그냥', '학생', '선생', '놀아나', '영화', '절대', '아님']\n"
     ]
    }
   ],
   "source": [
    "# 데이터 확인\n",
    "for sentence in train_data['document'][:21]:\n",
    "    temp_X = tokenizer.morphs(sentence) \n",
    "    temp_X = [word for word in temp_X if not word in stopwords]\n",
    "    print(sentence)\n",
    "    print(temp_X)"
   ]
  },
  {
   "cell_type": "code",
   "execution_count": 16,
   "id": "3d4b521a",
   "metadata": {},
   "outputs": [
    {
     "data": {
      "text/plain": [
       "['나름', '심오', '뜻', '있', '듯', '.', '그냥', '학생', '선생', '놀아나', '영화', '절대', '아님']"
      ]
     },
     "execution_count": 16,
     "metadata": {},
     "output_type": "execute_result"
    }
   ],
   "source": [
    "X_train[20]"
   ]
  },
  {
   "cell_type": "markdown",
   "id": "d9e67331",
   "metadata": {},
   "source": [
    "* konlpy Mecab()으로 토크나이저 함수 객체 생성\n",
    "* morphs : 문장을 형태소로 분해\n",
    "* stopwords에 속하지 않는 분해된 형태소들을 X_train에 다시 저장"
   ]
  },
  {
   "attachments": {
    "image.png": {
     "image/png": "[encoded data removed]"
    }
   },
   "cell_type": "markdown",
   "id": "4491e5f8",
   "metadata": {},
   "source": [
    "![image.png](attachment:image.png)"
   ]
  },
  {
   "cell_type": "code",
   "execution_count": 17,
   "id": "1a5cd1f1",
   "metadata": {},
   "outputs": [
    {
     "data": {
      "text/plain": [
       "'아 더빙. 진짜 짜증나네요 목소리'"
      ]
     },
     "execution_count": 17,
     "metadata": {},
     "output_type": "execute_result"
    }
   ],
   "source": [
    "train_data['document'][0]"
   ]
  },
  {
   "cell_type": "code",
   "execution_count": 18,
   "id": "f2ccabfd",
   "metadata": {},
   "outputs": [
    {
     "data": {
      "text/plain": [
       "['아', '더', '빙', '.', '진짜', '짜증', '나', '네요', '목소리']"
      ]
     },
     "execution_count": 18,
     "metadata": {},
     "output_type": "execute_result"
    }
   ],
   "source": [
    "X_train[0]"
   ]
  },
  {
   "cell_type": "markdown",
   "id": "6f93f2c9",
   "metadata": {},
   "source": [
    "* 토큰에 저장된 단어와 실제 데이터 간의 차이로 인해 train data의 토큰화가 완벽하지 않음\n"
   ]
  },
  {
   "cell_type": "markdown",
   "id": "445c75a0",
   "metadata": {},
   "source": [
    "문자열분 많이 사용하는 부분만 사용하기"
   ]
  },
  {
   "cell_type": "code",
   "execution_count": 19,
   "id": "4c2b384c",
   "metadata": {},
   "outputs": [
    {
     "data": {
      "text/plain": [
       "60820"
      ]
     },
     "execution_count": 19,
     "metadata": {},
     "output_type": "execute_result"
    }
   ],
   "source": [
    "words=[]\n",
    "for i in X_train+X_test: \n",
    "    words.extend(i)     \n",
    "counter = Counter(words)\n",
    "len(counter)"
   ]
  },
  {
   "cell_type": "code",
   "execution_count": 20,
   "id": "5519b597",
   "metadata": {},
   "outputs": [],
   "source": [
    "counter = counter.most_common(10000-4)\n",
    "vocab = [\"<PAD>\", \"<BOS>\", \"<UNK>\", \"<UNUSED>\"] + [key for key, _ in counter]\n",
    "word_to_index = {word:index for index, word in enumerate(vocab)}"
   ]
  },
  {
   "cell_type": "code",
   "execution_count": 21,
   "id": "3a027fcf",
   "metadata": {},
   "outputs": [],
   "source": [
    "def wordlist_to_indexlist(wordlist):\n",
    "    return [word_to_index[word] if word in word_to_index else word_to_index[\"<UNK>\"] for word in wordlist]\n",
    "\n",
    "X_train2 = list(map(wordlist_to_indexlist, X_train))\n",
    "X_test2 = list(map(wordlist_to_indexlist, X_test))\n",
    "\n"
   ]
  },
  {
   "cell_type": "code",
   "execution_count": 22,
   "id": "26d036be",
   "metadata": {},
   "outputs": [
    {
     "data": {
      "text/plain": [
       "[387, 1910, 1458, 14, 74, 4, 89, 1553, 1122, 7787, 5, 414, 608]"
      ]
     },
     "execution_count": 22,
     "metadata": {},
     "output_type": "execute_result"
    }
   ],
   "source": [
    "X_train2[20]"
   ]
  },
  {
   "cell_type": "markdown",
   "id": "ed1b40dd",
   "metadata": {},
   "source": [
    "* 토큰화 한 형태소 원하는 인덱스: 단어의 딕셔너리 형태로 변환\n",
    "* words 리스트 생성 후 X_train, X_test를 합쳐 빈도수 상위 9996개만 추출하고 4개는 특수한 목적의 토큰 삽입\n",
    "* train과 test를 words에 있는 단어면 유지 아니면 UNK로 변환"
   ]
  },
  {
   "cell_type": "code",
   "execution_count": 23,
   "id": "6264b5b0",
   "metadata": {},
   "outputs": [
    {
     "data": {
      "text/plain": [
       "[31, 68, 872, 4, 37, 219, 19, 32, 726]"
      ]
     },
     "execution_count": 23,
     "metadata": {},
     "output_type": "execute_result"
    }
   ],
   "source": [
    "X_train2[0]"
   ]
  },
  {
   "cell_type": "code",
   "execution_count": 24,
   "id": "e25a73e3",
   "metadata": {},
   "outputs": [],
   "source": [
    "y_train = train_data['label'].to_numpy()\n",
    "y_test = test_data['label'].to_numpy()"
   ]
  },
  {
   "cell_type": "code",
   "execution_count": 25,
   "id": "8c1dc7d3",
   "metadata": {},
   "outputs": [],
   "source": [
    "# 문장 1개를 활용할 딕셔너리와 함께 주면, 단어 인덱스 리스트 벡터로 변환해 주는 함수입니다. \n",
    "# 단, 모든 문장은 <BOS>로 시작하는 것으로 합니다. \n",
    "def get_encoded_sentence(sentence, word_to_index):\n",
    "    return [word_to_index['<BOS>']]+[word_to_index[word] if word in word_to_index else word_to_index['<UNK>'] for word in sentence.split()]\n",
    "\n",
    "# 여러 개의 문장 리스트를 한꺼번에 단어 인덱스 리스트 벡터로 encode해 주는 함수입니다. \n",
    "def get_encoded_sentences(sentences, word_to_index):\n",
    "    return [get_encoded_sentence(sentence, word_to_index) for sentence in sentences]\n",
    "\n",
    "# 숫자 벡터로 encode된 문장을 원래대로 decode하는 함수입니다. \n",
    "def get_decoded_sentence(encoded_sentence, index_to_word):\n",
    "    return ' '.join(index_to_word[index] if index in index_to_word else '<UNK>' for index in encoded_sentence[1:])  #[1:]를 통해 <BOS>를 제외\n",
    "\n",
    "# 여러 개의 숫자 벡터로 encode된 문장을 한꺼번에 원래대로 decode하는 함수입니다. \n",
    "def get_decoded_sentences(encoded_sentences, index_to_word):\n",
    "    return [get_decoded_sentence(encoded_sentence, index_to_word) for encoded_sentence in encoded_sentences]"
   ]
  },
  {
   "cell_type": "code",
   "execution_count": 26,
   "id": "b7e72126",
   "metadata": {},
   "outputs": [],
   "source": [
    "index_to_word = {index:word for word, index in word_to_index.items()}"
   ]
  },
  {
   "cell_type": "code",
   "execution_count": 27,
   "id": "18080361",
   "metadata": {},
   "outputs": [
    {
     "name": "stdout",
     "output_type": "stream",
     "text": [
      "나름 심오한 뜻도 있는 듯. 그냥 학생이 선생과 놀아나는 영화는 절대 아님\n",
      "[387, 1910, 1458, 14, 74, 4, 89, 1553, 1122, 7787, 5, 414, 608]\n",
      "심오 뜻 있 듯 . 그냥 학생 선생 놀아나 영화 절대 아님\n"
     ]
    }
   ],
   "source": [
    "print(train_data[\"document\"][20])\n",
    "print(X_train2[20])\n",
    "print(get_decoded_sentence(X_train2[20],index_to_word))"
   ]
  },
  {
   "cell_type": "code",
   "execution_count": 28,
   "id": "417711e5",
   "metadata": {},
   "outputs": [],
   "source": [
    "train_len=[len(i) for i in X_train2]\n",
    "test_len=[len(i) for i in X_test2]"
   ]
  },
  {
   "cell_type": "code",
   "execution_count": 29,
   "id": "6d89bd2a",
   "metadata": {},
   "outputs": [
    {
     "data": {
      "text/plain": [
       "{'whiskers': [<matplotlib.lines.Line2D at 0x7fd2380fa8e0>,\n",
       "  <matplotlib.lines.Line2D at 0x7fd2380fa280>],\n",
       " 'caps': [<matplotlib.lines.Line2D at 0x7fd2380ecac0>,\n",
       "  <matplotlib.lines.Line2D at 0x7fd2380ece80>],\n",
       " 'boxes': [<matplotlib.lines.Line2D at 0x7fd238103820>],\n",
       " 'medians': [<matplotlib.lines.Line2D at 0x7fd2380dfb20>],\n",
       " 'fliers': [<matplotlib.lines.Line2D at 0x7fd2380df280>],\n",
       " 'means': []}"
      ]
     },
     "execution_count": 29,
     "metadata": {},
     "output_type": "execute_result"
    },
    {
     "data": {
      "image/png": "[encoded data removed]",
      "text/plain": [
       "<Figure size 432x288 with 1 Axes>"
      ]
     },
     "metadata": {
      "needs_background": "light"
     },
     "output_type": "display_data"
    }
   ],
   "source": [
    "plt.boxplot(train_len+test_len)"
   ]
  },
  {
   "cell_type": "code",
   "execution_count": 30,
   "id": "ab1a226c",
   "metadata": {},
   "outputs": [],
   "source": [
    "maxlen = 45"
   ]
  },
  {
   "cell_type": "code",
   "execution_count": 31,
   "id": "c101cc21",
   "metadata": {},
   "outputs": [],
   "source": [
    "X_train2 = tf.keras.preprocessing.sequence.pad_sequences(X_train2,\n",
    "                                                        value=word_to_index['<PAD>'],\n",
    "                                                        padding='pre',\n",
    "                                                        maxlen=maxlen)\n",
    "\n",
    "X_test2 = tf.keras.preprocessing.sequence.pad_sequences(X_test2,\n",
    "                                                       value=word_to_index[\"<PAD>\"],\n",
    "                                                        padding='pre',\n",
    "                                                        maxlen=maxlen)\n"
   ]
  },
  {
   "cell_type": "markdown",
   "id": "b18bcc5b",
   "metadata": {},
   "source": [
    "konlpy.tag.Mecab 클래스의 morphs: 입력받은 문장을 형태소로 바꾸는 함수\n"
   ]
  },
  {
   "cell_type": "code",
   "execution_count": 32,
   "id": "31440830",
   "metadata": {},
   "outputs": [],
   "source": [
    "x_train, x_val, y_train, y_val=train_test_split(X_train2, y_train, test_size=0.2, stratify=y_train, random_state=42, shuffle=True)"
   ]
  },
  {
   "cell_type": "code",
   "execution_count": 33,
   "id": "6863b20f",
   "metadata": {},
   "outputs": [
    {
     "data": {
      "text/plain": [
       "(116945, 45)"
      ]
     },
     "execution_count": 33,
     "metadata": {},
     "output_type": "execute_result"
    }
   ],
   "source": [
    "x_train.shape"
   ]
  },
  {
   "cell_type": "markdown",
   "id": "baec5796",
   "metadata": {},
   "source": [
    "embedding_dim은 200이 고정 >> 확인 필요"
   ]
  },
  {
   "cell_type": "code",
   "execution_count": 44,
   "id": "ddec98ea",
   "metadata": {},
   "outputs": [],
   "source": [
    "def rnn_model(words=10000, embedding_dim=200):\n",
    "\n",
    "    model = tf.keras.Sequential()\n",
    "    model.add(tf.keras.layers.Embedding(words, embedding_dim, input_shape=(None,)))\n",
    "    model.add(tf.keras.layers.LSTM(10))   \n",
    "    model.add(tf.keras.layers.Dense(10, activation='relu'))\n",
    "    model.add(tf.keras.layers.Dropout(0.5))\n",
    "    model.add(tf.keras.layers.Dense(1, activation='sigmoid'))  # 최종 출력은 긍정/부정을 나타내는 1dim 입니다.\n",
    "\n",
    "    model.summary()\n",
    "    return model"
   ]
  },
  {
   "cell_type": "code",
   "execution_count": 35,
   "id": "1f38a123",
   "metadata": {},
   "outputs": [],
   "source": [
    "def cnn_1d_model(words=10000, embedding_dim=200):\n",
    "\n",
    "    model = tf.keras.Sequential()\n",
    "    model.add(tf.keras.layers.Embedding(words, embedding_dim))\n",
    "    model.add(tf.keras.layers.Conv1D(16, 7, activation='relu'))\n",
    "    model.add(tf.keras.layers.MaxPooling1D(5))\n",
    "    model.add(tf.keras.layers.Conv1D(16, 7, activation='relu'))\n",
    "    model.add(tf.keras.layers.GlobalMaxPooling1D())\n",
    "    model.add(tf.keras.layers.Dense(8, activation='relu'))\n",
    "    model.add(tf.keras.layers.Dropout(0.5))\n",
    "    model.add(tf.keras.layers.Dense(1, activation='sigmoid'))  # 최종 출력은 긍정/부정을 나타내는 1dim 입니다.\n",
    "\n",
    "    model.summary()\n",
    "    return model"
   ]
  },
  {
   "cell_type": "code",
   "execution_count": 36,
   "id": "17c10219",
   "metadata": {},
   "outputs": [],
   "source": [
    "def globalmaxpool_model(words=10000, embedding_dim=300):\n",
    "\n",
    "    model = tf.keras.Sequential()\n",
    "    model.add(tf.keras.layers.Embedding(words, embedding_dim, input_shape=(None,)))\n",
    "    model.add(tf.keras.layers.GlobalMaxPooling1D())\n",
    "    model.add(tf.keras.layers.Dense(10, activation='relu'))\n",
    "    model.add(tf.keras.layers.Dropout(0.5))\n",
    "    model.add(tf.keras.layers.Dense(1, activation='sigmoid'))  # 최종 출력은 긍정/부정을 나타내는 1dim 입니다.\n",
    "\n",
    "    model.summary()\n",
    "    return model"
   ]
  },
  {
   "cell_type": "code",
   "execution_count": 37,
   "id": "3ae8814b",
   "metadata": {
    "scrolled": true
   },
   "outputs": [
    {
     "name": "stdout",
     "output_type": "stream",
     "text": [
      "Model: \"sequential\"\n",
      "_________________________________________________________________\n",
      "Layer (type)                 Output Shape              Param #   \n",
      "=================================================================\n",
      "embedding (Embedding)        (None, None, 200)         2000000   \n",
      "_________________________________________________________________\n",
      "lstm (LSTM)                  (None, 10)                8440      \n",
      "_________________________________________________________________\n",
      "dense (Dense)                (None, 10)                110       \n",
      "_________________________________________________________________\n",
      "dropout (Dropout)            (None, 10)                0         \n",
      "_________________________________________________________________\n",
      "dense_1 (Dense)              (None, 1)                 11        \n",
      "=================================================================\n",
      "Total params: 2,008,561\n",
      "Trainable params: 2,008,561\n",
      "Non-trainable params: 0\n",
      "_________________________________________________________________\n",
      "Epoch 1/20\n",
      "229/229 - 5s - loss: 0.4856 - accuracy: 0.7867 - val_loss: 0.3579 - val_accuracy: 0.8441\n",
      "Epoch 2/20\n",
      "229/229 - 1s - loss: 0.3615 - accuracy: 0.8506 - val_loss: 0.3413 - val_accuracy: 0.8505\n",
      "Epoch 3/20\n",
      "229/229 - 1s - loss: 0.3278 - accuracy: 0.8656 - val_loss: 0.3391 - val_accuracy: 0.8529\n",
      "Epoch 4/20\n",
      "229/229 - 1s - loss: 0.3018 - accuracy: 0.8773 - val_loss: 0.3456 - val_accuracy: 0.8534\n",
      "Epoch 5/20\n",
      "229/229 - 1s - loss: 0.2788 - accuracy: 0.8850 - val_loss: 0.3595 - val_accuracy: 0.8559\n",
      "Epoch 6/20\n",
      "229/229 - 1s - loss: 0.2558 - accuracy: 0.8942 - val_loss: 0.3880 - val_accuracy: 0.8524\n",
      "Epoch 7/20\n",
      "229/229 - 1s - loss: 0.2359 - accuracy: 0.9018 - val_loss: 0.4061 - val_accuracy: 0.8523\n",
      "Epoch 8/20\n",
      "229/229 - 1s - loss: 0.2186 - accuracy: 0.9097 - val_loss: 0.4337 - val_accuracy: 0.8506\n",
      "Epoch 9/20\n",
      "229/229 - 1s - loss: 0.2037 - accuracy: 0.9161 - val_loss: 0.4844 - val_accuracy: 0.8464\n",
      "Epoch 10/20\n",
      "229/229 - 1s - loss: 0.1888 - accuracy: 0.9222 - val_loss: 0.5030 - val_accuracy: 0.8479\n",
      "Epoch 11/20\n",
      "229/229 - 1s - loss: 0.1742 - accuracy: 0.9281 - val_loss: 0.5260 - val_accuracy: 0.8437\n",
      "Epoch 12/20\n",
      "229/229 - 1s - loss: 0.1643 - accuracy: 0.9317 - val_loss: 0.5848 - val_accuracy: 0.8448\n",
      "Epoch 13/20\n",
      "229/229 - 1s - loss: 0.1538 - accuracy: 0.9362 - val_loss: 0.6049 - val_accuracy: 0.8437\n",
      "Epoch 14/20\n",
      "229/229 - 1s - loss: 0.1445 - accuracy: 0.9394 - val_loss: 0.6866 - val_accuracy: 0.8414\n",
      "Epoch 15/20\n",
      "229/229 - 1s - loss: 0.1334 - accuracy: 0.9434 - val_loss: 0.7058 - val_accuracy: 0.8433\n",
      "Epoch 16/20\n",
      "229/229 - 1s - loss: 0.1270 - accuracy: 0.9459 - val_loss: 0.7449 - val_accuracy: 0.8386\n",
      "Epoch 17/20\n",
      "229/229 - 1s - loss: 0.1194 - accuracy: 0.9488 - val_loss: 0.8259 - val_accuracy: 0.8390\n",
      "Epoch 18/20\n",
      "229/229 - 1s - loss: 0.1139 - accuracy: 0.9509 - val_loss: 0.8448 - val_accuracy: 0.8367\n",
      "Epoch 19/20\n",
      "229/229 - 1s - loss: 0.1084 - accuracy: 0.9522 - val_loss: 0.9222 - val_accuracy: 0.8403\n",
      "Epoch 20/20\n",
      "229/229 - 1s - loss: 0.1062 - accuracy: 0.9532 - val_loss: 0.9094 - val_accuracy: 0.8352\n"
     ]
    }
   ],
   "source": [
    "rnn_model = rnn_model()\n",
    "rnn_model.compile(optimizer='adam',\n",
    "              loss='binary_crossentropy',\n",
    "              metrics=['accuracy'])\n",
    "rnn_train = rnn_model.fit(x_train,y_train,epochs=20,batch_size = 512,validation_data =(x_val,y_val),verbose=2)"
   ]
  },
  {
   "cell_type": "code",
   "execution_count": 38,
   "id": "0beca1df",
   "metadata": {
    "scrolled": true
   },
   "outputs": [
    {
     "name": "stdout",
     "output_type": "stream",
     "text": [
      "Model: \"sequential_1\"\n",
      "_________________________________________________________________\n",
      "Layer (type)                 Output Shape              Param #   \n",
      "=================================================================\n",
      "embedding_1 (Embedding)      (None, None, 200)         2000000   \n",
      "_________________________________________________________________\n",
      "conv1d (Conv1D)              (None, None, 16)          22416     \n",
      "_________________________________________________________________\n",
      "max_pooling1d (MaxPooling1D) (None, None, 16)          0         \n",
      "_________________________________________________________________\n",
      "conv1d_1 (Conv1D)            (None, None, 16)          1808      \n",
      "_________________________________________________________________\n",
      "global_max_pooling1d (Global (None, 16)                0         \n",
      "_________________________________________________________________\n",
      "dense_2 (Dense)              (None, 8)                 136       \n",
      "_________________________________________________________________\n",
      "dropout_1 (Dropout)          (None, 8)                 0         \n",
      "_________________________________________________________________\n",
      "dense_3 (Dense)              (None, 1)                 9         \n",
      "=================================================================\n",
      "Total params: 2,024,369\n",
      "Trainable params: 2,024,369\n",
      "Non-trainable params: 0\n",
      "_________________________________________________________________\n",
      "Epoch 1/20\n",
      "229/229 - 3s - loss: 0.5908 - accuracy: 0.6614 - val_loss: 0.4768 - val_accuracy: 0.7585\n",
      "Epoch 2/20\n",
      "229/229 - 1s - loss: 0.4997 - accuracy: 0.7434 - val_loss: 0.4602 - val_accuracy: 0.7647\n",
      "Epoch 3/20\n",
      "229/229 - 1s - loss: 0.4504 - accuracy: 0.7854 - val_loss: 0.4574 - val_accuracy: 0.7666\n",
      "Epoch 4/20\n",
      "229/229 - 1s - loss: 0.3981 - accuracy: 0.8149 - val_loss: 0.4827 - val_accuracy: 0.7607\n",
      "Epoch 5/20\n",
      "229/229 - 1s - loss: 0.3461 - accuracy: 0.8410 - val_loss: 0.5236 - val_accuracy: 0.7567\n",
      "Epoch 6/20\n",
      "229/229 - 1s - loss: 0.3040 - accuracy: 0.8591 - val_loss: 0.5830 - val_accuracy: 0.7513\n",
      "Epoch 7/20\n",
      "229/229 - 1s - loss: 0.2746 - accuracy: 0.8714 - val_loss: 0.6681 - val_accuracy: 0.7487\n",
      "Epoch 8/20\n",
      "229/229 - 1s - loss: 0.2543 - accuracy: 0.8803 - val_loss: 0.7236 - val_accuracy: 0.7479\n",
      "Epoch 9/20\n",
      "229/229 - 1s - loss: 0.2439 - accuracy: 0.8819 - val_loss: 0.7839 - val_accuracy: 0.7462\n",
      "Epoch 10/20\n",
      "229/229 - 1s - loss: 0.2317 - accuracy: 0.8878 - val_loss: 0.8748 - val_accuracy: 0.7435\n",
      "Epoch 11/20\n",
      "229/229 - 1s - loss: 0.2245 - accuracy: 0.8890 - val_loss: 0.9321 - val_accuracy: 0.7454\n",
      "Epoch 12/20\n",
      "229/229 - 1s - loss: 0.2186 - accuracy: 0.8913 - val_loss: 0.9829 - val_accuracy: 0.7437\n",
      "Epoch 13/20\n",
      "229/229 - 1s - loss: 0.2162 - accuracy: 0.8923 - val_loss: 1.0472 - val_accuracy: 0.7433\n",
      "Epoch 14/20\n",
      "229/229 - 1s - loss: 0.2112 - accuracy: 0.8941 - val_loss: 1.0610 - val_accuracy: 0.7410\n",
      "Epoch 15/20\n",
      "229/229 - 1s - loss: 0.2107 - accuracy: 0.8942 - val_loss: 1.1982 - val_accuracy: 0.7390\n",
      "Epoch 16/20\n",
      "229/229 - 1s - loss: 0.2045 - accuracy: 0.8963 - val_loss: 1.2654 - val_accuracy: 0.7420\n",
      "Epoch 17/20\n",
      "229/229 - 1s - loss: 0.2008 - accuracy: 0.8974 - val_loss: 1.3012 - val_accuracy: 0.7420\n",
      "Epoch 18/20\n",
      "229/229 - 1s - loss: 0.2007 - accuracy: 0.8971 - val_loss: 1.3635 - val_accuracy: 0.7403\n",
      "Epoch 19/20\n",
      "229/229 - 1s - loss: 0.1997 - accuracy: 0.8982 - val_loss: 1.3040 - val_accuracy: 0.7408\n",
      "Epoch 20/20\n",
      "229/229 - 1s - loss: 0.1993 - accuracy: 0.8984 - val_loss: 1.3791 - val_accuracy: 0.7361\n"
     ]
    }
   ],
   "source": [
    "cnn_1d_model = cnn_1d_model()\n",
    "cnn_1d_model.compile(optimizer='adam',\n",
    "              loss='binary_crossentropy',\n",
    "              metrics=['accuracy'])\n",
    "cnn_1d_train = cnn_1d_model.fit(x_train,y_train,epochs=20,batch_size = 512,validation_data =(x_val,y_val),verbose=2)"
   ]
  },
  {
   "cell_type": "code",
   "execution_count": 39,
   "id": "3f341881",
   "metadata": {
    "scrolled": true
   },
   "outputs": [
    {
     "name": "stdout",
     "output_type": "stream",
     "text": [
      "Model: \"sequential_2\"\n",
      "_________________________________________________________________\n",
      "Layer (type)                 Output Shape              Param #   \n",
      "=================================================================\n",
      "embedding_2 (Embedding)      (None, None, 300)         3000000   \n",
      "_________________________________________________________________\n",
      "global_max_pooling1d_1 (Glob (None, 300)               0         \n",
      "_________________________________________________________________\n",
      "dense_4 (Dense)              (None, 10)                3010      \n",
      "_________________________________________________________________\n",
      "dropout_2 (Dropout)          (None, 10)                0         \n",
      "_________________________________________________________________\n",
      "dense_5 (Dense)              (None, 1)                 11        \n",
      "=================================================================\n",
      "Total params: 3,003,021\n",
      "Trainable params: 3,003,021\n",
      "Non-trainable params: 0\n",
      "_________________________________________________________________\n",
      "Epoch 1/20\n",
      "229/229 - 2s - loss: 0.5230 - accuracy: 0.7553 - val_loss: 0.3678 - val_accuracy: 0.8433\n",
      "Epoch 2/20\n",
      "229/229 - 1s - loss: 0.3709 - accuracy: 0.8554 - val_loss: 0.3417 - val_accuracy: 0.8497\n",
      "Epoch 3/20\n",
      "229/229 - 1s - loss: 0.3177 - accuracy: 0.8833 - val_loss: 0.3412 - val_accuracy: 0.8522\n",
      "Epoch 4/20\n",
      "229/229 - 1s - loss: 0.2753 - accuracy: 0.9057 - val_loss: 0.3520 - val_accuracy: 0.8522\n",
      "Epoch 5/20\n",
      "229/229 - 1s - loss: 0.2335 - accuracy: 0.9231 - val_loss: 0.3771 - val_accuracy: 0.8516\n",
      "Epoch 6/20\n",
      "229/229 - 1s - loss: 0.1965 - accuracy: 0.9383 - val_loss: 0.3983 - val_accuracy: 0.8482\n",
      "Epoch 7/20\n",
      "229/229 - 1s - loss: 0.1589 - accuracy: 0.9528 - val_loss: 0.4437 - val_accuracy: 0.8481\n",
      "Epoch 8/20\n",
      "229/229 - 1s - loss: 0.1272 - accuracy: 0.9639 - val_loss: 0.4855 - val_accuracy: 0.8443\n",
      "Epoch 9/20\n",
      "229/229 - 1s - loss: 0.1012 - accuracy: 0.9725 - val_loss: 0.5508 - val_accuracy: 0.8435\n",
      "Epoch 10/20\n",
      "229/229 - 1s - loss: 0.0824 - accuracy: 0.9787 - val_loss: 0.6095 - val_accuracy: 0.8409\n",
      "Epoch 11/20\n",
      "229/229 - 1s - loss: 0.0695 - accuracy: 0.9818 - val_loss: 0.6586 - val_accuracy: 0.8435\n",
      "Epoch 12/20\n",
      "229/229 - 1s - loss: 0.0596 - accuracy: 0.9847 - val_loss: 0.7032 - val_accuracy: 0.8424\n",
      "Epoch 13/20\n",
      "229/229 - 1s - loss: 0.0535 - accuracy: 0.9861 - val_loss: 0.7781 - val_accuracy: 0.8403\n",
      "Epoch 14/20\n",
      "229/229 - 1s - loss: 0.0474 - accuracy: 0.9878 - val_loss: 0.8355 - val_accuracy: 0.8399\n",
      "Epoch 15/20\n",
      "229/229 - 1s - loss: 0.0441 - accuracy: 0.9882 - val_loss: 0.8763 - val_accuracy: 0.8402\n",
      "Epoch 16/20\n",
      "229/229 - 1s - loss: 0.0409 - accuracy: 0.9889 - val_loss: 0.9322 - val_accuracy: 0.8410\n",
      "Epoch 17/20\n",
      "229/229 - 1s - loss: 0.0380 - accuracy: 0.9892 - val_loss: 0.9652 - val_accuracy: 0.8428\n",
      "Epoch 18/20\n",
      "229/229 - 1s - loss: 0.0378 - accuracy: 0.9893 - val_loss: 1.0075 - val_accuracy: 0.8423\n",
      "Epoch 19/20\n",
      "229/229 - 1s - loss: 0.0361 - accuracy: 0.9899 - val_loss: 1.0468 - val_accuracy: 0.8393\n",
      "Epoch 20/20\n",
      "229/229 - 1s - loss: 0.0335 - accuracy: 0.9905 - val_loss: 1.1372 - val_accuracy: 0.8385\n"
     ]
    }
   ],
   "source": [
    "globalmaxpool_model = globalmaxpool_model()\n",
    "globalmaxpool_model.compile(optimizer='adam',\n",
    "              loss='binary_crossentropy',\n",
    "              metrics=['accuracy'])\n",
    "globalmaxpool_train = globalmaxpool_model.fit(x_train,y_train,epochs=20,batch_size = 512,validation_data =(x_val,y_val),verbose=2)"
   ]
  },
  {
   "cell_type": "code",
   "execution_count": 40,
   "id": "c79b28ad",
   "metadata": {},
   "outputs": [],
   "source": [
    "rnn_loss=pd.DataFrame(rnn_train.history)\n",
    "cnn_1d_loss=pd.DataFrame(cnn_1d_train.history)\n",
    "globalmaxpool_loss=pd.DataFrame(globalmaxpool_train.history)"
   ]
  },
  {
   "cell_type": "code",
   "execution_count": 41,
   "id": "8daff6f2",
   "metadata": {},
   "outputs": [
    {
     "data": {
      "text/plain": [
       "(0.0, 1.0)"
      ]
     },
     "execution_count": 41,
     "metadata": {},
     "output_type": "execute_result"
    },
    {
     "data": {
      "image/png": "[encoded data removed]",
      "text/plain": [
       "<Figure size 1440x360 with 3 Axes>"
      ]
     },
     "metadata": {
      "needs_background": "light"
     },
     "output_type": "display_data"
    }
   ],
   "source": [
    "plt.figure(figsize = (20,5))\n",
    "plt.subplot(1,3,1)\n",
    "plt.plot(rnn_loss['loss'])\n",
    "plt.plot(rnn_loss['val_loss'])\n",
    "plt.ylim((0,1))\n",
    "\n",
    "plt.subplot(1,3,2)\n",
    "plt.plot(cnn_1d_loss['loss'])\n",
    "plt.plot(cnn_1d_loss['val_loss'])\n",
    "plt.ylim((0,1))\n",
    "plt.subplot(1,3,3)\n",
    "plt.plot(globalmaxpool_loss['loss'])\n",
    "plt.plot(globalmaxpool_loss['val_loss'])\n",
    "plt.ylim((0,1))"
   ]
  },
  {
   "cell_type": "markdown",
   "id": "44d99473",
   "metadata": {},
   "source": [
    "에포크 초기 부터 오버피팅 발생 >> early stop 필요\n",
    "rnn model이 가장 성능이 놓음"
   ]
  },
  {
   "cell_type": "code",
   "execution_count": 45,
   "id": "291b6e5f",
   "metadata": {},
   "outputs": [
    {
     "name": "stdout",
     "output_type": "stream",
     "text": [
      "Model: \"sequential_3\"\n",
      "_________________________________________________________________\n",
      "Layer (type)                 Output Shape              Param #   \n",
      "=================================================================\n",
      "embedding_3 (Embedding)      (None, None, 200)         2000000   \n",
      "_________________________________________________________________\n",
      "lstm_1 (LSTM)                (None, 10)                8440      \n",
      "_________________________________________________________________\n",
      "dense_6 (Dense)              (None, 10)                110       \n",
      "_________________________________________________________________\n",
      "dropout_3 (Dropout)          (None, 10)                0         \n",
      "_________________________________________________________________\n",
      "dense_7 (Dense)              (None, 1)                 11        \n",
      "=================================================================\n",
      "Total params: 2,008,561\n",
      "Trainable params: 2,008,561\n",
      "Non-trainable params: 0\n",
      "_________________________________________________________________\n",
      "Epoch 1/3\n",
      "229/229 - 3s - loss: 0.4793 - accuracy: 0.7844 - val_loss: 0.3626 - val_accuracy: 0.8421\n",
      "Epoch 2/3\n",
      "229/229 - 1s - loss: 0.3699 - accuracy: 0.8546 - val_loss: 0.3430 - val_accuracy: 0.8457\n",
      "Epoch 3/3\n",
      "229/229 - 1s - loss: 0.3374 - accuracy: 0.8675 - val_loss: 0.3436 - val_accuracy: 0.8503\n"
     ]
    }
   ],
   "source": [
    "rnn_model = rnn_model()\n",
    "rnn_model.compile(optimizer='adam',\n",
    "              loss='binary_crossentropy',\n",
    "              metrics=['accuracy'])\n",
    "rnn_train = rnn_model.fit(x_train,y_train,epochs=3,batch_size = 512,validation_data =(x_val,y_val),verbose=2)"
   ]
  },
  {
   "cell_type": "code",
   "execution_count": 46,
   "id": "9d63bcfc",
   "metadata": {},
   "outputs": [
    {
     "name": "stdout",
     "output_type": "stream",
     "text": [
      "(10000, 200)\n"
     ]
    }
   ],
   "source": [
    "embedding_layer = rnn_model.layers[0]\n",
    "weights =embedding_layer.get_weights()[0]\n",
    "print(weights.shape)"
   ]
  },
  {
   "cell_type": "code",
   "execution_count": 47,
   "id": "52540fbe",
   "metadata": {},
   "outputs": [],
   "source": [
    "word2vec_file_path = os.getenv('HOME')+'/aiffel/sentiment_classification/data/word2vec.txt'\n",
    "f = open(word2vec_file_path, 'w')\n",
    "f.write('{} {}\\n'.format(9996, 200))  # 몇개의 벡터를 얼마 사이즈로 기재할지 타이틀을 씁니다.\n",
    "\n",
    "# 단어 개수(에서 특수문자 4개는 제외하고)만큼의 워드 벡터를 파일에 기록합니다. \n",
    "vectors = rnn_model.get_weights()[0]\n",
    "for i in range(4,10000):\n",
    "    f.write('{} {}\\n'.format(index_to_word[i], ' '.join(map(str, list(vectors[i, :])))))\n",
    "f.close()"
   ]
  },
  {
   "cell_type": "code",
   "execution_count": 48,
   "id": "1610b67f",
   "metadata": {},
   "outputs": [
    {
     "name": "stderr",
     "output_type": "stream",
     "text": [
      "/tmp/ipykernel_1075/1439624439.py:3: DeprecationWarning: Call to deprecated `__getitem__` (Method will be removed in 4.0.0, use self.wv.__getitem__() instead).\n",
      "  vector = word2vec['영화']\n"
     ]
    },
    {
     "data": {
      "text/plain": [
       "array([-1.7577837 , -1.0874279 ,  1.5300866 , -0.1115231 , -0.37980682,\n",
       "        1.4828517 ,  1.3180419 ,  0.11094163,  0.7430535 , -0.45461136,\n",
       "        0.58841336,  0.5763913 ,  1.210707  ,  1.3132795 , -0.86962503,\n",
       "       -0.18507595, -0.47440064,  1.5100725 ,  1.0965794 ,  1.0600823 ,\n",
       "       -0.27457932, -0.70003706,  2.3117511 ,  1.4944884 ,  0.25560892,\n",
       "       -2.866659  , -0.28312334,  0.34263936, -0.67723423,  0.71714777,\n",
       "        0.25549442,  0.71732044, -0.13262457,  0.01792452, -0.3184774 ,\n",
       "        0.5271619 ,  0.7561084 , -2.1247065 ,  1.061429  , -0.21065854,\n",
       "        0.6877343 , -1.4956383 ,  0.60346967, -2.6955893 ,  0.37694618,\n",
       "       -1.0164185 ,  0.5430663 ,  0.1200121 , -2.6315718 ,  0.6216742 ,\n",
       "        1.1583976 , -2.5385962 ,  1.326312  , -0.10284371, -0.0286147 ,\n",
       "       -0.9132947 ,  0.7647564 ,  0.79202783, -1.8625957 , -0.7418395 ,\n",
       "        0.5884277 , -0.9917992 , -0.62114453,  1.5367815 , -0.6628939 ,\n",
       "        0.6712103 ,  0.12914915,  0.21228492,  0.9017655 , -0.25083402,\n",
       "        0.71500814,  0.08644514,  0.59993285,  0.5766137 ,  0.64095974,\n",
       "        0.47888306, -2.8426213 , -2.8502681 , -0.140544  , -1.5917364 ,\n",
       "        0.26691505,  0.59476066,  0.85868204,  1.0322351 ,  0.25671318,\n",
       "       -0.34831643,  1.752927  , -0.21967097, -0.77352476,  1.6995213 ,\n",
       "        1.3996491 , -0.9419836 ,  0.85996443, -1.8812876 , -2.5428605 ,\n",
       "        0.39351937, -1.2882805 ,  0.56548136,  1.006273  ,  1.2217585 ,\n",
       "        3.5744793 ,  1.717737  ,  1.6917158 , -2.2176905 , -0.3167447 ,\n",
       "        1.2449    , -1.255284  , -2.1539652 , -1.096709  , -0.74976933,\n",
       "       -0.16744931, -1.8507233 ,  2.1861036 , -0.05389732,  1.038033  ,\n",
       "        0.33730686, -1.4647075 , -1.264041  ,  0.25509247,  0.0622906 ,\n",
       "        0.27852032, -0.52661455,  0.8529616 ,  0.58257025, -0.57665855,\n",
       "        1.3990631 ,  0.28237963,  1.6566037 ,  1.9912103 ,  0.63888913,\n",
       "        0.7732426 , -1.3757724 ,  0.17209321, -0.2433672 ,  0.6328291 ,\n",
       "        1.486971  ,  2.3435354 , -1.7037928 ,  3.1944559 , -1.9049606 ,\n",
       "       -0.51309574,  0.79082954, -1.4480313 , -0.68631476,  0.62008876,\n",
       "       -2.3400223 , -0.5785594 ,  0.5270694 ,  3.0061607 , -1.3661511 ,\n",
       "       -2.7953272 , -1.1794031 , -0.27734265,  0.71130925, -0.06620383,\n",
       "        0.33663416,  0.7204997 , -0.923218  , -2.1603265 , -0.8904896 ,\n",
       "       -1.4137112 , -0.4189144 ,  0.42834592,  1.8104875 , -1.8274456 ,\n",
       "       -0.26700613,  0.7743727 ,  0.80048114,  1.1333636 ,  3.2746978 ,\n",
       "       -0.0188297 ,  0.9245737 , -0.1246058 , -0.5802861 , -0.01926111,\n",
       "        1.05892   , -1.4247856 ,  1.0689156 ,  2.5728712 , -1.294882  ,\n",
       "        0.74771804,  1.3066916 , -1.3213431 ,  1.6501019 , -0.12401557,\n",
       "        0.96340084,  0.26050946,  1.3826336 , -0.02877662,  2.3431563 ,\n",
       "       -0.26337367,  1.9162012 , -0.77454543,  1.7392642 ,  0.08038983,\n",
       "       -0.60325927,  0.29508227,  0.4812675 ,  0.5271086 ,  0.94171894],\n",
       "      dtype=float32)"
      ]
     },
     "execution_count": 48,
     "metadata": {},
     "output_type": "execute_result"
    }
   ],
   "source": [
    "word2vec_path = os.getenv('HOME')+'/aiffel/sentiment_classification/ko.bin'\n",
    "word2vec = Word2Vec.load(word2vec_path)\n",
    "vector = word2vec['영화']\n",
    "vector "
   ]
  },
  {
   "cell_type": "code",
   "execution_count": 51,
   "id": "91cca96a",
   "metadata": {},
   "outputs": [
    {
     "data": {
      "text/plain": [
       "[('취미', 0.5857348442077637),\n",
       " ('유머', 0.5140613913536072),\n",
       " ('매력', 0.5105490684509277),\n",
       " ('흥미', 0.4988338351249695),\n",
       " ('공짜', 0.4960595667362213),\n",
       " ('일자리', 0.49294644594192505),\n",
       " ('즐거움', 0.48700767755508423),\n",
       " ('비애', 0.4836210310459137),\n",
       " ('관객', 0.48286449909210205),\n",
       " ('향수', 0.4823310971260071)]"
      ]
     },
     "execution_count": 51,
     "metadata": {},
     "output_type": "execute_result"
    }
   ],
   "source": [
    "word2vec.wv.most_similar(\"재미\")"
   ]
  },
  {
   "cell_type": "code",
   "execution_count": 52,
   "id": "8197d8cc",
   "metadata": {},
   "outputs": [
    {
     "name": "stderr",
     "output_type": "stream",
     "text": [
      "/tmp/ipykernel_1075/1730871920.py:7: DeprecationWarning: Call to deprecated `__contains__` (Method will be removed in 4.0.0, use self.wv.__contains__() instead).\n",
      "  if index_to_word[i] in word2vec:\n",
      "/tmp/ipykernel_1075/1730871920.py:8: DeprecationWarning: Call to deprecated `__getitem__` (Method will be removed in 4.0.0, use self.wv.__getitem__() instead).\n",
      "  embedding_matrix[i] = word2vec[index_to_word[i]]\n"
     ]
    }
   ],
   "source": [
    "vocab_size = 10000    # 어휘 사전의 크기입니다(10,000개의 단어)\n",
    "word_vector_dim = 200  # 워드 벡터의 차원수\n",
    "embedding_matrix = np.random.rand(vocab_size, word_vector_dim)\n",
    "\n",
    "# embedding_matrix에 Word2Vec 워드 벡터를 단어 하나씩마다 차례차례 카피한다.\n",
    "for i in range(4,vocab_size):\n",
    "    if index_to_word[i] in word2vec:\n",
    "        embedding_matrix[i] = word2vec[index_to_word[i]]"
   ]
  },
  {
   "cell_type": "code",
   "execution_count": 55,
   "id": "c52bf3d5",
   "metadata": {},
   "outputs": [
    {
     "name": "stdout",
     "output_type": "stream",
     "text": [
      "Model: \"sequential_5\"\n",
      "_________________________________________________________________\n",
      "Layer (type)                 Output Shape              Param #   \n",
      "=================================================================\n",
      "embedding_4 (Embedding)      (None, 45, 200)           2000000   \n",
      "_________________________________________________________________\n",
      "conv1d_2 (Conv1D)            (None, 39, 16)            22416     \n",
      "_________________________________________________________________\n",
      "max_pooling1d_1 (MaxPooling1 (None, 7, 16)             0         \n",
      "_________________________________________________________________\n",
      "conv1d_3 (Conv1D)            (None, 1, 16)             1808      \n",
      "_________________________________________________________________\n",
      "global_max_pooling1d_2 (Glob (None, 16)                0         \n",
      "_________________________________________________________________\n",
      "dense_8 (Dense)              (None, 8)                 136       \n",
      "_________________________________________________________________\n",
      "dropout_4 (Dropout)          (None, 8)                 0         \n",
      "_________________________________________________________________\n",
      "dense_9 (Dense)              (None, 1)                 9         \n",
      "=================================================================\n",
      "Total params: 2,024,369\n",
      "Trainable params: 2,024,369\n",
      "Non-trainable params: 0\n",
      "_________________________________________________________________\n"
     ]
    }
   ],
   "source": [
    "model = tf.keras.Sequential()\n",
    "model.add(tf.keras.layers.Embedding(vocab_size, \n",
    "                                 word_vector_dim, \n",
    "                                 embeddings_initializer=Constant(embedding_matrix),  # 카피한 임베딩을 여기서 활용\n",
    "                                 input_length=maxlen, \n",
    "                                 trainable=True))   # trainable을 True로 주면 Fine-tuning\n",
    "model.add(tf.keras.layers.Conv1D(16, 7, activation='relu'))\n",
    "model.add(tf.keras.layers.MaxPooling1D(5))\n",
    "model.add(tf.keras.layers.Conv1D(16, 7, activation='relu'))\n",
    "model.add(tf.keras.layers.GlobalMaxPooling1D())\n",
    "model.add(tf.keras.layers.Dense(8, activation='relu'))\n",
    "model.add(tf.keras.layers.Dropout(0.5))\n",
    "model.add(tf.keras.layers.Dense(1, activation='sigmoid')) \n",
    "\n",
    "model.summary()"
   ]
  },
  {
   "cell_type": "code",
   "execution_count": 57,
   "id": "b5020b17",
   "metadata": {},
   "outputs": [
    {
     "name": "stdout",
     "output_type": "stream",
     "text": [
      "Epoch 1/20\n",
      "229/229 [==============================] - 2s 8ms/step - loss: 0.6564 - accuracy: 0.6003 - val_loss: 0.5810 - val_accuracy: 0.6893\n",
      "Epoch 2/20\n",
      "229/229 [==============================] - 2s 7ms/step - loss: 0.5780 - accuracy: 0.7110 - val_loss: 0.5302 - val_accuracy: 0.7304\n",
      "Epoch 3/20\n",
      "229/229 [==============================] - 2s 7ms/step - loss: 0.5338 - accuracy: 0.7422 - val_loss: 0.4976 - val_accuracy: 0.7459\n",
      "Epoch 4/20\n",
      "229/229 [==============================] - 2s 7ms/step - loss: 0.5026 - accuracy: 0.7635 - val_loss: 0.4932 - val_accuracy: 0.7543\n",
      "Epoch 5/20\n",
      "229/229 [==============================] - 2s 7ms/step - loss: 0.4778 - accuracy: 0.7769 - val_loss: 0.4948 - val_accuracy: 0.7571\n",
      "Epoch 6/20\n",
      "229/229 [==============================] - 2s 7ms/step - loss: 0.4608 - accuracy: 0.7869 - val_loss: 0.4914 - val_accuracy: 0.7507\n",
      "Epoch 7/20\n",
      "229/229 [==============================] - 2s 7ms/step - loss: 0.4424 - accuracy: 0.7958 - val_loss: 0.5091 - val_accuracy: 0.7532\n",
      "Epoch 8/20\n",
      "229/229 [==============================] - 2s 7ms/step - loss: 0.4241 - accuracy: 0.8066 - val_loss: 0.5129 - val_accuracy: 0.7521\n",
      "Epoch 9/20\n",
      "229/229 [==============================] - 2s 7ms/step - loss: 0.4094 - accuracy: 0.8138 - val_loss: 0.5289 - val_accuracy: 0.7514\n",
      "Epoch 10/20\n",
      "229/229 [==============================] - 2s 7ms/step - loss: 0.3914 - accuracy: 0.8229 - val_loss: 0.5566 - val_accuracy: 0.7514\n",
      "Epoch 11/20\n",
      "229/229 [==============================] - 2s 7ms/step - loss: 0.3701 - accuracy: 0.8354 - val_loss: 0.5941 - val_accuracy: 0.7508\n",
      "Epoch 12/20\n",
      "229/229 [==============================] - 2s 7ms/step - loss: 0.3481 - accuracy: 0.8459 - val_loss: 0.6480 - val_accuracy: 0.7509\n",
      "Epoch 13/20\n",
      "229/229 [==============================] - 2s 7ms/step - loss: 0.3334 - accuracy: 0.8531 - val_loss: 0.6258 - val_accuracy: 0.7404\n",
      "Epoch 14/20\n",
      "229/229 [==============================] - 2s 7ms/step - loss: 0.3209 - accuracy: 0.8589 - val_loss: 0.7457 - val_accuracy: 0.7487\n",
      "Epoch 15/20\n",
      "229/229 [==============================] - 2s 7ms/step - loss: 0.3086 - accuracy: 0.8643 - val_loss: 0.7124 - val_accuracy: 0.7453\n",
      "Epoch 16/20\n",
      "229/229 [==============================] - 2s 7ms/step - loss: 0.2980 - accuracy: 0.8689 - val_loss: 0.8067 - val_accuracy: 0.7416\n",
      "Epoch 17/20\n",
      "229/229 [==============================] - 2s 7ms/step - loss: 0.2880 - accuracy: 0.8731 - val_loss: 0.7867 - val_accuracy: 0.7463\n",
      "Epoch 18/20\n",
      "229/229 [==============================] - 2s 7ms/step - loss: 0.2812 - accuracy: 0.8769 - val_loss: 0.8539 - val_accuracy: 0.7457\n",
      "Epoch 19/20\n",
      "229/229 [==============================] - 2s 7ms/step - loss: 0.2714 - accuracy: 0.8797 - val_loss: 0.8873 - val_accuracy: 0.7427\n",
      "Epoch 20/20\n",
      "229/229 [==============================] - 2s 7ms/step - loss: 0.2670 - accuracy: 0.8829 - val_loss: 0.8896 - val_accuracy: 0.7410\n"
     ]
    }
   ],
   "source": [
    "model.compile(optimizer='adam',\n",
    "              loss='binary_crossentropy',\n",
    "              metrics=['accuracy'])\n",
    "              \n",
    "epochs=20  # 몇 epoch를 훈련하면 좋을지 결과를 보면서 바꾸어 봅시다. \n",
    "\n",
    "history = model.fit(x_train,\n",
    "                    y_train,\n",
    "                    epochs=20,\n",
    "                    batch_size=512,\n",
    "                    validation_data=(x_val, y_val),\n",
    "                    verbose=1)"
   ]
  },
  {
   "cell_type": "code",
   "execution_count": 58,
   "id": "0248d5e5",
   "metadata": {},
   "outputs": [],
   "source": [
    "fine_hist = pd.DataFrame(history.history)"
   ]
  },
  {
   "cell_type": "code",
   "execution_count": 60,
   "id": "a0663c4b",
   "metadata": {},
   "outputs": [
    {
     "data": {
      "text/plain": [
       "(0.0, 1.0)"
      ]
     },
     "execution_count": 60,
     "metadata": {},
     "output_type": "execute_result"
    },
    {
     "data": {
      "image/png": "[encoded data removed]",
      "text/plain": [
       "<Figure size 360x360 with 1 Axes>"
      ]
     },
     "metadata": {
      "needs_background": "light"
     },
     "output_type": "display_data"
    }
   ],
   "source": [
    "plt.figure(figsize = (5,5))\n",
    "plt.plot(fine_hist['loss'])\n",
    "plt.plot(fine_hist['val_loss'])\n",
    "plt.ylim((0,1))"
   ]
  },
  {
   "cell_type": "markdown",
   "id": "28bab3f1",
   "metadata": {},
   "source": [
    "## 회고\n",
    "* 전이학습이 마냥 좋은 것은 아니다\n",
    "* 한국어 형태에 대한 지식이 부족"
   ]
  }
 ],
 "metadata": {
  "kernelspec": {
   "display_name": "Python 3 (ipykernel)",
   "language": "python",
   "name": "python3"
  },
  "language_info": {
   "codemirror_mode": {
    "name": "ipython",
    "version": 3
   },
   "file_extension": ".py",
   "mimetype": "text/x-python",
   "name": "python",
   "nbconvert_exporter": "python",
   "pygments_lexer": "ipython3",
   "version": "3.9.7"
  }
 },
 "nbformat": 4,
 "nbformat_minor": 5
}
